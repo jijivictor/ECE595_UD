{
  "cells": [
    {
      "cell_type": "code",
      "execution_count": 90,
      "metadata": {
        "id": "YhqXxpamFARq"
      },
      "outputs": [
        {
          "name": "stderr",
          "output_type": "stream",
          "text": [
            "'nvidia-smi' is not recognized as an internal or external command,\n",
            "operable program or batch file.\n"
          ]
        }
      ],
      "source": [
        "#!nvidia-smi # Check whether your system has a GPU"
      ]
    },
    {
      "cell_type": "markdown",
      "metadata": {
        "id": "pTN7o73CxpU0"
      },
      "source": [
        "# Import packages"
      ]
    },
    {
      "cell_type": "code",
      "execution_count": 1,
      "metadata": {
        "id": "9NoduTJIqEvv"
      },
      "outputs": [],
      "source": [
        "import numpy as np\n",
        "import cv2\n",
        "import torch \n",
        "import torchvision\n",
        "import matplotlib.pyplot as plt\n",
        "from time import time\n",
        "from torchvision import datasets, transforms\n",
        "from torch import nn, optim\n",
        "from tqdm import tqdm"
      ]
    },
    {
      "cell_type": "markdown",
      "metadata": {
        "id": "d_ycU-vBtaCv"
      },
      "source": [
        "numpy \n",
        "- A scientific computing library\n",
        "- Supports array operations and manipulations\n",
        "- Built-in functions like array sum, diff, mean, average, min, max etc.\n",
        "\n",
        "cv2\n",
        "- To read and write images\n",
        "- To perform basic vision algorithms like RGB to HSV, Gaussian Blur, Dilation, Histogram, Shape detection etc.\n",
        "\n",
        "torch\n",
        "- The open source ML framework for deep learning\n",
        "- Has a pythonic interface\n",
        "\n",
        "torchvision\n",
        "- consists of popular datasets, model architectures, and common image transformations for computer vision\n",
        "- Contains built in data augmentations\n",
        "\n",
        "matplotlib\n",
        "- It is a data visualization library for python\n",
        "- It supports graphical plotting and viewing images and other data\n",
        "\n",
        "nn\n",
        "- The base module with which we can create and train neural nets\n",
        "- Provides built-in classes for common neural network layers like Conv, Pooling, Activations, Normalizations, Dropout etc.\n",
        "\n",
        "optim\n",
        "- It is a package for implementing various optimization algorithms for model training\n",
        "- Built-in optimizers like SGD, Adam, Adagrad, RMSprop etc.\n",
        "\n",
        "tqdm\n",
        "- It is a library used to display a progress bar for loops"
      ]
    },
    {
      "cell_type": "markdown",
      "metadata": {
        "id": "k8Qbwuzdx0dH"
      },
      "source": [
        "# Preprocess inputs"
      ]
    },
    {
      "cell_type": "code",
      "execution_count": 2,
      "metadata": {
        "id": "rVcCk-6TyvEy"
      },
      "outputs": [],
      "source": [
        "transform = transforms.Compose([transforms.ToTensor()]) # Define the set of transformations to be applied on the input data"
      ]
    },
    {
      "cell_type": "code",
      "execution_count": null,
      "metadata": {
        "id": "5lFD-xj8qWVc"
      },
      "outputs": [],
      "source": [
        "# transform = transforms.Compose([transforms.ToTensor(),transforms.Normalize((0.5,), (0.5,)),])"
      ]
    },
    {
      "cell_type": "markdown",
      "metadata": {
        "id": "3xeJCeo3yE9Z"
      },
      "source": [
        "ToTensor()\n",
        " - converts the image with a pixel range of [0, 255] to a PyTorch FloatTensor of shape (C, H, W) with a range [0.0, 1.0]"
      ]
    },
    {
      "cell_type": "markdown",
      "metadata": {
        "id": "1uzgtjA4xCnv"
      },
      "source": [
        "Normalize() \n",
        "- output[channel] = (input[channel] - mean[channel]) / std[channel]\n",
        "\n",
        "- Normalization helps get data within a range and reduces the skewness which helps learn faster and better. \n",
        "- Normalization can also tackle the diminishing and exploding gradients problems."
      ]
    },
    {
      "cell_type": "markdown",
      "metadata": {
        "id": "7dZes3DQzlsm"
      },
      "source": [
        "# Create Dataloaders"
      ]
    },
    {
      "cell_type": "markdown",
      "metadata": {
        "id": "p_oL6gEw01fO"
      },
      "source": [
        "- Combines a dataset and a sampler\n",
        "- Provides an iterable over the given dataset\n",
        "- Supports single- or multi-process loading\n",
        "- Customizing loading order\n",
        "- Automatic batching"
      ]
    },
    {
      "cell_type": "code",
      "execution_count": 3,
      "metadata": {
        "id": "i1AcwXIMqY7w"
      },
      "outputs": [],
      "source": [
        "trainset = datasets.MNIST('trainset', download=True, train=True, transform=transform)\n",
        "trainloader = torch.utils.data.DataLoader(trainset, batch_size=8, shuffle=True)"
      ]
    },
    {
      "cell_type": "code",
      "execution_count": 4,
      "metadata": {
        "id": "v-258nSWz5i9"
      },
      "outputs": [],
      "source": [
        "valset = datasets.MNIST('testset', download=True, train=False, transform=transform)\n",
        "valloader = torch.utils.data.DataLoader(valset, batch_size=8, shuffle=True)"
      ]
    },
    {
      "cell_type": "code",
      "execution_count": 5,
      "metadata": {
        "id": "nDZYc7_xz-tM"
      },
      "outputs": [],
      "source": [
        "dataiter = iter(trainloader)"
      ]
    },
    {
      "cell_type": "markdown",
      "metadata": {
        "id": "7Cxx5qFSCMdl"
      },
      "source": [
        "Now that we have an iterator, let's visualize our data"
      ]
    },
    {
      "cell_type": "code",
      "execution_count": 12,
      "metadata": {
        "id": "J9Qg2ipB0Acv"
      },
      "outputs": [],
      "source": [
        "images, gt_labels = next(dataiter) # The first minibatch of data"
      ]
    },
    {
      "cell_type": "code",
      "execution_count": 13,
      "metadata": {
        "id": "MVoe0YEL0Dtu"
      },
      "outputs": [
        {
          "name": "stdout",
          "output_type": "stream",
          "text": [
            "torch.Size([8, 1, 28, 28])\n",
            "torch.Size([8])\n"
          ]
        }
      ],
      "source": [
        "print(images.shape)\n",
        "print(gt_labels.shape)"
      ]
    },
    {
      "cell_type": "code",
      "execution_count": 18,
      "metadata": {
        "id": "rTOnzN15uaN8"
      },
      "outputs": [
        {
          "data": {
            "text/plain": [
              "<matplotlib.image.AxesImage at 0x1990779b880>"
            ]
          },
          "execution_count": 18,
          "metadata": {},
          "output_type": "execute_result"
        },
        {
          "data": {
            "image/png": "[encoded data removed]",
            "text/plain": [
              "<Figure size 640x480 with 1 Axes>"
            ]
          },
          "metadata": {},
          "output_type": "display_data"
        }
      ],
      "source": [
        " # Visualize an image sample\n",
        "plt.imshow(images[4].numpy().squeeze(), cmap='gray_r')"
      ]
    },
    {
      "cell_type": "code",
      "execution_count": 19,
      "metadata": {
        "id": "NBvtMO96ud6w"
      },
      "outputs": [
        {
          "data": {
            "image/png": "[encoded data removed]",
            "text/plain": [
              "<Figure size 640x480 with 8 Axes>"
            ]
          },
          "metadata": {},
          "output_type": "display_data"
        }
      ],
      "source": [
        "# Visualize all images in the minibatch\n",
        "figure = plt.figure()\n",
        "total_samples = 8\n",
        "for index in range(1,total_samples+1):\n",
        "    plt.subplot(2, 4, index)\n",
        "    plt.axis('off')\n",
        "    plt.imshow(images[index-1].numpy().squeeze(), cmap='gray_r')"
      ]
    },
    {
      "cell_type": "code",
      "execution_count": 20,
      "metadata": {
        "id": "9u1I-5qDGiQV"
      },
      "outputs": [
        {
          "name": "stdout",
          "output_type": "stream",
          "text": [
            "tensor([6, 9, 9, 7, 4, 6, 0, 8])\n"
          ]
        }
      ],
      "source": [
        "# Visualize the Ground truth labels\n",
        "print(gt_labels)"
      ]
    },
    {
      "cell_type": "code",
      "execution_count": 21,
      "metadata": {
        "id": "qr_TSdxjGo5k"
      },
      "outputs": [
        {
          "name": "stdout",
          "output_type": "stream",
          "text": [
            "tensor([[0, 0, 0, 0, 0, 0, 1, 0, 0, 0],\n",
            "        [0, 0, 0, 0, 0, 0, 0, 0, 0, 1],\n",
            "        [0, 0, 0, 0, 0, 0, 0, 0, 0, 1],\n",
            "        [0, 0, 0, 0, 0, 0, 0, 1, 0, 0],\n",
            "        [0, 0, 0, 0, 1, 0, 0, 0, 0, 0],\n",
            "        [0, 0, 0, 0, 0, 0, 1, 0, 0, 0],\n",
            "        [1, 0, 0, 0, 0, 0, 0, 0, 0, 0],\n",
            "        [0, 0, 0, 0, 0, 0, 0, 0, 1, 0]])\n"
          ]
        }
      ],
      "source": [
        "# Visualize the onehot encoding of the labels\n",
        "onehot_labels = nn.functional.one_hot(gt_labels, num_classes=10)\n",
        "print(onehot_labels)"
      ]
    },
    {
      "cell_type": "markdown",
      "metadata": {
        "id": "wCn3pKjc_iTF"
      },
      "source": [
        "# Let's build our DNN"
      ]
    },
    {
      "cell_type": "markdown",
      "metadata": {
        "id": "NOB_4UYJGHw4"
      },
      "source": [
        "![dnn_new.jpg](data:image/jpeg;base64,/9j/4AAQSkZJRgABAQAAAQABAAD/4gIoSUNDX1BST0ZJTEUAAQEAAAIYAAAAAAQwAABtbnRyUkdCIFhZWiAAAAAAAAAAAAAAAABhY3NwAAAAAAAAAAAAAAAAAAAAAAAAAAAAAAAAAAAAAQAA9tYAAQAAAADTLQAAAAAAAAAAAAAAAAAAAAAAAAAAAAAAAAAAAAAAAAAAAAAAAAAAAAAAAAAAAAAAAAAAAAlkZXNjAAAA8AAAAHRyWFlaAAABZAAAABRnWFlaAAABeAAAABRiWFlaAAABjAAAABRyVFJDAAABoAAAAChnVFJDAAABoAAAAChiVFJDAAABoAAAACh3dHB0AAAByAAAABRjcHJ0AAAB3AAAADxtbHVjAAAAAAAAAAEAAAAMZW5VUwAAAFgAAAAcAHMAUgBHAEIAAAAAAAAAAAAAAAAAAAAAAAAAAAAAAAAAAAAAAAAAAAAAAAAAAAAAAAAAAAAAAAAAAAAAAAAAAAAAAAAAAAAAAAAAAAAAAAAAAAAAAAAAAFhZWiAAAAAAAABvogAAOPUAAAOQWFlaIAAAAAAAAGKZAAC3hQAAGNpYWVogAAAAAAAAJKAAAA+EAAC2z3BhcmEAAAAAAAQAAAACZmYAAPKnAAANWQAAE9AAAApbAAAAAAAAAABYWVogAAAAAAAA9tYAAQAAAADTLW1sdWMAAAAAAAAAAQAAAAxlblVTAAAAIAAAABwARwBvAG8AZwBsAGUAIABJAG4AYwAuACAAMgAwADEANv/bAEMAAwICAgICAwICAgMDAwMEBgQEBAQECAYGBQYJCAoKCQgJCQoMDwwKCw4LCQkNEQ0ODxAQERAKDBITEhATDxAQEP/bAEMBAwMDBAMECAQECBALCQsQEBAQEBAQEBAQEBAQEBAQEBAQEBAQEBAQEBAQEBAQEBAQEBAQEBAQEBAQEBAQEBAQEP/AABEIAWoCzwMBIgACEQEDEQH/xAAdAAEAAgMBAQEBAAAAAAAAAAAABgcEBQgDAgEJ/8QAVhAAAQMEAQIDBQQFBwoDBAgHAQIDBAAFBhEHEiETMUEIFCIyURUjQmEWF1JxgRgzU1dilJUJJENVcoKRk9LTNERjVHN0oSYnNThkg5KiNkaxtcHR8P/EABQBAQAAAAAAAAAAAAAAAAAAAAD/xAAUEQEAAAAAAAAAAAAAAAAAAAAA/9oADAMBAAIRAxEAPwD+iFKUoFKUoFKUoFKUoFKUoFKUoFKUoFKUoFKUoFKUoFKUoFKUoFKUoFKUoFKUoFKUoFKUoFKUoFKUoFKUoFKUoFKUoFKUoFKUoFKUoFKUoFKUoFKUoFKUoFKUoFKUoFKUoFKUoFKUoFKUoFKUoFKUoFKUoFKUoFKUoFKUoFKUoFKUoFKUoFKUoFKUoFKUoFKUoFKUoFKUoFKUoFKUoFKUoFKUoFKUoFKUoFKUoFKUoFKUoFKUoFKUoFKUoFKUoFKUoFKUoFKUoFKUoFKUoFKUoFKUoFKUoFKUoFKUoFKUoFKUoFKUoFKUoFKUoFKUoFKUoFKUoFKUoFKUoFKUoFKUoFKUoFKUoFKUoFKUoFKUoFKUoFVF7W2d5Vxl7OOdZ5hF0+zr5Z7cl+FK8Ft3wll5tO+hxKkK7KPmDVu1TXti4lkmd+zNn+I4haJF0vFztqWokOOnqceWHm1dKR9dAn+FBsM19ovEcNzeVxsjHsov+Sw7YxeHYFmtS5ShEdU4kObHYAFog997KQN7rXTfax4pZsWD362fbd4TyKmWMfjW+2uPSJDsbp8VlTY7oWlSikhWtFKtkar2xvEb/E9qjNM2k2d5Fnn4bZbfFnFPwOPtSZinWwfqkOIJH9oVzZj7OYcMXL2cGbzx3d7hcoN05Bdk2mI0lU1EZ55xwOtNlQ6yGlpX0A9SkkgAkgUHS8b2nuNnLAu9TW7xb342SQsUnWyXBU3MhXGUtKGUOtnySrrSQsEpIOwTWXy7znaeNo+Q2eJb51wyS14nLyiLFZiKdQ400vwh1EEdgsgqAOwgKPpXPeb8Y8o8gQuQOcLfx3eYj9yy3Er3acYleG1c5cCyuI8VZbKtNvOJLhS2pXVptI8yBUnusLkTmblXIsrg8V5Jjtlm8X3THLa9fWERXpE55wkIW11EtDZGuvWxs+Q3QXbwDyHc+VOHsTzm9WuXBuN0tMN+Yl+IY6XX1sNrcdaQSfuVKUSg77p1Wj9l/O8q5E47ud9zC6e/zo+VX22tu+C210x4891plGkJA+FCUjetnWySazfZlk3g8F4ZZMhxG9Y5c8ds0GxzId1jhlwvRozbS3EAE9TSlJPSr1A8hVMcI8g55wljd6we++zjyld3/wBKb3cW5lptsZyM8xJnOutqSpyQhR+FY38P/GguLM/aJxbEsiu2MQsWyzJZePMtv3lVjtK5TcBK0daQ4oaBWUfF0J2da7dxWzw3nbjzPb9acfxu4vvu37HW8otjymClqXBUvoJQo+a0KICk+adjdUDmEPlDJORcxazbFOXZ8WepleHWjGZyrXZ34qoyNIuElhxBQ8HisOl1zQSB0b8jEcgxbknhv2WOGM+sVichcjYMyrGU2yT0tOSFXEOREtf2tSDGeSkeYRvsKDpCX7UHG7cFuRa497vEuZfbhj1sgW63qek3ORCUUSXI6R87KFBQLuwnaT3rzme1XxXbMDuOe3dV4gM2W8x7BdrdIt60z4E55SEttusfMN+IhQUNgpOxuqb5D9m6Xx6eGrhabPmF+x7AbDNx+9IxG4vxLt4skNLVObDLiHHQt5twuoSST4gPSdVrkcM5BdcQveQY7xXltsXf+QMUmIGSXqRcbxPt9vkt9UuU28pZjhKS4Eo6iroQnqA0mg62wLMmc9xpjJWLDebOh9a0e6XeGqLJR0qI2ptXcA62PqKkNKUClKUGkczXF2s0Z48cu7QyGRbF3huBo9aoaHUtKd8taC1JT5771iXvknCccyEYper+xGuyrTJvgiqCiswWCA892Hkkkb9e9c/cqucoNe2tjy+JoWKyrx+rKb4reRy5MeN7v9qM9RSqO24oudXRoEAa6u+9AwzLbvzXbPaTVeeTY2IW28QOI8lkWtWNS5MptIQ42rrcMlpvSgsDQAI150HZeP361ZTYbbk9hlplWy7xGZ8N9IIDrDqAttYB0RtKge/fvWHimaYxm8OZPxa7NXCPAnyLZIW2DpuSwsodbOx5pUCDXLnGuUcmc6XLjzAH+Ur9i0ODxLj2YXWbZUx2p11uU5BQCpbjS0pZR4KlFKUgKU5o9gBUJ4iu/IUK14zwPbM9mWqfnHJ+ZM3vKLfHaTKMe39b7qY4WlTbTr6ukBXSehIWQO1B23bsxxq65Pd8Nt91aevNhbju3GIkHrjofSVNFXbXxBJI19K3NcHZVlGf+zrkPP11s+XT8oyAt4fa7RdLjDbkS2Ey1KYbU620lKZDjQWop+EeIoICgdncvxHO+V8azRi12iXzHesdudjuartKzvH0xfs+czHLjEmO8llsJSohSSyeoDaSNa7h2FWizjOcU43xmVmObXlm1WeEplD8t4EoQp11LTYOgT3WtCf41yPjd95qsHEfDftCXjm7Ib1csqm4/EvFkkMxU2p6FP6G+lLaGgtLwC0LU71kqX16CQQlNmf5QP8A+6fl/wD8ZZf/AO7RKDomlanLbsLDit5virnAtwt1vkSzMn791jeG2pXivaIPhp11K0QdA1xdjvLOb2bLuKL7Z+T+VMrZy2+RrXfpd9x9EHHLgh9laiqClcdpbQC0hTZR1bQPiJ3ug7npXIv64eToGJXngh/KZDnKEXkFGIQrq42j3h21ylmbHuBSE9A6YHijetdTB337mIz+XeVc9uefX+z37mOBMx29zrPisXGMXTLs6RDPQlU4lpZkuOuJJcHWkJCtJ6dboO6KVyTi1+5o5t5nj49duQcg49g2/CrBk1ys1tjsoe+0XnHQ4yVPIWUsnw1hSPNQKO4136XzrC7VyFjEzEb5LuTFvuASiT9nzXIjrjYIKm/FbIWlKgOlXSQSCRug/cPzrEs+hzrhh18jXWLbrg/a5D0ZXUhMlkgOICvI6JA2O1b6uefYrs1qxzEeSMfsUBmDbbZyllEOHGZT0tsMty+lCEj0ASAB+6uhqBXlLlxYEZ2bOktR47CC4686sIQhI81KUewA+pr1qrfam/8Au38l6Ov/AKMXDv8AT7lVBZS7hAbgm6OTo6YYa8YyC6kNBvW+vq3rp133vVfEe7WqXITEi3OI8+thMpLTbyVLLKiQlwAHfQSCAryOq42yPm7O3vZLl4857NfIrMZWC+6m7LVbvdkt+5AeOdSfE6NfF8vVr032rZw+bYPEDTmQTMRtU39GuDrJekS0NqRcJbq5TrLUNTxUUhguBJA6NhS1HZHag65fuECLIjw5M2Oy/MUpEdpxxKVvKSOpQQCdqIAJOvIDdfs2fBtscyrjNYisBSUlx9wIQFKOkjZOtkkAfma5LyR3niJzxwHP5nkYa/EduF6lldgiyY5t732O+Vx3PGccDyQnydT0ElKto8jUV5V5F535d9nuDyzIg4jEwLJr7aX4dnaZkC7Qrf8AabIYkuyS6WnFq6UlTQaSEpWNKJBBDuWlciZn7XWROZxm9iw3PeLsWhYDOXaEw8rEhybfpzLSVvhBadbEVkKX4SV9LpUpKjoAdNbWy+0dzFy/nGLYfxJacVsMbJuPI+avzciiyZLtucMxyO4yGmnWw9shAT3RrS1FSvhQQ6mrHjXG3zXpEeHOjvuw3A1IQ06lSmVkAhKwDtJ0QdH0Iqt/Z45Myfk/CbhMza3W2Jf8fv1xx24m2lfukh6I70F5lKyVoQsEHpUSR371E/ZyJPLntBgk9s3ja/wuLQX5SqK505Yz3DMuiY/Zcy45wezLtnvir1lilS3ZkouFPuzENqQytKUpSFKeUSD1hKUkgmonxp7VOaZTauJcqyO0Y+1j2b3u64heJkJD2mbsytxMF1hS19mJCmHU9C0lQUtv4vOg6hpXKGb+2DkVj+0Dbk4nbod5zV/EMXu15LzcNhuGx1T50xSV7cSl1K2222/D6lAAqrUyPbKzGx4nySyxcsGzq9YbYY+Q2m9WBiQ3bJzbklLC4r7KnlqafQpQI6XVBSVpPbRBDsWta/kuORbq1YZV/trNzf0WoTkttL69+XS2T1H+AqOcTK5bextyXzFJxVy6yZHjxW8dYkNsMRVNoIbcL61KW4lZcHUAkFISdA7rm/n3ini7FMLvfG1itDma8y8jzpMuxynkoXd2JbrvUiaqQkAxo0QdJ6yUp6WwnuVHYdi0rCskWfBs0CFdZvvk2PFaakyNa8Z1KAFr1+ZBP8azaBSlKB5Vq7ZlOMXqW9As+R2ufJj78ZmNMbdcb0dHqSkkj+NUr7WM+5XVXG/EMe5y7bbORsqbtV6kxHlMurgNMOSHY4cTpSPG8MNkpIOiQD3qM+0twVxhxlwpeeT+LMUteGZVx/E+2bPdbSyIrvWwQosvKRovNuJBSpK976t+feg6kpVL8U833/Psz5Kxq4WeFFj4VBsMqEtAWHXlT7YJbge2dfCs9I6QO3ns96p7HOTuXeVeW/Z8zaLIxy3Rcixi9XCZby3KLYCHYyZHSA5or8Pp8InfSSvq2CBQdk0rkuN7SvtBtcV3H2hbriWEIwfH7lMYn2toSzdJcCPOXHdlsOlfhNqSE9XhKQrr8Nfxo2ALYsXMt5vGS8y2f7Oge7cc+5G2OJ6+qUl+0tTSXfi187hSOnXwgevegtyvJ+XFilpMqS0yX3A00HFhPiLOyEp35nsew79q5FxDkHlvkn2geFMvRMx2Fb8k41k3uXby3JKUIcegGV0DxOnxdqSGlHYSnqCurYqxParWtF54M6FqT1cr2kHR1se6Te1BfdKjXJWRZBiWC3nI8WsUa83aDGLkSFJnNw2XF7A24858KEJBKlHz0kgbJArnrFPaX5MmcoQOLH8l4ozK4ZHZrnLtruKmWgW6dFZDiGpSXXl+K05spC0Fs9iSkUHVVK56tXtO3LJcK4kn2Cz28ZJyFc1xLnBeKy3a2ISHF3dzQIUSyWi2kE91uN73uqwV7deRfo85y41cONXMSbm6GJJmPnJ3LeH/AAjJS51+D43Tt33ctd0jXiA0HalKofFuVebM854y3C8btOFxcGwe6Q4lynTTKVcZrUiCiQBGSg+ElSVLG1L7FJAA2N1fFApSlApSlApSlApSlApSlApSlApSlApSlApSlApSlApSlApSlApSlArSXXDMbveTWLL7nbUPXbGvevsyQVEGP7w2G3tDyPUkAd63dKBVS517V/s9caZLLw7OeTYFpvMEIMiI7HkKU2FJCk7KGynuCD51bVUf7UOQX6bBxThPELnItt35PuxtL8+MopehWppsuz3m1D5V+Enw0q9FOg+YFBI3/aX4OYwW0cknP4ruP3+Q5EtUhiNIednvIUpK0MMIbLzhSUK30oOgCfLvUuwbPcO5KxxjLMFv8a8WqQpbaJDBI6VoOloWlQCkLSRooUAoHsQK565XxqVaOb+GsA4MgWuz3/FLLdJEUz2yq2RbN0NR3Gi2n41OqUW+lSTsaUVHvVa2nlm8cK4lyPx7dnX4PIt/5GfGQXy329+Xb4BnxGX/ALQZaZQtwITFQ2EtkFXi91HRJAdm4pyDhucTb9b8TvzFyfxm4m03UMpVqNLCErLRUQEqIStO+kkAnROwQMPI+KsIy3MrFneRWpc26431KtviSHPAZcO9O+Dvw1OJ2elZBKdnRFc3+wvk/FcXL+W+P+Ops5yMMiRc4KZNvltLeipgw2nHnHHm0gOqeKipKiFkqKunp7117QKUpQKUpQKUpQRR7jbHn+Uo3LqzJ+3Ilidx5sBz7n3Vx9D6tp183WhPfflWty7hfEM1zH9OLwZn2j+jk7F9NPdKPc5ZBd7a+f4Ro+lT2lBUEz2ZML+z8RZx3IMkxu5YZYWMYg3a0T/BlvWxpCEpjvK6SlxPwBQ2NhRJGt1iwvZN4wteCxcHtUm+wxbL8/ktsurVwULhAuDxUVutvnv3C1AhWwoKIO6umlBTdr9lXjOPbczt2QyL3kv6fsRmb8/d56nXpCo+/CcSsaLaknRSU66SlJGtVlY37OON2a7qv98zHLcpuDVsftEF693Mv+4xnk9LoaSAB1KToFagVaHnVtVjXKaLbbpVxMWRJEVhb/gxm+t13pST0oT+JR1oD1JFBA18FYU5xrifFSlTvsXDXbW7bj433vVAUksdatfF3QN/Wtpy9xZjfNPH1042y1yY3a7sY6nlxHfDeSWX0PIKVaOvjbTVa8Jcxcp59y/yFjed4cjGoFltFouFnsynUOzENyVStrkLSegOL8FPwAkIGhsndRTPeQvaX4u4+Rzdmt6x+OftaKw5giLeFrVHkS0MojtS0rKlyelYVsJKSQRrXegsK3+zPaUGfFyXlDkHKLXdbfLtk613m9F+LIYkNKbcCkhIO+lR0Qex71jQfZQw9peLLu+a5lehhM2NMsCJ90624PgjpShKAkBQKPgJUCrQ86rnljn3kS0ZXyi3E5KxXBGuOIjUi02a8w0uP5HuMHvEClOJV4bi9soDSVK6x6nQPS+CX645ThGPZPeLM9Z593tUSfKtzwIchvOspWtlQOj1IUopO++xQUthXHV2zf2pbvz9knHM7FY1gsScZtQnvNKeukkPPFycENLUEtpZcLTZVpSkuq7DWhIcn9l3DMhu+QT4GU5bj0HLnjIyG1We6qjxLk6pIS4tadEoUtIAWUFJV5nv3q5KUEJxjiHDsPzSVm9gjvx5cmxwceDAc2y3DiFZZSlJ7gjrIJ337VNqUoItgHHOP8bsX2PjxkFGQ3+fkcvx3Os+9y3PEd6e3ZPV5D0qU0pQKi3KeDjkvjfJuPjcvs/9IrXItvvXheJ4PioKevo2OrW962P31KaUEDuvFoufCL/Df20Ww9jn6P8A2h4G9f5v4Xi+H1fx6er8t1BZ3spWG+mdDyTInZltuXHELj59hqMGlgR3nHRLQvqPSrqWCE6OigHZ8qvalBQlq9n7k+fneB5fyVzPGyGPx85L9yhR7AmJ76l+G5GK5K/GX1O6WDsAJ7H4R1E1HpXsjZwcIi8O2vmpMTju03Ni4Wu3KsYcnMtNSxIRDck+KA4ykgpHwBeukFR6e/TlKChbz7O2b2vKctvPEvJ9vxq351KNxu8K4Y+i4qjz1NJbdlRHC6jw1rS2glKwtPUOoAeVSPDuBkYhynbOSE5fNuZtuCtYWWprYW/IKJZkmU48CAVKJIKej89+lWvWoy/KbPg+KXjM8gfLFssUB+4zHANlDLLZWsgevwpNBG+I+MBxZbsigC8/aP29ktxyHq8DwvB96cC/C11Hq6da6u2/oKrlXAHM2P8AIOcZjxpzvbbBCza6t3aRAlYmicpl1EdtjQdU+nY00D8o862uDcuc1Xq64pcMr4aagYvmaSuNIgzlSZloSpousqnt9ASgLSAklBPSpQBr25Q9oyDgnLuC8QWizG7XHJ7k1HujwUQ3aozqXPCUsjzccU2rpR6hCz6dw0cn2dOSG+RU8q23lSxO5JcbDCst6k3PFUyklcZS1CRCR46fdSrxDtG1pJ0TvWqr7lrjuzcK+y7O4NmZPeMny7JrtMuGGOxbW574/e1TUy4522FNtlt9aFKWooT0Beh2IrsOlBRUv2X4yuLePsTsWTfY2UcduIn2y9+6pltqnLbUmWp1lZAdbeLrpUnaT8QIIIrEvPs2ZvnGIZtZuQeWmpdwy6BHtrKbbZhEttsZaeDvU3G8VSnHFqHxLU5vWgAAK6ApQeUZgxorUYL6i02lHVrz0Nb1XNGMezHzrhmW5NmeP+0TZ/tXKZy5UybNwpuTJDPVtuMl1UnaWmxoJQNDtvW66cpQeEBqWzBjsz5SZMltpCXnkt+GHXAB1KCdnpBOzrfbde9KUClKUEG5h4ntHMGKN2Cfcplqn2+axdbRdYRAkW6eydtPo32Ou4KT2Ukkeu6re88Dc0cmw42I818y2i64e0807PgWTHzAfvKW1BSW5LinnAhslIKkNpHV5bAroGlBRV/4E5Ag8lZdm/FfI9rx+Fn8GBDvsSdZTMcYXEYLDT0RYdQEq8IhPStKk7G+/kNZjXswZRg0Lh1eK8iQ0zuL4My0THJlrU6i6QZS2i8AA6C07poaVtQ2SdeldEUoOKuE+EuTeU+DHsHvfIsSFx7fciu7lytZs6vtL3ZN1fUuI1J8UJS06UbKi2VAKUAdEatnKfZ95FXm+e3zjrk+22Kz8lxIrN7izLKZUiK4xDTEDkRwOoSnqZQgELSrRBI89C/KjfIXIWL8YYvIy3LpbrMFlbbKEMMLfekPuKCWmWm0AqW4tRCUpA7k0FTY77NuT4bdeH7zjGfwkSOOMbVil1TKtinEXaAv3crLenAWHNxgQT1j4vLt3lPtA8R5NyzbMROH5dCx274hk8XJYsqZbzMaWtll9sNqbDiOx8be9/h/OtDi3tRWm6ezXI9ozIsal2uKyuchNp6gZKnGprkVlnvoBxxaUDR7BS9elbHCuZM6PIdr415dwCHjNyyW1v3WxvQbl74y+GCj3iK4ShJS+2l1CjraSCdHtQRzMOCOcuU8Ev8AgXKHMuPTIdyajrhqtuMqjeFIZfQ6nx0qkKDzKujpU38OwfOlo4FzO18k4jzBmmb4tGYwaLcW/sfH8bVBheBIj9Djnd1ay4OlJ2fhABASN7roSlByj7MGEYxl3MnKHOOMSZU7CJ0x22Yl47C2mSqSGn7w+wlYB8NyUhCQoAb8NwdxW0tnspZ7j1oRxxjfKNmt2DMz/eI7reOIN/jRC/4phtzC54fTslIdLRWEnXfzrpqlBAcA4wdwnO+Q8yXeESkZzc4lwbjJYKDEDENuP0FXUevfh9W9DW9fnU+pSgUpSgUpSgUpSgUpSgUpSgUpSgUpSgUpSgUpSgUpSgUpSgUpSgUpSgUpSgVF7rxxjl55BsXJc4SlXfHYUuDBSHdMpRJKPEUUa7q+7AB32BNSilBAOTuF8Z5Pm2i+y7vfcfyGwF0Wy+2Gb7rOjNugB1oKKVIW2vpT1IWhSSUg62N1m8X8UYtxLZ5trxxdwlyLrNcud1udzlqlTrjLWEpU8+6r5ldKUpAACQEgACplSgjOJceY9hd5ym+2USfesvugu9x8VzqT7wGG2R0DQ6U9DSO3fvupNSlApSlApSlApSlApSlApSlApStWMmsRyQ4gm5NKvCYf2gqIk7WiP19AcV9AVdhvz0aCrMWsd9s/tL8p5nMssz7Im4zj7USQlvaZLjBml1tv9pSetHb+0KpfFM6vmdcjR+VOeuJuR3pVknOfojjEbHXHbbZB1FKZrqt6kTFJ7hw/C0FHoAPcdn1q8mynHsNtC79lN3jWy3NvMR1SZCwhAcedS00kk+qnHEJH5qFByTk2J4/a8y5XY5t4KvnIN5yWet7FrmxaPtDrgFhKY8WM+e8BTbgPkUaUfE3vvXR/BNkzrG+GsMsPJlyVPymBZozF1kLc8Ran0oAIUv8AGodgV9+ognZ3up3WsXk1iayRrEXbkyi7vxFTmYijpbjCVBKlp+oClJB15bFBs6UpQKUpQKUpQKUpQKUpQKUpQKrL2msSvedez3yHiONNLeut0x2azDZb+Z53wiUtj81EdP8AGrKddaYaW8+6httsFS1rUAlIHmST5Cv1txDqEutLStCwFJUk7BB8iDQcHYi1xpEyDhy9+zfdJc3k64SWxmDTlylOOyoIhOe+C7JcJ6Cl8NhHUkdKtBA0AKxcpxj2j8CmceP5Lx3i1yyi9cjtXqdd05EvqutyLDyW2lJ8D/N47bQDbaQVBCWwNEqJPeke2W2JIdlxbfGZff8A511tpKVr/wBogbP8a+kuQZq1BC2H1RnOlWiFFpwDyP7KtH9/eg9Gi4ppCnkBLhSCtIOwDruAfWvuvh99iMyuRJeQ002Cpa1qCUpH1JPYCvpKkrSFoUFJUNgg7BFB+0pSgUpSgUpSgUpSgUpSgUr4dfZY6PGeQ34ighHUoDqUfIDfmfyr7oFfK223NeIhKukhQ2N6I8j++vqsd+4QIz7MWTNjtPSDpltbiUqcP9kE7P8ACg4ki2S63z/J63FNnhPTHrbk828OMMoK3FsQ8nXJe6UjuT4bK+wqzbpmuJc1e07w7cOMchh5BCw+2X693eXBcDjUZmXFbjR21qHZK1rUo9B0oBskjtXSTTDDLXgsstob7npSkBPc7PYfXdY1tslmswdFotMOCH19bojMJb61fU9IGzQZtKUoFK+FPsodQwt5CXXAShBUApQGtkD11sb/AH190ClKUClKUClKUClKUClKUClKUClKUClKUClKUClKUClKUClKUClKUClKUClKUCvxSkoSVLUEgeZJ0BWlzTMLNgeNTMpvy3RFhhCQ2y2XHn3lrDbTLSB3W444pCEJHcqUB61WjeD5JyOlN75dmK92eUSzi0SQoQYyNHSZCkFJkuaI6uo+HsEJSdBVBM71zVw7jcxduyLlbD7XLbJC2Jl7jMuJI9ClSwRW6xzNMPzCN75iWV2e9Mf0tvnNSEf8UKIrS2vFcasTDcWx2G22xlpPShmDDajtpH5IbSAK0OS8R8fZO83cJ2NxWLo0VFq6wU+6T21EfMmSz0u9tDsVFJ9QaC0aVVWG5bkuH5XD42z+4OXKPd0KOOX15AQ5KcQgrXCkBICfeEtpWtKk9nEoc8lIIq1aBSlKBSlKBSlKBSlKBSlKBXHUjPsjsvEHtNc8WaaqPk1uyO5WuC+pIV7vGtaW2GEAK9Oour15bcJrsWqBVwZ9pXXl3ie+QpicE5O1fGpkRQSY0t5CGprGzvSlFpt1J1o9S/pQVvyPm3L3Fz3H2A3LknM8guHJTsu73W4WKwNzJ1ujxYza3YtvjtoPShbjyNLWFlCEnz86i+d5vyTfuGOQ8XzG15s7YbPkuFyMdveWWFdrnS2n71F8eO4koSlxTK2xpaRspdG/Ib6t5G4YsHIcGwFV2ulkvWKPe8WS9Wx1KJcNfh+GsDqBStC0dlIUCFDX0FRtPswYpMxfIbHk+U5Ffrjldztl1u94myU+8vOQJDT0VtCUpDbTSS0B0pSOyld9nsGmx/kvM5ts9oWRJvBUvCrlOYsh8NI91Q3bG3kDy+LTiirv9ahuWZhe3+FvZu5uuMtT+TPXPGG5ckAJMhF1joZlpUBoaUXAvXltA+lWRlPsv47keSZRd4mcZVZLXnAByay22S23Guaw0GioqKC431NhKV9Ch1Aa7ViX7h6RIncQ8TWiFKVhXHYjXSVMkEHx1wGQzBY2NdS+s+Ioga03+dBedKUoFKUoFKUoFKUoFKUoFKUoKT9p65yp0fAuKozjiGeRMsjWe5KbUUq+zWm3JUpIPp1oY8M/k4a0rvLPME3nHMOOMOtWGWzC+NU2eVdZ09uQZL0KTGDrjLCGz0BxCEOkKOkjTadHZNSD2m7FPFoxDlC1xnpD/G2TRshkMMp249A6FsS0pHqQy8tevXw63eI8XxY/IHIfIy7wxcrXyTGtQbjIbIDbMeIWSSrfxBYVsaA0KDnW0+3bNdstn5SuOa8TuY/d7jHZdwuJeEryWBAffDSJCtPEOPoCkuOMBoaQFfF2Jrb4JyVeeOck5FctUSLKOQc7psD4ldZDTD8SP1KR0qGlDpGt7H5VK8U9mbkvE7XZOOrbyXZGMIsE1pyPIasKPttyC051ohrfUS3ryQpwI6ikeh71m3z2XbzNtmXLs+bx4V5u/ITef2iSuEXGor7bbSEsPI6gXEkNq2QQfiGvKgmVxzR/Judr77P95s9vkY45gUa+vLWhRedckzZMVxpWz0+H0MpI+Heye/kBr/ZUyS53fjOTjN8lrlXDCb3ccWceWrqW43EfUhhSj6qLPh7P1rX4zx1mHH/ImS+0Ry5n9sujy8SbtL8a329UdiGxGfdkDw+pSlKB61Hv3KlH00K3PswYhd8Y4x+1ckiqjXnL7rOyecwsaUyqY8p1DSh+0hstpP5g0Ft0pSgUpSgUpSgUpSgUpSgo26XV7OPauYxN8KesvGeLIyIxkH+evE911lhSk+SvCjsPlP8Aaf35pFQ7iX2nuR+UMotwtyOOJUKReHrfdsVZui4+S2KMha0e8vofWEu9JQCptDYOlfAVaJqY322O4H7U8DNHlKYsvJeNpxZ6SkACPd4brj8XqJ7DxWXZCE781spT5qAMSuXst8hZhkOML5BynEboziuQRb2xlDNl8HJZTcd0uNR1vp0hIPwoWpPYpHyg+Qfcv2iObrrhmVc44VheJyePMUl3BKYMyRITd7rCgOLRKlMuJPgtfzbpbQpKioI7lJIFVHyA9yByD7QGb59ZHMNmRrPxRHyHGZM1iWXIMN8y1tPshK9IlkA9S9a0Ea8jVyTfZu5WgYnlPDWG8i2SBx3lcqc4tT9vcculuizXFLlRWCFBpST4jgQpQ2kK9e1Str2co0TM8mvFtvLcay3vjyHgUSElolyK3HMgB0r3pQ6HkgDQ+Xz70FW8d8vc+2nFOCuNLRbsQut8zzFJtwVc565fgw2IjURTTrwCit1akPqCwCOpwo0pKdmvmb7T/tF23jjMOSp+C4E3B4wur9ryOOJctTl1LDqQ65BPkwAhY0HfEJUD5DW7B4y9n3OMXvPFl5y7L7PPc41sF1x5KYMNxoS2JCYiWV/Eo9Kkpinq8wSoa1qv2/8As03S88P8s8YoyqK0/wAkXafcmJZjKKIaZCkEIUnq2sjo8wRvdBicv848n4jdbw9Z5/F2JWG2QGpdvlZrduh6+rU2VqEdtp5JZQnsjbgKio9k60TrLj7XlwxzA+OucMmxANcdZrY0uz3YbbsibarutHWwyens4y6oKaSrpSQvoJOlaHpN9mDMo3IWYZRYrthkhrNURUOXS72ZUq62ZLUVMdSIayenoISVpSdAKUdg182b2QJFzwrj/ivlHKot8wnB7EuG5aojDkf7RufxIalOq6j8LTZ2hHo58R3oCgct5ByOx7PVm5+y2xw7HmuFzo+TN2+EtemIK3QiRCeUSesrhuLS5r4fEAIHwg10nGkNS47UphXU28hLiD9UkbFcz8o4dm8TgaxezVe8tRkuSZlc2seiXFLKkOmztOpdkSZAJO1NREFK1jQUtTY1tYFdMR2GorDcZhAQ0ygNoSPRIGgP+FB6UpSgUpSgUpSgUpSgUpSgUpSgUpSgUpSgUpSgUpSgUpSgUpSgUpSgUpSgUpSgqfNg3lXNuM4zNQpdtxO2OZM+116C5r7hiw169ehCZxAIIC1NqGigVOyO3nUGvyFWnn+E886UN5ZjAgxydBBft8pbvQST85ROUpKQDsNufSpr1jyNAJO6/N990PevygiHLuNu5LgVzRb1JZvFrbF2skk+ce5RiHo6t7HbrQAoeSkFST2NT7Fr/FyvGLRlMFJTGvECPcGQTshDraVpH/BQqDcq5MziPH2QX1xLq1xbc+Y7TSdrekkdDLKf7a3FJQn6qWO1cf8AD8rln2a8+vHCGQcqXCHbLMGH7VOuMf7StTUR1KSkSGFrS6hhKipsOsOtdBG3EqSUmg/obSqwa5WyzGGkHk/jyTHilIUL7jTirtbVpI31qSlCZLI13JU0W0/0itbM2xnMsUzKELhiuQwLrHI31xX0ua/eAdj+NBuaUpQKUpQKUpQKUpQKUpQKUpQKUpQKUpQKUpQKUpQKUpQKUpQKUpQKUpQKUpQKUpQKUpQKUpQKUpQKUpQKUpQKUpQKUpQKUpQKUpQKUpQKUpQKUpQKUpQKUpQKUpQKUpQKUpQKUpQKUpQKUpQKUpQKUpQKUpQKUpQKUpQRTkvBRn2OC3xLmu1Xe3yG7jZ7m2nqVCmt76HOn8SCCpC0eSm1rT23uojh/IUW6zzh2YRk49m8NrqmWh0gJkIHb3mEske8R1HyKRtJ7LCVdhbNaLL8FxDPrci15hj8S6MNL8VkvI05Hc/pGnBpbS/7SCFfnQeASEk6NYl1vFrsUJ66Xu4xoEGOguPSZLqW22kj8SlKIAH51oU8E2+Jtqy8kZ7a4oPwRmbwl5KB9At9txw/xUayrVwRx9Dnxrve40/J7jDX4keTf5q5vhL7aWhpR8FCwQCFpbCt+tBHcehSuaMltmYSrbLg4NYZIuFnZmMlp6+TQD4cxbZ+JEdvYU0lXda0pd0AlG9P7SuBiTesY5Ct0hiBNZkpsrk95vrajOPq6Yjjyfxsl9QjuI/EiUR6Ai/a1GXYvas1xe64je21Lg3eI7Df6D0rSlaSOpCvwrTvqSodwQCO4oKO49zOXx7YEZFHt0tvBWZDkDIbI4ovS8IuDZ0+lOtqdghR6u3yNrQ6jbStC0b3xbxzm7jeStQG48+QkPM3mzyDFkrChsLDzJBXseRVsVVWPZBeMXZHKd3Slc2zPfolybGaRpLq42ks3VKB5HwnGnvqY8hIP82nUvetlz4TWvIcJiPXbj6QTInWSKkuu2gK+JUiAkd1sdypUcfKNlvt93QbJVn5swv48fv1tzq3I/8AI3s+43AJ+jcxpKm3D9EuNAk+bg8xkWfnDEH7kxj2YR7jhF+kL8Nq3ZGymN7wv9mPJSpUaSfyZdWdeYFTezXm1ZFaol9sVwYn2+c0l+NJYWFtutqGwpJHmKXez2i/21+z321w7lAlI8N+LLYS8y6n9lSFApUPyIoMtKkrSFIUFJPkQdg1+1Wp4YTjpL/FmY3bEyO4t/iGbbD+QjPE+EPQBpSEj9mvz9OOT8QHTnnHyrzCR810xZRkED9pcNenR/8Allw/RNBZdKjuHciYTn7Dz2I5JDuK4quiVHSookxV/sPMLAcZV/ZWlJ/KpFQKUpQKUpQKVG805GwjjyNHkZjkcW3GastRGFdTkmW4O5QwwgKceVrv0oSo/lUWHOTUjpctvFXIUxhfdL32S3GCk77K6JLrbmj+ad0Fm0qEY1zJgmS3hvGhOlWm+PBRatd5huwZL4SNkspdAD4A7ktFYA8zU3oFKUoFKUoFKUoFKUoFKUoFKUoFKVF805OwXj4xmcqyBqNLmhRiQGW3JM2UB5lqMylTrgHbZSkgbG/OglFKrRHN3vCwYPE/IMphSikPotjCB5+fQ4+lzX+7W4xDl/As0uZsFtursO+IbLqrPdIrsGd0DzWll5KVOIHqtHUn86CZ0pSgUpSgUpSgUpSgUpSgUpSgUpSgUpUKyvmLAMPu36OT7u7Nvvhh37ItcV2dNShQPSpbTKVFpJ0dLc6UnR79qCa0qsjzgEF1x/ibkFqKz3ckm2MLSkfUoQ+Xdf7lSbCuTMH5CTJTil/alSYPSJkF1tcebDJ8g/GdCXWidHXWkb12oJPSlKBSlKBSlKBSlKBSlKBSlKBSlKBSlKBSlKBSlKBSlKBSlKBSlKBSlKBSlKBSlKBSlKBSlaDMM9xHA4SJ2V3tiCl09DLZ2t59X7LbadrcV+SQTQb+lVgrmy5ykCTj/CfIV1iqJCH1RIlv6h+0G50hlzX+7WTbOeMMeurVhyeJecRuT7nhMMX+CqK2+veulqR3YdO9j4HD/wD0oLGpX4lSVAKSQQRsEeor9oKsyCNHw/mCJdZTDa7DyLEFiujTiApr7RZSoxVqB7fesqeZVv5uhgeQpx1JkcbZIeFb2+45ALTkvD5rqioyIKTtyCtR83o2wBskrZKFdylzUo5RxB/OMHuVigOpYuXQmVbHydeDNZUHGF78wAtKd69CajbkdnnfiW13qA+q0X1ARPt8ko+9tN3YJSoEH9hwONOIPzJK0nsSKDHueOX3iC6y8t4+tj1yxae8qVe8ZjjbkZ1R2uZAT5dRJKnGOwX3UjS9hdi45kdjy2yxcixy5Mz7dNR1svtHYUN6IPqFAggpOiCCCARWm41zc51jaZs6GLfeYDqoF5t+9mHNb7OI/NJ7KQr8SFJPrUZybFb/AMd3yVyNxlbXJ0WYvxcjxhkge/8AbRlxASEolJA7o7B5I0dLCSQtGlajFMsx/N7FGyTGLk3NgSgehxOwUqB0pC0nuhaTsKSoAgggitvQRPMuK8CzyQxcMjx9tV0iDpiXaI65DuMUfRmWwpD7YPqErAPqDUf/AEc5mwvRxjMIua21HlAyRCY89KfoiawgIc+gDjPUfxOHzqzKUFcxubrDb302/kSzXTCpij09V2aHualf2ZbZUyR+ZUKsGLKizo7cyFJakMPJC23WlhaFpPkQR2I/Ov2TGjTGFxpcdt9lwaW24gKSofQg9jVdzOD7FAfdufG18u2B3FxRcUbM4kwnlnvt6C6FR17PmoIS5onS0+dBZFQrk/OpuIwINpxyLHmZPkL6oVnjSFEMhwIKlvvFPcNNJBUrXc9kjRUDVO83+1Hl/stYkL/yvjliyqOufHgRZuOzvc3n1LXtfiwn+tTKgyl1ael11KlICSW+oEZ/EfLWB+0RyFcOSsFvDdzs9ox6Hb4qVI07GkSnHXJCHUK+R1IYaTogghWxsaJCaYZx1bMXlu3+fIVfspuP/wBq5BcW0rlyk9/uUa0mPHTs9LDQCBskhSiVGYKT1flXyG/4V90GpybDcWza0LseXWOPdIa1JWEPbBbWDtLjakkKbcSdFLiSFJPdJB0Rp8Jvd/wbK2OKszvj95izmFP41eZagqVIbQNriSlAALeQn4kuaBcQCVbUlSlTBNVvz5dLdjGK2vObjKjw28Xv1uuKpb+kpYaMhDDylLPyp8F93fpod/KgumlV1G9orgyYwiVD5Ux19l1PUhxqYlSFj6gjsRXr/KA4V/rMsP8AehQWBSq//lAcK/1mWH+9Cn8oDhX+syw/3oUFgUqv/wCUBwr/AFmWH+9Cn8oDhX+syw/3oUFgUqv/AOUBwr/WZYf70KfygOFf6zLD/ehQWBSq/wD5QHCv9Zlh/vQp/KA4V/rMsP8AehQWBSq//lAcK/1mWH+9Co9l/teezjgoty8j5UtTDdzkGKw431uoSsJKvvFISQ2nQ+ZWh6boJNydmd7s67XhmEtMu5TkinERFvJ62bfGbA8aa8n1Q31IAT263Ftp/FWvwrjTHMPaelNh+4Xy4aXdb5MKXJ1xdG9Kcc1sJAPSltOkIToJSB2qMcY5JYOTeUM/5Nx69RLxbIYteMWmZDfDsdcdEJuetaCkkEqXculR/wDSSPw9rTTQfiEdHYHyrSZnhmO51afsfI7eh9DbgfjPpJbkw3xvpfjvJIWy6newtBB/eNg76vwjdBEuOMoyS05A5xbyBc03K4oirn2O8FKUKu8BCkoX4qUgJTJZUttLgTpKwtDiQkKUlFl1SHOF/s2CjDORr3cottjY9k8MSJspzw2mI0sKhvFaiekJ6ZHV39UpPpUsZ9ofg+S0h+PyjjzrTgCkLRLSpKgfUEeYoLDpVf8A8oDhX+syw/3oU/lAcK/1mWH+9CgsClV//KA4V/rMsP8AehT+UBwr/WZYf70KCwKVX/8AKA4V/rMsP96FP5QHCv8AWZYf70KCwKVX/wDKA4V/rMsP96FP5QHCv9Zlh/vQoLApVf8A8oDhX+syw/3oU/lAcK/1mWH+9CgsClV//KA4V/rMsP8AehUYvvtj+zRjOSw8UvnLdmhzZ8b3plxxSxG6Oso+J/p8NKtpPwlQOtHWjQbnkLI8gyTIlcVYLeVWiQiKmZf7y10l63xF9SW2o4UCkSXSD0qUCEJClaJ6ayMSwrGsGtSbNi1rahRuouuq7rekvKO1vPPK2t5xR81rKlH1JrS8MyIN/sl9zqM+3KcybJLq+ZCFBSVsxpK4TIQoHujoihQ/Naj61PC3/Cgxk/Cd+dRzNMAsmZvMXkrdtGS25KvsrILfpubBWdb0rycbVodbK+ptYGlJOhqT9P506fzoNbxbnF4yJq44vmTMVjK8cW01cRFSpLEptxPUzLZSraktuAH4CSULStJJ0FGd1UMqXFsvO+IPpU0w7kFjuVsfKiAXzHW080Bs+Y63dADy3VvUClKUClKUClKUClKUClKUClKUClKUClKUClKUClKUClKUClKUClKUClKUClKUClKUES5Pz1HHmL/arFvVcrrPlM2uzW1CulU6e+rpaa336UjutatHobbcXohJqMYfx59iShlWTXA3nMJYPv13WnXSD3LEUdwyynekhPc62oqV3r9v7Scg58t0KY2FxcTxpU5tJV2Em4PuMpd1+0huC8kH0D7g9amhAoPJKendY10t1vvEB603iBGn2+UOl+JJaDjTo9OpJ7HzrO6fzr8Un86Cu8enyuHsvteHyZkmVg+TyDDsrkhwuuWa4dJWiGpZ+Ix3QlQaUr5XAlvZ8RAFyVW/J2MOZhx7kOOxpC2Jcq3urhPIOixMbHixnh/abebbWk+ikg1qsS9p7i7KMWs17t93k3ebcbfGlPRLBa5d0LDrjaVKaUYzbiUFJJSeojRBB1QW7VYY8f0A5ju+Hr03Z86ZcyO0eiW7i10IuDA+nWFMSUjzUpUpXkk1kfrXyi49sa4VzCSk/K/cfdbeyf4OOl0fxbqGcrQ+f8ox1m/2rEMVstzxSWi/20OXN2Y+p1lKgtkFDaE6dZW8yr+y6qgk/IzL3GmSp5rtbTirUWkRMyitJKiqCn5LilI7lcbe1+qmCvzLaEm0GX2ZLLcmO8h1l1IW24hQUlaSNggjsQR61VFgs3JXIeO2/InOY2WLXeIiJLbNrsbSD4biQdFbqlnejogp7HYNQfEuHrLhmYp4hzLK8xuVjkxS/iKl35+I0GG0gPQP81LR6mt9aQSQW1aAARqgnPINp/V5cpfK2CXG2w5jhDl9s0ua3GiXtAHzBSyEtSgkfA52CuyV9u4/LF7VPB2TWuPccdy1+8OvISpdvtNrl3KdHWRstux4rTjjax6pI3/DvUgtnBXDdpkonRuM8edmN/LMlwUSpI//ADngpz/91YmXcf3e13ZfIHFRjwb+EITcLYs+HBvjSBpKHgBpDyU9m3wNgaSrqQAEh4jmDI7r/wDwjwZntyQr5ZM5mJaWR/tJmPtvj+DJP5V9i4+0Nd/5jGMExltXyrl3SVdXQP7TTbMdIP5B0j86kmB57Zs/tLk+2ofiS4bxiXK2ykhEq3yUj4mXkeihsEHyUkhQJBBqSUFcfoJy1c+9+5qdipPzNWKxx4qD+XU/46x/BW/zrwn8N4dGhP3TOM0yi5xI7Zdku3XIHkR0ISNqUpKVIQhOvPyFSLOeSbJhK4lrUxJu2QXQK+zLJASHJcsp+ZQTvSGk7HU6shCdjZ2QDXuW2h9q0HkHnx1FzTHeaTZ8Nt23Iapi1BMdkpOjNkqWUhPWPDSfiCfhCgHL/tdYfx3yfxojHsBwePY7V432tbb26w4qfckMJKXJDLaj4ghgOhKVr7yHnGG2kHrS6Jj7F3A+a+yk+3g+fGGqdnTb89v3F8ustPRyjpYUpSU7c8Jx0nWx8PYnzq1Mawu6ZbywyjM1tS7pbDFyPKC2etlmSkqVarU2f6KOSuUr9p0MueuquPkHB4ueWJNuXNet8+E+ida7gx/OQpje/DdSPxDuUqSeykqUntvdB76H1pr86ry08jOWq6M4hyfGjY3kPZmKtRUi3XUAHS4j5AQVnR2yohwfQjSjYCPLvv8AjQffT+dVpzjZ7XnkHHuIbnETMjZhd2kz42jtdujgvSCSPJPZpO+2itPrUizTknGcHLcW4yTLukvq9xs8FJfuE0jXwtMJHUo9xs9kJHxLUlPevvjjC779tTOSM9jtMX64MCJCt7TviN2iACFBjqHZbqlfE4sdiQlI7J2oOauIbFnPBGR3HiqLnMi2N2m5JgW2RcgqTbHkvbXCRKZ2CyiQ2ClqQypGnmX2FdRQ319KWXmKPFu0fEuUrKvC8gkueDE95eDtsua/QQ5ughxR0SGXA29oE+Hr4jqOeMatkdEXkedakT7fCjrtOTwyjqEyyPLBcJA7lTDnS+gjunTgBHWTXxZZrVleY4c5W93yLHsgb8HG7xcG0PsXVrp6xBldQKTJSgdSSezyUlQ+JKhQXACCNg9qVWH6v844++/4pyD3+1o7nG79IW6ylP7MaUep1n8kr8RI9NDQrb4py1YL/d04le4kvGcp6Sr7GuyQ268lPzLjOAluSgefU2okDXUEntQTilKUClKUClRjNeSMTwFEZu+z1ruFwJRb7XEaVInTljzSywja169TrpT5qIHeosbdy1ySN3eY5x/YXP8AycNxD13fR9HHu7UfY9EBah3+L1oN3mXLGN4ncW8ahsTciyiQjrj4/Z0JfmLSToLc2pLcdrfbxX1tt+nVvQrjT28cF5D5wxq0YhebtbYuTxZ7E+BjlqSX49uQ8Sy373MUApx91SulCUIQnSXFaUlBcrqi5qs/GCGOMeGcchHLb8FSiXOpwR299K7jcHSS46AeyetRW4odKToKKY/xlgVum8iTX2ZUi6W7DJi/fLpK0Xb1krjYD8lZHYiO0pLSEj4UFakJ14ZFBC/Zb4pkezF7vwheZLbr17scTIUOsrKmpF0QfAuiGioAqCNwlgnuUuHsOnv0cPWtfyVgi83tEdVruAtt/s7/AL9ZrgUdYjyAlSCFp/G0tClIWj1So+RAIiOL8oxE3NnCeRmf0aywJIMWT8LE4Dt4kN5WkSEeRISetAPxpT6hP6V8hf5VFMw5Mx7E5jdjSmRdMhmI3AskFHizJKtbBKE78Jvy2650oT6kdthEOb8VsXLl9xHhW8srkwbvIfvN3j9PdFvisnpWrt23JeiJA7fMT6aNScLwc94emPccOZ/ItT1ruZssWRcwqZaXZJAVHjS2lKC45kNqbWw+2tAc34ah4iUoc6W4xwO6WSVc85zRUd7LsiS0iX4C1LYgRGiosQmSruUI8RalL7Fbi1q7DpSmO85Y1a7Yo8mTrQ3crIIRtGa25aCtM2yKUT4/SPNyKtSnQR38NT4G1dGg20DmVuxz2Mf5gsRwq5yHAzGmuv8Aj2aesnQDE3pSlK1ejTwacP4UqHerJSpK0hSFBST3BB2DVQ2u6HBHYfG/I8tu/wCH5BqDj98nlMhD4cHwW+apW0rWpPZtxXZ0dj8fzbI8T3rDFGVw7lLlmYSd/YFx6pVqI/ZaST4kYfQNq6B2AQKCzaVXEHmSNaJrFj5WsT+F3B9YZYlSnA7apbh7BLUwAISonsG3fDWT2SFVY4II2DsGgUpSgUpSgV+FQSCpRAA8yarq5cyQ7jPkY/xbZH81ukZwsyXYbobtsJweaX5h2gKHq231uD1SPOsccV3/ADVQlcw5Su5Rld/0etSlxbYP7LpB8WSPyWoIPcFBFB63HmeNdrg/jnEljdze7sOFmRIjO+DaIDg7ESZ5BR1JPm0yHXh22gDvXCvth8Acg+05yni0XH8wtl4ylhT9klOMxlRLTH8M+M60wsdbriY6VK8d5W9OPsNpHWvw09pX67uZb73xzxnLaxzEseCo2RZBCQllqGhsHxIEHQ6Q6ANOOAdLPdPde0p++BMTtyoznIsazpt0K4RUW7GoPSR7lZG1FTR77PXIWS+tR2VdSNk9IoNfwFj1v40s914ShlxKMKl+HADvzPW59Idad8vLrU8jtvujz76q0CAfxVHeSMFvFxuELPMHVHRk9pbLHgSFlDFzhlXUqK6ofKd/Ehej0q8wQTWuwzkmw5bKVZHFP2fJIqQZ1huSCzOjE+oR/pUb2A62VNq0dKOjQTDp/OnT+dfXT+dQXKuSUx7w9hGAwWcmywnw/cWlEsQUq1p+a6EqQy1oKISSXF9ulJ76DxjW20ZtzlHEy3wrpFwWz+8tuOpQ4IlylvJLa0g+Sw0w4QR8oUk9iRVv1FeOcHGD2R1mbPNyvV0kKuF5uJT0mXLWAFKCdnobSlKUIRv4UISO52TKqBSlKBSlKBSlKBSlKBSlKBSlKBSlKBSlKBSlKBSlKBSlKBSlKBSlKBSlKBSlKBSlKCp8xS1j3OFhvE9SkW/MbK7jq3j2bRMjLXJjoUfqtp6aR3/0RHcqAqbdJSACqvvOsKtHIGMysYvJebafLbrMmOvofiSG1hxmQ0r8LjbiUrSdEbT3BGwa2icgz8Iej43zYpFtuQIjx8gbbKbXdQNhCws/DGdI+Zhatgn4CtOiAslNfVYkSbAmsJkQJjcppY2HG1ApI/IitJkfJOE4oAL3fmG3lK8NuIz9/LfcIOkNsN7W4okaASN96DX8x5G9jXHl3ft/U7dbhHVarTHR879wk/cxkJ/e6tGzo6G1HsDXN1p4Gd9mjkaVZcJuOSw7Fc4iLpGcsMoomIDaUplqbYWFsTOhX3imHW3FBtzbRSUkHpDDcUyPMcmg8i57a1WqJaUk43YXVBTzDi0KQudL18IkqbWpCW0khpClAkrUdSHlXDLhl+Npdxx9qLk1jkIuthkukhCJjW9NrI7+E6kqac8/gcUR3AoIvYMw5Wh2aJf4rVk5Lx2W0Ho9zsihBnKb+qo7ilNLI8j0OJJUCPDT5CTY7zDgmQz02RdyctF5Uen7KvDKoUoq+iUOa8Q/7BVUBx+VOiW5HM3ElmkuW66rcXluFEBLyJjaiiS5HRvTc5pxC0ONj4X+j9voWbIZRx1zFijE9yBa8jss5G0iTHS4AfVKkrG0LB7FJ0QR3oI5xXrDcpybiR49EeC99uWMHyNulrUVNp/Jp8Oo15gFBPmKkvJGDpzvHDb408227wXkXCzXJKepUGe3stO6/EnuUrT2621rTsdW6pvlvi++8Ss2/mXinMbjHThhc98s16W5crem0PlCZvSVKEltLaUNyOhLpQPdvhbJOlT5rmK7Y22kcrYDOsLPSFfbVqcN1s60/t+O2hLrKfXb7Lae/ZSvOgkXGucLzexOKukD7MyC0vm3X22FfUYc1ABUAfxNrBS42vyU2tJ9SBLapzLL3Z7VdYnPuAXONdra1HRBypq3uh0SrYCSiTpO9uRlKUsepbU6n1BFhZLyBiGJWBrJb3e2G4MoI90U3t1ctSwOhDKE7U6pWxpKQSdig0Gd8f3N28p5H47mx7Xl0RkMvJfJEK8xU7Iiywnv22fDeAK2iTrqQVtqiOOc7XnmVDtg4gtTcC5Qz4V8uV2CXY9nc6lJKW0IV/ni9oV0FCg0QASv0O2TjGY8xrEzkWPJxzDVaVHxVt3pl3FPou5OoPwoI/8AKNnX9Kpey2nc5nxcmWmDkPHT0PHMpsLPg2yQhnUV5gecKS2jXXHVrXb4mzpaO4IUGVjGEYjxXbrpkk24uyrhIbMq+ZJd3UrmSktgnbrmgENIG+lpAS0gEhCE7O4XHurd0TM9ozkJl6HYsdhvv4pankELYYUgpXPcR5+9PpPQ2nW22l9I+J1wHT43nA9pfJFYpNt5s1lw15K8ntT0hDrlwubbq0JjIUjs7DbW0VqdHwuq8NGvhdSmYZgE8h8n2XjlghdlxTwcmyIAbQ5ICj9mwz6fziFyVDzHuzAIKXaDc8QYtcsexVVyyRvWRZHJXebxvzRIe0Qz+5pAQ2B5fAdedTilKDAvlgsWT2t+x5LZYF2tspPQ/DnRkPsOp+im1gpUP3ioEPZz4paAbt0DIrVHSQUxLTll2t8VOuwAYjyUNAAdgAnQHbVWZSgi+GcX8e8el93DcRttskywBKmNtdUqTry8Z9W3XdenWo1KKUoPKXEjT4r0Gawh+PIbU0604nqStChpSSD5ggkaqn8Qxy1XG15D7OGetLmM2RDb9odW4UvP2hayYj7bg+JL0dxBa60kKStlCxrqTVy1XXMdmucWLbOUMWiOSL9hTrksRmvnuFtcAE2F+ZW2lLiB/TMMk9gaD5wXLr7Y74nivkiWHr220pyz3coCEX2IjzXofCmSga8Vsa/bSOk6Esy7CsVzy0KsWX2ONc4ZWHUIeSQplwfK60tOltOJ80rQQpJ7gg1rMhx7E+YcLiLbnuqhzW2bnaLtAc8OREd11sSo6yPgWnYI2CCCUqBSVJOu48zi9P3B/jvkRDEfMLU14hdZR4ca8xQdJnRgSdA9g41slpe07UkoWoNaLVyxxp3sNwe5Ax1vuIFyeSi8xEfRqSdIlpHol0Jc0O7jhNSjDeSsTzhb0O0zVsXSINzLVNbMebG9PjZXpQG+3UNpPoTW/ul1tlkgvXS8XCPChx0lbr8hwNtoH1Kj2FUlmhVz6GY3HWGoQiMvqjZ7cg9DTBV5eJbw0puTKWPqlbTJG/vVd0ELeyrMcYwm2G75Veo1ujFXQguq+J1fohtA+JxR9EpBJ+lQg3/lTkj7rD7evCLE52N6usZLlxeR9Y0RXwt79Fv7A2D4a/KofZcHy/h/InctzS1S+VkLAAyZDZcvdtb13R7lstqa7b3DCFknuyogrq5sUzTFs4tou2KXyLco++lZZXtTah5pWk/EhQPYhQBBoNdhPGOJYG5KuFqivy7zcQkXG93F5Uq4zteQdfXtXQDvpbT0to2QhKR2rH5E5BViSIlisFu+2csvfWi0WpK+nxCnXW+8rv4UdvYK3D9QACogHJ5Cz6FglrZcTCdud4ubvulntMdQD0+SR2QnfZKR8y1n4UJBUfKsLjjAZeN++5Tls1q55jfgld1nIB8NpKdlESOD3RHa2Qkeaj1LVtSiaCJ3KBcuIsRfctsxq/cnZ3NRCbuEhvSZNxcSelRR5oiRmwtfhg6DbRGytZKrFwTDrbgGI2zELU488zb2ilch87elPrUVvSHT6uOuqW4s+qlqPrUMwffInIt15OeHiWexh7H8b38qyFj32Un/AG3EJaBH4WT9e9o0CtVk2KYvmlodsGY43a77bHiC5CuUNuSwsjyJQ4Ckkfura0oKxR7OHFTCSzCi5PCilXV7nCzG8xom/wD4dqUlr+HTUrw3jnBOPIzsXCcStdmTJIVIXFjpS7JUBoKdc+d1WvxLJP51I6UCvh5lqQ0th9tLjbiShaFDYUkjRBH0r7pQU7hths8dq++zbnEBq5WaPFL1kak90ybKtWkMg+YVGXpsEEFKUskaI3Wwx/JL5xhfIXHnIVzkXO0z1+BjmTSTtbx/DCnK8veAOyHeweA76c31bTl3GLzcbXBzLDo3jZViD5uVtZCgn35vWpMEk9gH2tpST2S4GlnsjVbeK/hfMOAsSiwzd8dyKGlwNupKepCvRQ7KbcSoaPkpC0+ih2Df3G3W+7wX7XdoEebDlNqafjyGkuNOoI0UqSoEKBHmCNVW6eKskwHb/C2TJgQU9/0XvK3JFq1+zGX3ehfkEdbQA0lkb3X5i2R37je/R+NeRZzs23TF+Fi+TPqG5qddoMw9gmWgD4V/K+gdQ0sLTVo+Xc0Fd2zmW2w5rNi5KtEnC7s6oIbFwWlUKSr08GWn7pW/RKilXcDW+1WGCCOoEa1vdVvmHJ+JXFyVhFhxp7kG6rSW5Fpt7Tbsdrf/ALU+4Qwwn/bV1Eb6UqPaq0/k58oqtqnEZlbY9sVJTIHHSJc42ANAaMb3zrEjR8/hbTH9DFPzELRuvMtpfnPWDju1Ss0vDSi243bSn3SOsej8pX3SNHzAJV6a3WEri/Kc/Hi8zZMJFvWdjF7G45GtpH7Ml7s9MHltKi2ye4U0rsa+8P5PxGzriYPkOLO8d3NIDUa1zWm24j2h/wCVkt/cPDXolQWBrqQk9qs0EEAg7B8jQYtrtVrsduj2iy22Lb4ERsNR4sVlLTLKB5JQhICUgfQDVVtkGT3jk++TeO+O7m/BtkBwx8kySMdGOr8cKGvyMkjspY7Mg/t9IH3k2RXrkm9SuOOPbk9At8Nfg5Lkcc6VFGu8KGryMpQPxOD+ZSdj4ynpkVxk4fwtx047AtbcGy2GKERYMVGlOK3ptpA/E44shIJ7lStk+ZoIXltjtF0kWX2b8Jgt2+xMxG5uRpjApTFtCVEIi7HfxJTiFI8+rw0yFb6undwNNNMNIZZbS222kJQhI0lKR2AAHkKhXE2I3PHLDIvGUltzKcnkm73x1B2EvrSAiOgnv4bDSW2Uf2W9nuSTN6BUfy/j7B8/itRM1xO13pEdRXHMyMlxcdRGitpZHU2r+0gg/nUgpQViPZw4qPwPRsokRwrq90k5leXou/8A3C5Ra/8A21OMYxLFsKtLdiw/HLZY7c0SURLfERHaBPmelAA2fU+ZrbUoFKUoFKUoFKUoFKUoFKUoFKUoFKUoFKUoFKUoFKUoFKUoFKUoFKUoFKUoFKUoFKUoFKUoFeMyFDuMVyFcIjMmO8npcZebC0LT9Ck9iP317UoIDK4E4elvrkOYDbW1LV1kMBbKN/XpQoJH/Ct7jfHuD4g4p7GsVtlvfVvqfajp8ZW/MFw/ER+81IaUClKUFWXTXFvKbN/b+6xnP324dzT5NxLyEBMeT9Eh9CQyv6rQye21E5GV4Tf8UvMrkfiiOhdwkK8W948pYbjXtI81oJ+FmWB8rvyr+VzsQpMzzDFbVm+M3HFb0hRiXJgsrUg6W2rzS4g+i0qCVJPoUg1HOJcqut4tc7FcscT+lOJSBbLtrsJHwhTEtA/o32ilY+iutHmhQAbrFMsxnkrGftS0KMiHJDkWXEktFD0dwbS7HkNK7ocSdpUhX/zBBMW4RkP2W2XXiq5PLXLwWULfGU4drdtax1wXD9dNfcknuVMKPrXhybjwwp2fzNiN5ttiuMNgO3pq4PiPbrvHQNBMhR7NvAaSh/uR2SoKToJpibyFd+WcqtHJWOpvGB4u89GxHKFPBLF6/wA50uP1sqB91R4zjbaXVfGoPgpABBoJ7yZZ8JveTScW4sxj3jkBSR77Os8lUGNaUuDs7cXmvhPUO4YKVOuDySE7WK+wTA+SfZ65KgY3cYtt5KRPt5cxqdcHzAmR/CT/AJ1boXWVx21JT9622rwi40XdukMqFdS4riWN4RZmrBitoYt0FpSl+G0CStxR2pxaySpxxR7qWolSj3JJrB5DwmLn2MvWRyUuFMacRMts9r+dgTWj1MvoP1SrzHkpJUk7CiCGnx3mvB71dGsbuzs3Fsie2EWXIo5gynSPPwSolqSB6qYW4n86weRL/d8ovrPEGD3ByJOmsCVf7qwfitNuUSNIV5CQ9pSG/VIC1/hG4ve+TIOX4InBskwm0X7PZcxdjdxecyl6MZ7SQpcpxKgemGlCkP8Aia+VaEglakg5GFezxdeLrQkcdck3KJdJGn7p9otJmQ58jWiooWfFaSBpCEpcIQhKUgHWyG05LwPDsPwBnJcfcTi0vA7etdnnw2wVNNoG/dlp/wBM26QEqQo7UpWwQrvWB7N14fVarrZs3iOWzkiXKVfMlhSE9KnVP6DT8c7PiRQ2hDLagT0eEW19K0qAiebZ5mt0zq1ceciYQ7Js2OLj5DkU7GEuXBpbfU4ITbsfp8ZCVPNKcKUhwlLPcAHdWXcYuAc6WeNkGE5hFN3sbq1Wy+Wt1C5VrkEaW04nzCVdIS7HcACgkbAUlJSFj0qB4JyFOuF1ewHPIbNqzGAyX1Mtk+73OMCE+9xCe6m9kBST8TaiArzSTjcsZNeBItPHOJz3IN5yUul6c0gKcttuaA8eSgEEeJ8SEN7B+Je9Hp0Q+sq5hhW29SsQwmwS8vyOElKpkWGtLUW3BQ6k+9ylfdskj4g2Ot0p+INlPetci5+0DP6JCJfHtrCu6opiTp6kfl4visBX7+gfuFbrEscsuG2VnHcdgIiQGCpaW07KluKO3HXFHu44s/Etau6lbJ2STW4SKCGK5ay7C0+PyzhLUa0J34t/x+QudFjgAErkx1IS+wjz2tIdQkAlakDvVm2+4QLtBj3S1To82FLbS9HkR3UuNPNqG0rQtJIUkgggg6Naeq6sUdHEXIlvstrSWcSzZ95tENKQGbfd+lTu2kjs2h9KXCUAa60FQ11K2Fy0IBBBGwaVAMg5etjF3k4jgtqk5hkkVXhyYduUBHgL+kyUfu2D69BJdI7hBHeg1nHqxx5m144mlq8K1yEu5BjSldkiKtz/ADqMkn+heWFa9EPoqPcjZFH5edZsXDdvcvF/sczxI2XMu+Da7JJSdLBk6UJStbQuOyF7+Vwt9lDE5O4QzzkzH/0kzO8Q7nf7IsXCz45DBZtbikkKchyHD94+h9CSyoqIR8eyhWgKt7j+/wCOZRhVlv2Ix0RrRLiIMWMlkM+7JSOksKbHZtTagUKR+FSSPSgqni/HmM5vE6PzhIevGf446kzLPL0LZGQonwZUGOAEOx3Ak9DqwpYUlaFkLbUBewAA0BoCoZyLgL2UCFkWNzkWrLrF1rtNxKSU6VrxIz4Hzx3OlIUn0ISofEkGvfjzPmM3gS2JkFdrv9meEO9Wl1W3IUjpCh3/ABtrSQttwdlJII9QAllVPzPYMFsUJeeqNys+UuOIi26TjxSi43GWrs1GDZ+CQVH8LoKQkEqKUpJE9zLMbFgePSclyKStuLH6UJQ02XHpDyyEtsstj4nHVqISlCe5JAqKYPh9+vN+TylyVGS1e1NqbtFoCw41Yoq/NGx8K5KxrxHB2/An4QSoK+xKRnvGF7d5B9oixG8TbhFbZ/SayBUqLYo/SCqK5FSgOMN9YKlyWwtCz8ThaSlKROuSs4F6xyzYvxvfY0q7cgOmFbLhCdS83GhhPXLuAUklJS0zvpO9F1xhG/jFWU881HaW++6htttJWtazpKUgbJJPkAK54wDidWVXq8c9YJc1YZcb4+63ZGY8RCob1tCk7ckRiAOuS434y1IKFEeFsqKe4XzjtgtWK2G341YoqY1vtkZuLGaHfpbQkAbPmT27k9ydk1sarJvlu4YY6i3802RvHUKWG28gjLLtmeUTodbp+KKT9HgE+gWT2qy23G3m0PMuJW2tIUlSTsKB8iD6ig+qrS/c0tuXyXiXGeMvZjeYClNz3ESUxLZb1gElD8xQUCsaILbKHXE/jSkd68uV71eL7fLbxFi8+RBfu0V25X64xV9L1vtKD0Hw1fheecPhoPolLy/wVILHZrPjlli4/j9sj263w0dDEaOnpQgep19T5k+vme+yQjCbp7QUlIkJuHHUQjRVFTCmygnudjx/GbHlrv4Y39BX6jmO/wCHuJb5lw1uwwSUp/SC1zDNtjfV8pk7Qh6KD+2pCmh6ujYqXdPSo17FLa23GnmW3UOILa0OJ6kqSR3BHqKDfsvMyGUSI7qHWnEhaFoUFJUk+RBHYivuqgwhH6rM9icex3SMVyll6TZIyiSm1XBpPivQWyT/ADK2ep5tPkjwnUj4SkJt+gVVtq/+q/lN/HT93jOfPPXC3d9Ih3kDqksj6JkJBeSP6RL3mXK2+Scv2G13d7FMYgTcsyVnQdtdoSHPdSfIyniQ1GHrpagojulKqh+a8P8AIPNOPyIPIuXIx9rtJt1rsCiPdZaO7Tj0sgOOdKvMN+HsbAPeg3XJOf4NfW7hxfCsD+fXp9Abk2O1dKxEJ7pXKkkhqFogKSXFpc7bbSsgCq8x6wcgIv1t459o7MZZtVwQG8fTa5akQ7ksAqVCmywht12UlIJCSEIeQkqSCpLgTanBs6xyMAj220YzAxyVZpDtru9ohtJbRDuLRAeToD4golLiVnutDiF7PVupVlWLWLNbBMxjJYCZlvnICXWySlSSCFIWhQ7oWlQSpK0kKSpKVAggGg9rFj9jxi2tWfHbREtsFn5I8VlLaAfU6HmT6nzPrWwqssUye+4JfIfGnJFxcm++KLWO5E8ABcwkE+7PkaCZaUgn0DqUlSRsKAs2gwb1Y7Nkltes9/tUW4wZA07HktJcbV+8Htv6H0rna/Y7n8rILrx37N2XzItmgNFq/rucxTkGE8SkiDAkFDjrUhSCrrUOtDCVJPSVkJFk5JlF85Dvk3jvja4Lhxbe77tkeSNaIgr0CqHFPkuVojqPdLII3tekidYxjFjw2xRMbxyAiHAhI6Wm07JJJ2pSlHupSiSpSiSSSSSSaCA8c8gYVjrdu4wuuNvcfXhlBaiWe5KT4UzXdS4koEtS9klR0rxe+3EJJr8kEcpcr+4IIdxjjt9Dkog7RMvq0BTbX0IjNLStX/qPNjzQoDN52nW9eFjE12C2X275TJRarPbriwl5hUpQKvHcQQfu2UpU8ojR+AAEKUmtBifDuZ8L2CJaOJsvVdrdFSVyLRkavE95fUSt55EpI8RDjjilrV1hwFSyew7UFy0qBY9zDYp14j4nltvm4hkklRQxbruAhMxQGyIkgEtSewJ6UK6wO6kJqe0HytaG0KccWlCEgqUpR0AB6k1VLnNtyyx1bXDmIfpHAbUULyKfJMGzk7IJjudCnJgBB+NpBaPl4u968s1H61symcfOyNYpjaGX78wAem7S1grbgLI82QkJW6n8fWlJ+HqBmsdttlttiOy0ywy2lppppASlCQNAADyAoImZ3tBtf5yq58dOpGiYwgTkAj6eP4yvy7+Ef3Vk2LmVTF0hY5yfjDuI3K4rSzBle8iXapzx8mmpYSnodOjpp9DS1HfQF63UqI3WtvVmtV/tUqxXy2Rbjb5zZakxZTfiNOoPopJ7H/8Ax6aPegmdKq7iK6XOxXe7cT3q4Sp6bM01NsU2W4XH5Nrc+FKHFn+cWy4FNlZJKh0EknZNo0ClKUClKUClKUClKUClKUClKUClKUClKUClKUClKUClKUClKUClKUClKUClKUClKUCoLmHL2P4xdTjFst9xyTIugOG1WloOOMpIOlPuEhthJ0dFxQ36brx5fzK82G323FcOdbRlGVyTCt7zjXiogspHVJnLRsBQZb7pSSAt1bKCQF7HjiOG2HCLO3Z7DGWkEl2VJfcLsmbIV3W++4e63FHuSf3DQAADE/TLm+YS7E46xi3NqAWhu539wO9J8t+Cw4jfbvpX0r5Typn9iKnc14rfMFCvjnWCam4JQnW9lkpQ75b8knyNSwnsB9K+me1BsMZynH8ys7N/xi6sXCA/sJdaVvSgdKSoeaVA9ikgEHzFbWqWydtHEmWx+U7OgsY/dpTFuy+IkHwkpcUG2LmkDslxtxSUvHyUwpSj/MJ3c7rrTDS3n3EtttpKlrWdJSB5kk+QoPqqI56ze3cW5hZ+Rcajv3jJosRUK84/AHW/PsZUpfjOejXuzpLqHF6HSqQgbLnaRzM+yjk2Q7YeGloi2tC1NTsyks9cZnR0puA2rtKe8x1n7lBB2VqHhmW4dxxiuEW6TBtUNch+4EruU+c4ZEu4uEaUuQ6ru4SO2vlA7AAACgjGNcezcynW7kLlW6Qr7KaKJtmtMNXXZ7WSNtvNg/8AiZGjsSHB8O/ukt7JVj82cJo5DttxueMym7Zkcq3OW19wkpZuUUg6Yf6e4UhR62nhtbLgCk7HUlXpxhJVgGQXPhm7PlMa3tquuNPuq0HrUtelM7PmqO4rwyPRCmT26hUxu/ImBWFBXecyssMJ8/Fmtgj+G90ES4C5Rf5CxD7KygNw85xdQtGVWsqAcjTmwAXAkf6J0adbUNgpcGj2NTXMMtsuDY7Mye/vqbiQ0jshPU464ohKGm0jupa1FKUpHckgVypyjnPHMXmKPybxzmLybleLf7ku52i2Sbg0i4xtqZbkNsIPjMPslxpwD4gWY6k6KARnYDzbl3Oebxsll8KZI+nGokeXZbE7MhRGQ+838V2d95dbdcQQVNxyhlQQnrWrTiwloJgrFs0wu9q9p++QVvXqYz7vkljYbDiolg2C2hjpG1yI2vFXo/eBTyRspaAuq9ZrjdiwyTn8u5NuWONANy95YIcDrHR1pLevnKgR0gfMVADzqIruHtFXj4I+K8f44ysdnZd4l3V0f7TDceOj+AeO/rXPLmCchxuWrN7OOSc0NRcUkLXlDCcfszMNEZ9DpdatyEy/e+lPipL7aFLV8KFBIAQkJDpTh3GLtZsck5HlbIRlGXy1Xy9J31e7uuJSlqIk/sx2ENMDXYltS/NZrH5Gwfh64zU5LmL9vx+9tt9LN/jXP7KuLaR5ASm1oWpAOj4aips6+JJHavMcE4zM+LJsrzjIVfiE/J5iGVfvYYW2wf8Al1rL9jPAHELLMs8f2UXSavw4MKFa0SbjcHvRLSNFbivqonQGyogAmg5H9unl7JcI4otruBc52jKpTF+jJtt4TEDd7tRLbhUtubFKGFBSUFtZDaSULUkhfUVCb/5P3mfI+d7HcsszVb0m8YnZrfjCpjzpcXK0t1xT5UTsqWlLQUTsqUgqJ71KPaB4muPMWDHD+TISIl0y173PD8Os8kNNWuSEkm5TX2x9+qO2VLcAHgpTttAcW4las/ijha0+yS7jOJJublxs9+hu2eXcxHDPjXFElb8XrR1EJK2XHGgerupA8tgUHQQAHkKUpQfdVf7SmQRMO4nk5zLjPOjGLta7sAwnqd03Lb8QIHqpTanE6/tVaHmdD99QHkJv9KMpw3jlpCXVyLkm+3RtKt+DChkkFf8AZW+Wkjt36T6boK2xjmG/e0Fam8guNtzW2YfI+Wy4vDWZchPY9E2chQW1sebTHQrv3dIJTVrY5nON4hZ4+PYtwzmVptkRPSzEh454TSB5nSUqA2T3J8ySSar+ZxNZeNc+atltuE3FbfkLxGMZHalJbctcxRKlWmUhQLUiKs7XHS8lQSS40CjTO7Ab5Ky/j4iFzPYW/cEHpRllkZWu3LHoqUwSp2Er6klxkdvvQT0gNl+t5H9Wef8A+BK/6qrfHuT08dckXSynj3N2sfzV9d0tjKrMoKZuuiZjSE9XyugB/wBB1+Me5XV/W25228wmrlaZ8ebEfSFtPsOBaFj6hQ7Go3yjhcjOcRfttrlNw71CdbuNlmL30xp7J6mVq136CfgWB3KFrHrQa39byP6s8/8A8CV/1VWnL/ILNla/XFYMLzOyZDjcUpdfl2VSIlzg9XUqDKIUSUlRJaWAVNOK2kELcQ5bmGcj2fJeP2s6uS02duO06m7sy1hJtsphSkSmHT5BTbiFpJ8j07GwQai2OWu4cw3+JyLlkJ6LitsdD+K2SQkpMlweV0loP4yP5ho/zaSXFfGpIaCuuPOV1cqZM5yXmHG2cJcx+S5Cs2PCzlwWZ7oAcff0rSpa0q0D3DbaiEn41k27+t5H9Wef/wCBK/6q8M9xG+2e9p5V43iB6+xm0tXe0BYbRf4Sf9Fs6SiU2Nllw9idtrISvrbkNn5FxC94W5yBFu6GrLHjuyJbz6VNriBoHxkPII6m1tlKgpCh1AgjVBUXLHLcjLUQ+J7LgudR5WQgu3ZQtCkvMWZCkiStA6vmWVIZT+bpPcJVqew+UoVviMQIPFmeMRozaWWWkWFQShCRpKQOrsAABXzw7aLlPYufKuTxHI98zVbchuM8NLt1qbChBhkeighSnXB/TSHh3ATViuONstqddcShCAVKUo6CQPMk+lBX73LEaQyuPI4uzx1p1JQtC7CVJUkjRBBVogj0rj32suc8l9lezY1knAlnyfEIF0vXhzrBerYBZnEJQpwpjNLCjGKj2KGFNo1s9PVtVdd3DmFy9zHrDxBjqswuTSy09NL/ALtZ4Sx5+PM6VdRG/wCbZQ655bSkfEKG559nqd7SDyeJMyzmReslQlN0uF0jMLYtGKtEKDSI8JLn3rzp7Dx3FrKErVtI0mgkXsq8so9oBjL+aXLYbfIucm22ZMbxg6GI8a3sP+ElYA2n3idLV3/b7je6vtv1qpsSwmz8BZvb8FtQ93xnIcfgQrW66dJ+1LawWnG1qA34j0RLC0/UxXjskgVbCCBvdB90pSgp72oM4icX4bYeT5sKZLbxbJrdMUzDR1vrbWssOpbB7bLTzif3Ej1rQ47ynknOtoav98hZrb8WlfLZsQhuB54eqJdxSoOJOj3bj+EQfNxQOqnmUMMZzyriuAiM3KjWBxzJL8lSOpttpLbjMRle+3W4+srCT5piuVEk8WWbjXOWsbZudzxRi9OlGJZVaXEoWy73V9kTkLSpmSkfEpjx0K6kdSAUrQFLCf4xmeL4XZ2cfxLhbMbPbWNlEaHjnhNhR7qUQlXdRPcqPcnZJJra/reR/Vnn/wDgSv8AqrWjkHPePB7ty3jiblbG+wynHIri44T3+KXC2t6MdDZUgvNDzK0fLVg2LIbFlFtavGOXeJcoT4Cm34ryXEKH7xQUPkvJyeP+QkcoxePc3i2G9st27LEO2VSEocR8MKen4vnSVe7ueqkLaJOmAKsn9byP6tM//wADV/1VMr3ZrbkVnm2G8RUSYNwYXGkNKHZba0kKH/A1BuHrzcoke48X5PKW9fMOWiMH3PmnW5YPukr8+pCShR76cbWN7FBrMxy3G89x6Xi+UcSZ9LgSwnqAsq23G1pIUh1txKwptxCgFIWkhSVJBBBFUwv2j87mzTwi7bsvRINwNoXmjVo6JTrQa8Qx0tD4EXLo+FSk/ACfESEq+7Td2WZZfM+yKRxbxrcXYSYhCMmyRjR+y2yN+6xieypiwfPuGUnrO1dCTJXuKsEdwVPHCLC0zY2kBLLTSlJcacB6g+l3fWHgv4/F319XxEkk0EXxTM8cwjHoWLYvxFncG2W9vw2WUWNR9dqUolW1LUolSlEkqUSSSSTW2PLzYGzxpn/+BK/6qwsMzK/YvkDPFfJ8kvXFaVGwX9SAhm/MJHyL18LcxA/nG+wWB4jfYqQ3+8uXCfkku3cMY5Ldjz8oQp28S2F9K7dY0ECS4FDul17YjtHzCnFuDfgqFBAsL5PGcZvL5bl8fZxKtTLCrXioasylo92JBkyvm7KdcSED+w0D3Cgasn9byP6s8/8A8CV/1VN7fb4Npt8a1WyI1FhwmUR47DSQlDTSEhKUJA7AAAAD6Cse+5DYsYtzl3yK7xLbCZG1vynUtoH8TQV7kecY1mFnkY9lXDGY3e2S09L0SZjnitLHmNpUojYPcHzBAIrjD2hfbB5C9lDmHEsewqPlEvCpNuVNl4/mA29pbym+iPKcCpAQgN7SXHHACpQ0UhIT2qrPc8z0eBxTjKbfbnOxybI2HG4/T+1FhApflH1BWWGiDtLi9dNc+cg+yfivtTZlBmXfI7teIuGz20XLKp7ylrvDyX21SLdEYaKGGIyG0upK0I34rg11dDhWFv8As5XxvMuNFZ8AQvLL7d7svqIUQPfHI7Q6h82mY7Kd+Xbt2qz+n86rzA0/ofm+WcYOxxHQqc5kNjbSgJbdhSldTyUfmiR4ux6BaPr3sQb13oPivxWtdxuv2lBXmS3uPjnN2AyHkP8ARd4lytCvBjrcIKlsLaCunfSjrV3URobBJFXNVS4uUZhzhdL/ABUuLgYbbDZfG7htVwkKS48gfVTbSGgr6FY9dgW1QKUpQKUpQKUpQKUpQKUpQKUpQKUpQKUpQKUpQKUpQKUpQKUpQKUpQKUpQKUpQKUpQVJdle++0RIakklNowyO5FB/D71Mk+8FP5n3KNv/AGRUwQNGotygtWHZ5jHJLrgas8pC8XvrpB0yiQ4hUJ9R9EpkAtE+nvezpIJEs1rtQeiPlFftKUGmzi2wb3h19st2ioet9wtkuNK2Nnw1srSQP3gmuT+L+ds09opi02bKrLaIrUeMxGbxzIciXZ0XSS20jxH3SI7rk0FR6wygBCQpPX1b3XR3M1wku4unBbK8Rf8AOFqsFsQnuWvFSS/LPY6THYS66SfNSUI81ivLkfimDaGv0nxfD4l/t6IrEW/4q/HQ+1d4bCQltxptwFJlsoA6Ce60joJ30kBuItk55lRmYqcmwTG4bSEttx7bZpEtTSANJShxx5tAAHYDwfp5V6/qsyy4d8j5qy6WD5ohCNb0j8gWGgr/AIqJ/OtPjODx5Vgg5bwPydcINpuDIfiwpjirlblp9UhDx8Zkg7SUhY6CCnoBGhszyNnuI/ByPx1Kfio+a74wF3BkD9pcbQkIH5IS5/CgjHJXszY3e8e+1bG3cLtldlcTPtTt5u8h9MhaCFLiOqK+zT6U+Gs+m0q7lAqYcZWHiXIMYteZ4fgdmhIns9fx21pEqO6klLjLp0VBxtxK0LST2UhQ9Kk2JZxh+d29V0w7JLfd47a/DdVFeC1MueqHE/M2seqVAKHqKpDO77eOP+WF8Z4FeY8AcoOJkuyCOr9H5hCg7JSnRT1yG2z4aFEAvNqVojqBDYczWa4+0KbxxXibrbdnxhSJN0uJALci7tadjW1B8tJPQqQofKlaW/NSuiTxLNZuasCxvObK65juRRIwXbrhGbCX7ZIT8LsZaD2W0FpKFsq+E9PkCARPcSxSyYRjsHFsdie7wICChtKlFa1qUoqW4tR7rcWtSlrWdlSlKUSSTUHxlX6A8vXnCHPu7RmjbuTWX0S3OQUpuMcfmorZkgeai9IPkg0HpYuY4ltt98t/KqI+OZBicBy5XZvqJjyYLaSTOiqPdxghJ2O6m1bQruATqMa4pkZhxxcLhmfvFpyzMJacickpSPebLKABhNo35KjNhtCk76VK8b8LhFR32k4uF5xf7NiuUXuNY4GIo/Sa53whJdhLVtqDFb2CHC8+OtTOleII6UFKvETrGxTLeReW7vG495TXMwSO5EMhplhC4c3KWEqIU42vfVET09CnGAfHT1+aR3AbnF+cMy5BYf4/w6wRTndieVbcqnvBRs9mfQop8VKxoyS6E+I0yg9QSoB0tEEVOLFheK8XwrnnOR3dy43VMZb92yK6KSXiygdSkpPystDWw2gBPYeZG60GZYdD4pFs5I42x9mHHxuH7hd7TAZCEzbOFFaglCexdYUpbyD5nqeT/pDXk9cYXPmUtWm0SWpnH2NvMyrnIbPU1eriAlxqGk+SmGdpce9FOdDR+V1NBtuK7Pc8gny+YcshuR7nf2QzaYTydLtlp31NNEH5XHOzrnrspSfkAE1ynF7JmVilY5kMMSYMxIC07KVJUDtK0KHdK0qAUlQ7ggEVtaUFLmfyRxWfccvs91zbHWgG4t+ssMyLjHaBJCJkFoeI6obI8WMhZV26m0aKj9K9ofg9txTMnlPHIDyVaUxc5ggPp+m2Xwl0H6jo2CCCAaualBTC+WZeXkW3hzE7pksl0drtJiOwLLH8h1rluoAkJHf4YyXVEgbCRsiacdcdIwtE67Xe6G9ZLelpdul0W0GgvpHwMstgnwmEbPQjZ8yVFSiSZnSg1OV4tZs0x+bjOQRfHgzm+hwA9Kkne0rQrzStKgFJUO4IBqI8Z5ReGLjO4qzyUHslsTKXo8tYCRerYT0tzED1UD928kfI4AflcbKrEqH8k4I7mFviXGxzUWzKLA8qbYrl078B7p0ppwDuth1PwOI8iCCNKShQDU3Lh9m2TXr9xXfHMOurqvEdZYZD1slq/wDXiEhPf1U2W1/2q8InML2LzGrFzVZW8SlOrDUa8peLtjnKPkESiB7u4f6KQEHfZCnddVSPjrOmc7sS5T8JVuu9ueVBvFscVtcGYjXW2T+JJ2FIV5KQpJ9dCFSifaDuDtta78ZW+QWpbo+XJZDatKZQfxQ0KGlqHZ1SSkbSFEhWzHu2Y8uxM1lQ5LHD2b3FhuIytzpZvF+Zb6Y9xcbI2Ib6EJbbBOnnGGHCnpcSVdUAADQqk869n+5HFrlYOLclVbYExvabFclrfgMOpIU25FXsuxFJWEqSEkoHSAEJFZXEPP1syVLODciJVjee2982ifBmjoZmTm0gr90e/m3upJS4EJPX0LSrp6SCQuKuZ+cbHKHJbMXA7TNuMBxtjIORbLCI1PgsuAMKQjR6pSlo30ApLzTC0/EQkGz+VOfcD4phzxPclXm72+L727aLS17xKQg9kKdA+FlK1EJSVkFaiEoC1EJML474a5HyCNcsh5fyVdrfymabnc7NYn1NOFJASzEemJIc8NloJb6WSgFXWrqJWdhLXOfcUvqGLfxHGXyBdpTDb6I9ocT7rEQtPUhUyWfuoo0QehRLxHyNrr7a4syDM1pncyZIm5tkhacetRXHtTP0C+4dlEftOEJPo2neq1U3GP1ASXcp4/s5/QZ9Qcv+Pw29iAdAKuERA/IAvND59FwfH1ddgX/P8Vx7CneQJd0besqI6JLT8c+L7yHCA0hoJ7uLcUpCUJGypSkgdzQabPsqGA2e2YngtmhO5HelmBj1rQgNx2ykbXIdSjXRGYSetZGt/ChPxuIB2vH2CwsBsRtrcx643CY8qbdbnIA8e4TF68R5euw3oBKR2QlKUjskVpONcTvRmzOS88YCMpvrSW0xeoLTaIIPU3CQR26gT1OKHZSyfMJTVg0GizbC7Jn2PP47fW3PCcUl1l9lXQ9FfQept5pf4XEKAIP/AB2Niq0+3uQONj9n8j2C4ZBaWk9LGTY/bnJji0jy98gspU+24RslbKXGyQSfD6tVdFKClWvaJ4L0A7yxjEd0npMaTcW2ZII9Cwshwf8A6a/U8l33OXPs7h3EbncFuJJRkd3gvQbPE3oBwKdSlyafm0mOFIJGlOJ86umlBFOO+Pbdx/bZTaJbtyu91kGbd7rIQlL86QRrqUEgBKUgBKED4UpAA9SdtlOMWTM8fm4xkUJMq3z2/DdbJII7gpUlQ7pWlQCkqHdKgCO4ra0oK447yi+We+P8S5/OVJvUBkybTc3Br7btwOg6fTx2yQl1I9SlY7L7ZN94cx+XcnckxKdNxG/Oq61z7OpLaX1ef37BBae369Sd/nW15CwOJndoZZRNdtl4tjwm2e6sAF6BLSCErAPzIIJStB7LQpSTrYIw+N88mZO3Ox3KYDdsy7H1IZu8FCiW1dW/DlME91x3QklCvMEKQr4kGg0auRc447Phcu40mVaEf/zVjzLj0VCf2pkP4n435rR4zQGypbY7VW/MeXy86usbLfZ/nLub2JRHDk2QWV5t5DlmeSlT0CKoBSZE3pAkNJHZstjZBeCVWXmGV5Fmt9k8ZcXz/dXoig3kWRISFItCVAH3dnfZcxSSCE+TSSFr7lCVebHs/wCNYzGZc4vu1xw65MoCVyIi/GZnK9VzI7m0PrUSSpz4XFHzXrtQTHj+0YhZsPtcfBEsGxvx0S4jzKy4JKHQFh8rPdxS+rqKySVE7NSGubsIzy/+zzf3uLuWrUTYrguTdcevNliuvxI7HUFSGHWhtxpLa3OsaCkoQ5olKUiryk5/g8TFUZzIy+zox11tLrd099bMVxKjpJQ4D0q2ewAJJPYd6DF5Pt2G3DBrsvPAE2aEwqa8+FdDkYtDqS80sd0OJI2lQ77qluE8zf47cuc72ibkzZciyZhF0hXy7SEMszLW0jTMUrIQlqQwhW3WfMqcW4Ngq6fTJ8syz2issbwXji0Kt2L4tMjT8gud/huNImPlIdixW4p04pI22+tLnRtPggjoc2Z/L9n/ABTIYjrufXS7ZPeXAlbN1lyC25b3kkKQ7CbRpuK4hQBStA6/RSlDtQfac6z3kE+HxhjZtNoX2/SXI4zjKXU/tRIJ6XnR9HHfCQeyk+KmtlYuIseg3FrIcnmTMsvrZ6k3C8KS54KvPbLIAaZ7+XQkEfWsLCcwv9hvjPGHJ0pDt6UharPeQ2G2b6wgbJ0OyJKE6LjY8/nT8OwnN5IzW62yRBwbCG2pGX39CzEDiepqBGSQHZz4/o0dQAH41lKR5mg1eeX27ZvkbnD2ET3Yq0NIeym8MHvaobg2iM2ry97fT8o/0be3Fa20HLAsVjtOM2eHj9hgNQrfAZSxHYaGkoQkdh+f5k9ydk961mCYRasAx5uxWxbshxbi5U2bIPVIny3Dt2Q8r8S1q7n0AASNAACQ0EQ5E47iZ3EiSI1zfs1+tDhkWm7xkJU7EdI0QUns42odloPZQ+hAIgrnJOQYIFweW8MusFTZBF9s0N642eSnYCnSplKnoZ0QSh9AbH4XVedXTSgplHtEcEr6kp5axd14EJTHj3Nl59R+ngoUXPp5JNfn6SZ/yav7L42sV1xuzO9IkZTfreuG6lsjZEKE8A8tzR0HHkIaTvqHi66auelBpMNw+x4JjsXGcfjqbixgSVuK63X3VHa3nVnutxaiVKUe5JNbulKBSlKBSlKBSlKBSlKBSlKBSlfigo66Va0dntvY+lB+0pSgUpSgUpSgUpSgUpSgUpSgUpSgUpSgUpSgUpSgwr1ZbTkdom4/frdHn225R3IsuLIbC2n2VpKVoUk9iCCQRVTAZtxG2m1XqHdMtxOMQ3Bu8Vv3i5QmO+m5iN9cnp7APp2pQ7rBVtarmpQVM3zdxE62lxfIljhlf+iuMpMN4H6Kad0tJ/IjdeT/AC9ZLi4LfgFvmZjclnpS3bG1e7JO9bXKUAylPns9W+3katKRZ7RKcLsq1Q3lk7KnGEqO/wB5FZDEdiM2GozLbSB5JQkJA/gKCB8fce3a33d/kDkCbGuGWzY5iIEcKEW0wysLMWKFEkAqCVOOdi4pCNgJQhKbApSgqfIoUrhnIZ3IePxnHsQvD5k5RbGUlRhSFfNdI6B9f/MIHza8UfEF9dpQpsS5Q2Lhb5LUiNJbS6y80oKQ4hQ2FJI7EEHzr1UlK0lC0hSVDRBGwRVL3G8RfZnlyJd4dLfFdxdK2ngCr9Gpq1fzJA7mG8s6Rr+ZdV0fzbiPCDM5xx3jthuNkUjF3pGdXBwW6wPWSWu3XeVJIJS2JTJSsMpAK3PEKmkoSoqSR2MK/UTy5Y8KvNquWRWvPLhkgZmXW4PJ+z7uzcGUpLD0WQNsrDC0IU0hSGUjpJUSVq3ZPGuPXi/Xd/l/OYSo93ujHgWe3OdzZrYSFJa/J93QcdPnvpR5NirFfkMRWHJMp5tllpJWtxxQSlKR5kk9gKCmuMvaOsN0gjGOVt4fm1mUi33uJcGyzF976EqC2Xz92pt1KkuI+LfSsDzB1ge03yJZLBj0e4Y2v7VzPEHm8qt8WIrYYZaQoPqkuD4WGHYy5DRUruQ6SkKIqJcr5DPyvIByBxq09Cw1bKLFmGTvQkPx5cEu6Q9CZc7PrjrW5/nKkqaQhx0AOkEI8r37PGJwsns3EXCd7uOOsOxm8hypTkl24wZUVpXTDRJjur6VrkSEbJQpvrajSEk6KaCYcA8WsX9pj2gORn271l2WKRe47PUVwbIhxoJaaitn/SIZ6UKeWC58yR0JJTVs5xgti5AswtF7S+0th1MqDOiOeFLgSU/JIYc/A4nf0KVAlKgpKlJNJca5znnDt6vnE/IGESbzEtjpvMG64syqQ0iBLdWQPcVKMlKUOh1Om/H6dDataJthrmjjCRjFwy2LmEB6BamVPSwhe3munt0Fr5+snSQjXUVEJA2dUFd5Byzn+LSoPCV+90HIGRlUXHr60gIgzow0HZxQSfCeZSQpTB2CsoCCpKu2y4yskf2fb5D4dLjq8Rva3ZGMTXjtTM5XU7KgOq9VLUXH2ifMF1H+jT1ZuM8WIzy0XjLOXrNu95glsphFenLDBbJVFiMuJO0PIJ8VxxB2X1K0SlDetXdkTl29XCnM9xeWLkpKcXzFsBv3qQ2etgOKAAj3BpSUqHkl7o60aPW2gLvpUJ4szO5ZLaZNlyptuPleOOi33thA6UqdA2iQ2P6J5GnE/TqKe/TU0ccbZbU66tKEIBUpSjoJA8yT6Cg+qVUz/LGV5yHRwrZLbKtbLimV5ReVufZ61p2CIkdrTszRBT19TTW9hLiiCkYq8S5ikKS/cvaCuzD29qatGPWxiP8AuCZDMhwD97hP50Fx0qoUZNzRgockXqNA5Ds0ffjrtcL7OvDCRrawwXFsSx57DamVdvgQ4T01Y+K5Zj2bWVjIcYubc6C/sBaQUqQsdlIWg6UhaT2UlQCgexAoNvSlVbl99vPJV9lcW4BcXoMCIrw8ryKOrSoSCAfcIivIy3En4ljswg9R+NTYoK15YiXbPMuumS8ZQrk/jNsZFsz5VrkeE5kcZtYK4cQpG1PMp8QLcQUqUhSmUq6iko6GxKfjVzxe1T8MXCVYnYbRt3uSAhhMcJAbShKQAlISAAnQ1rWhrVam43zjvh7GIcGXLgWG0w20xoURHzK12ShpsbW4on0AKiT6k1RDs3kmx5I7JsiLjxtxXmNzSHZUyG0u5wZzpPU6yyslEBiSsgEvIWpLpJ8JsudRC+sy5LxLB1swrtOW/dJY3EtUJsyJsn0+BlG1a326jpI9TXP/ACfh+U5Pfxl3IFobxPjvMnoNkyi2tqYlTlpSVphTJBWhbUb7xbbDimypxKFNK62/C2noPDOOMPwRt5WP2z/PJZC5lxlOqkzZi/23pDhLjh/ee3kNDtWFzHdrDaONL8rI7WbpFmxTbkW1I2u4PyCGWYyB6rccWlA/NW/SgoVri674tn/6F8Pw27/hGH3CPkl4sM51Db7t1V1KjsonKBVJU38EjplKUoLSyS98ISL9xDlPFsumrsaVyLTfmE9T9mubRjzEAeaghX84n+2gqT+dQn2XINyxbB5fHeYyPeM2x6WRkUtTqnFXF91IW3M61AFSVo6Ugkb+7NWNmGBYlnkJEHKbM1LDKvEjvpUpqRGcHk4y8ghxpY9FIUCPrQb151lhlb0hxDbTaSpa1kBKUgbJJPYDVcrWRliz5bE5RftcxXCcG6yJNkhFW2rTNcCU/bHgdO/ciovhpOyGfFU6EhKk+DmZW7yfMvc/i23XG6ch8f2N5leUSmGWm70y2R1/ZQeC0NzSU9CnelKHks/CS446k1fGG5lgudWdbGLTYsiNHR7rIt6mvCcigDpLLsdYCm9D4SlSRry1QSVl5mQyiRHdQ606kLQtCgpKkkbBBHYgj1r7qorY87wPe2ccuLqjx3d5AatEtaiRYZTiu0J1R8oy1H7lZ7IUfCOgW927QKV4TZsO2w37hcZTUaLGbU6886sIQ2hI2VKUewAHfZqq18nZ7nyl/qoslutdkHyZNkjLq25Q7/FDgNqQ6+32P3jjrKT2KQ4k9QC26VUqcP5WdQXJPP19RIK+oCJYrW0xrfyhDkdxevTu5v8AOvxOYcvcfrU5m9rhZlYmwFO3Kxwlw7lER2+JyCpbiZCQOoqWytKtDs0e+gtula7HsiseWWaLkOOXSPcLdNbDjElhfUhaf3/X0I8wexrY0CqA5nGR59liLdwTIMfNsWaW1c7426ltiPFdSC5bVqUlSVvugJUhJBDKghxWuwM1zLLL9lt7f4v4znGNNbAF+yBCQtFkZUPka3tK5ix8iTtLYPiLBAShcgtsHAOG8OagNyIViskBKlKelSNFxZPUt1xxZ6nHFqJUpaiVKJJJJoMHhiThj3H8CNg9udt0OEtyNKgyN+9RZoUTIRJKviU/4hUpalElZV17PVsybIMksGKW1d4yS8RLbCbISXpLoQkqPkkb81H0A7n0Fc/5nfeQpGQSeWuA8RmRIC4vhZJOu0FXg3iMgANyYcDrbekSWQSUuKLTbrW0BTmm+iy8C49wm4tQOQ5F7kZ1c5jIfjX26rS90oWN6jspSlqMn+y2hJ7fFtQJoIjyLMz7mK1Rn+IcV+zZtilJutlyTIOuKz7y2CAhuOB4rrbqFKaX1dCehxRB6kpqvE8dYHb8Lh8+YjcroOSp1wKWBLgxlB6+uK8ByE7b0oSw0pLiFoccaCJHShRL69bPXFcx2h2D/KTf5E90cHH8+4OWS3veJ/mxypCCy/PSjWglaG/cwvZBdZX2G+shKuPL7feEceRj/LeNvNuPyHp9yyy2FUyDOmvrK3n3gEh2PtR0ApHQhIShKilIq57VdrXfbezdrLcY0+FJT1syIzqXG3E/VKkkg1lKSlaShaQpKhogjYIqpuQMDxXArddOScUyxzjuXGSZMyREYD9vmq8gmTAJCHlKJABaLb5JAS4N6oNlz0vFn8I+xr7AmXC53GS23j8W2veDcFXNPxMuRnf9CtsjrLp+FKQrqBSSkxbhRN4wbJJ+N8zSmZXI+R9MhV/T2iXqO0D4bEQdKfBDCVKBj6B6lLdHV4ijWjwXL8jsWRnkr2lMUl2K53CMiNaJ7LJdtFqhqCSWlkKWuJIcV8Thd0n5G0rV0HdzZTi+K8p4wmHJkiRGcUiVAuMF4B6K+nu3IjujfStJ7g9x5gggkEJPSq7wbOrzCvg4v5MUy1lDDKnYE9tvw4t/ip7GQwPwOp7eKxslCjsdTakLNiUClavJsosGG2STkeT3Vi3W6InqdfeVoDZ0AB5qUToBI2SSABVcpyrmLkFr3zEYVrwSxrXpqZf4a510lN631ohocbRF3sdJeWtXn1NJI0QtqlVGrDeWGh47HtB3xchJ2ESLDalRT+RQhhLuv3Og/nX6zyjm2AJQeY7RAk2UuBsZVYWHURmtnSVTIbiluRU77eIlx5sea1NgjYW3SvOPIYlx25UV5t5l5AcbcbUFJWkjYII7EEetelApSlApSlApSlApSlApSlAr8PzA6J9PPsKEb13I1/8AOv2gUpSgUpSgUpSgUpSgUpSgUpSgUpSgUpSgUpSgUpSgUp5VVF15VyPLLhJs3ElvhvRIjyo0rJLgFmEl1BIcRGbSNylIIKVEEICvh2SCAFr0qoxgmeXDb145tydD5OyLZHiRWvM+SFNOEen4vSvxbfNGGlMiy5HHziKkjrttzYRFmKQB8RbkNAJKv9psD8xugt2lRjAeQrFyHa3p1pTIiy4Lxi3G2zEeHKgSANlt1HfXYghQJSpJCkkg7qT0H4SEgqUQAO5JqoIMKP7QN8N+vEZL/HNmeW3aIbg23f5aSUrnOD8UZs7SwnyWoKd7p8I1mZrNl8pZLK4jx6U6zZYAQcwuLKiClC0hSba2oeTrqCFOa7oaUN6LiayLlyC67Nc444XssS53G1BMOXLIKLTZOkABt1afndSNajt7UO3X0AgkI2rkBr2dp7OCZy/crlYbltGGSo7DkybId2B9kqQgFS3h1DwlnspG+pQLZJ3sbBMp5OebvPMLSYNoCg5Ew6O+HGUAd0qnuoPTIc+raT4KT2258xyYvA+JT7dcjny3crvl6YDE27zfhebSFBaUROn/AMIhC0pWgNEKC0JWVFSQqvrBMpvuPX4cUciTjKurbSnrJeFpCRe4aNbKtdhJbBAcSOx2FgAEgBMMlfxuzYlc38hajt2GHb3jMbUgeEIqWz1p6fIjo2OkfuqlfZTZmY21e8Uy+JIj5PcG4t/jLlPF12RZVtJaiNhZAJMUNmO4n0UEuHXjjcz5N/8ApzmFg4hYV1Q3em/5EB5C3sODwWVf++fCRr1Q07ryNbHlrGLrMgW/N8PYSrKcPdXNtyAen3xhSQJMFR/YebSB+TiGV+aBQa/mgKxNdj5nipI/Q59SL10j57HIKUTFH8melqV+6MsD5qi19wPEPaF5KfnXGzR3Mcwt33X7Rj/dP3G7J0dJeRpRajfD668Y/Vs63WY8hM8jY7ZsK42lIdn5/AW6uS60Fi02ojokyXWzseIOosobV8zpIO0oXrL9n+NHxLHLhw74SWnsBmKt7I0Ap+3ukuxJB15qU2ooWo91ONOqPnQe5xLlzDtuYVm8fJoKO4tWU9Qd1+y3PZSVpP5utu/wrXXrlHBbxbXsK51xObhouIEdaL+hJtkhRI6fBuLRVH6urRQlS23t6IQCO0tyLmHifEpHueS8k4zbZRPSmNIujKX1n6Ja6utR/IAmtHI5wwy8MOw7Fi+XZQ08gtrRExmUI7yVDRT4shDbKwR27LI+tBUedXnIPZ+yG2Z/dZz16scJsQ2r31hSrlaieo2+Wr5fe2tlyK8ez5CmCQ46nqnuZZdYOZX8cw/Dsih3TFL1CXfLtOgSEutTICHPBbjBST8SXH9pcSO/S0tJ18WuRv8AKD2S5WTgF+RhPE2RYJYrne4ce6RTcWkwXGvjcT1QWVuMsfettHrQUDq0D1FVbv8AyW8TKbXx9fhk7jzaZLNvkWFLh2BbS7NDnT9B4qVn+NB3ClppphmNGitMNMNhtCGx0pSkdkpCR2SANAAD0r9KVHzFeuhTQoPJsfn5VBrownj3ki05raGxHtmXTWrJf46VhLapS21mNM6f6TqR4SlDzStAO+kGp90/nVVe02xf3+IpbWISGGMkdutqbsjr4203OM1rw1LHqkaVv8t0G75b5QbizJOB2DJodjcjMIk5LkUl1CI+Pwl76fjUeky3gCGm/MAFZGgkKwsReyy7WGLjHC+NKw/Eo6dJyK/xV++TOo7U7GhL04pSySovyejaj1BtwHdVL7PvGOV295bF4mYxeOQLO+q4XRnKW5apcWW6r4pjTIV4R8Qj4ZTfWSB0BYCfDT0J0c9f0+A/8mb/ANVBmYlxVi+Kzzf3Per1kDiSHb1dXfeJatjuEKI6Wkn9lsJT+VSW9Wa1ZFaZdivkBmbb57Ko8mO6naHG1DRSR+6od0c9f0+A/wDJm/8AVTo56/p8B/5M3/qoMDj68XXCci/U3mU52UpDC5OK3aQra7pAR88dxR85UcFIV6uNlDg2Q6EeUX/6z+W3Z6/vMa44eVHijzRMvy2yHXfopMZlfhpP9K89vSmkmoTz5H5llYfDt70jCkX2XdYrGNvQ25aZUe5qV9280VEgdCfEUvY6S2FhXYmvThGRzDAxuRgEZGDwbvikhUW6xZKZi3luuEuCWVdQ60yOouhfqSoeaVABM+VgcBv9q5sigphWxItmUhI+a0OL7Slf/CuEOqPo0p899AVsuTcxvEd638f4G62rK8kSvwHikLRbIadB6e4PLSAQEA9luKQO43UX5Jyrl/EMVkS71GwK6GeoW2HaUR5a3LpJeBSiKhJVolffe/hSgLUrSUqIgHAuLcy8fX2/YJcZOIPZLGiQn25c9cx9btoDfRHjsr2CWoygtk7+JSvvFd3QAHReF4fZsExyJjNiaWI8YKUt1xXW7IeWSpx51Z7rcWsqUpR7kk1q8w4txXMZaLy+zItl8YGo95tjpjTW9eQLifnSP2FhSfPtWB0c9f0+A/8AJm/9VOjnr+nwH/kzf+qg0F5uub4dbJNj5XxsZ5h0tpUeReLVALstplQ0ffbegEup15uRgo+paSAVVqsJ5Nx7jliJbrznUC68c3FC1Yzlrs9DjMYISVKt8uQToKQlKvDcWQVJQUK+NO1zTo56/p8B/wCTN/6q4K/yoWH5dY8Dsl/u0THLai/3zouzmPty2UTVoZUptcpBV4biwRpK1J6/IBWu1B2tnZjco8hQ+MVySrG7JCi5Bf8Awl7RNU+44mDFV2IU2THeecSfMIaB2lZqeIbQ02lttCUJQAlKUjQSB5AD0Fc0+wjbM6s+A5Db+T1vfpKxNtrZQ+CHUW4WaD7mlwHyWEdQUNkhYVs72a6ZPlQeZJB7V+V+nzr8oIBAYTxnyxb1WpvwMe5CfejTYiNhmLeEMqeaktj5Ww800824kaCnEskDZXv15R5SX7/NwfFsig2JFubS7lGVTXUIiY/HWAQ2hS/gXMcSfgQezaSHF+baHIt7UyM0k4FaLdxvJjRsulZJbE2N+T/NNSw9sLUPyR4noexO+xNQv2f+Ob7FaS0h7FLrmWPu+PcGMoamKuFuluEqVISwVeGhTiuoiS2FFwE6cUBoBauHzMhlWNnG+D8PVYceQVKVk2TMOpXLWo7W+zEV0yJC1nuXny0kkhSfFTUssXEWPQLi1kWTS5mV35ohSLjeFJd8FX1ZZADTP5dCQR9a8ujnr+nwH/kzf+qnRz1/T4D/AMmb/wBVBPqqO6b4JyJ3I2AU8d36T1XdoD4cemuK7TB+zEcUdO+jSyHOyC4Ub7o56/p8B/5M3/qrEu45mRapqr5I44+zRHcMz3lmWWfA6T19fUrXT073vtrdB78u5Dd/dbbx5h85UbI8xdVEYlNd126EkAypo/NtBCUf+q612I3W2uPGOJzeOP1WxoXuVlagogxUsnS4obA8JxCvPxEKSlYUe5UNnfeuZOFhzDht9tl6uoxpq1ZtFELDpV198WLdBQta49t8wpsuNnxm+slRSA2T1N6rono56/p8B/5M3/qoPri3Npd3xqdb8ykMR8jxCQu15Bs9CPFbQFplDfk08ypt9JPklzR7pUBo8WjP8y5FF5JvTK04jaH/ABcTt7qdCY6nt9qupPnvv4CT8qfvPmUOmhuTjypmeS3TPmEYwvDbAY9hzCRBEtMe+sNyepxsp2VONQlqWXFoI6g7IaG9HXR0VPOJjM+5SOPPd/DT4XhMzOjo18PTpWta1rVBYK0IdQptxCVoWClSVDYIPmCKrqdw3FtUty88W36RhlwWrrWxGQHbZIV/6sNRCNHy22UK+hFZPRz1/T4D/wAmb/1U6Oev6fAf+TN/6qCHZnkzUi1pxn2hMacxgNPJet+Y2p5TtrjyU9m30ydBy3uDf/mEpbPV0B1zZB3mGcst2ycnBOVbzbIN9T4ItdzU8hqJkcd1xDTT8Yk9JdLjjba2QSUrcRraXEE7Nxjnd1tTTrnH60LBSpKmJhCgfMEdXcV/Mj/KC8fZvYubOPMPskKJbV3GOJNotuMNykxRcXZSkExmFq6G3VFDWw10A/CdbO6D+jDbI5G5SuN9u4DtgwSSLdaYhO0O3Xw0rflqHkotpcS2j6K8Q+dTpv1qrPZkGRp4aht5oUHJ0Xi8i+qbVtCp/wBoP+KUkdun5da9NVabfrQetPQjzBGiPqKUO9dqCDcXtvYFmt04uT1ixSov27j6FK2IrZc6JEVHf5EuFK0J0AkLIHYAC2aqS8RrtK5zwJu3ONtIgWy8SbklR+Mx1CMlIT6b8VTe/PspXke4tugUpSgUpSgUpSgUpSgUpSgUpSgUpSgUpSgUpSgUpSgUpSgUpSgUpSgUpSgUpSgUpSgrPmS5Xa6u2XizHrk9bpWUF5+5zmF9L0SzRi372pojuHXC8zHQod0+Opwd26kFstlusluiWazQmoVut8dEWJGaSEoYZQNIbSB5JCdAfx+tRWWpCfaHuDslPdjDLeYpP0VOll8A/wC5H3+4VM6D9p51+V+jtQV7ycGeP7pG5vtRUwbKyiNkjSfKfZQoB1S+3dcUKMhs+fSh5A34uxtuaOVmsItzVist3gQ79dmitqZL0qPa4u9LnPJ/GE70hvzdcKUDzJG3zFuA/iF8i3ZCVQXrZLRI6hseH4K+rt6/D1Vx7wDhnKcq/W7IuXcuxmy5tdYUJdoVkdmkXFlUREdAZMAJkMRvFCCOoqU44lSlbSnqOw6DwnDcjybG42LY8bzh2BgrelT5DqkZDkjriit59xzsqKHlqUtbvZ5XUekNDSquPH8ex7DrHGx/HLXEtVqt7fQxGjoDbbSR3Pb8zsknuSSTsmoQnijMbn8WV87ZnLB+aNa24Nrj/wC6WWPeB/F416I9nvih1QcvePycicB315BdJV1O/r/nTjlBuLvy7xdYnVR7pyBYWpCfNhM9tb3/AC0kq/8AlVb8rcp8V5bh010/pU6myJVdo17tFkkFy0vsJKhKbW4hKfgHV1A7StBUhQKVEG3bRheIWBpLNkxa0wEJ8hHhtt6/4CoRygP04yvH+II5CoUhab7kQHl9nx1gtMK/J58IBHqhtxJGlUFR8B8l8sz5t7cyTiCV+sXIUsXa4qnzmIEcW4J8OGmO2pS3SyhIJWNEoeee38w3ZWZZRzjjeNz8nv1wwPGIUNAI8FmXeXnVqIS20lsmMFOLWUoSkKO1EAE1MOScBdy+FEuePz0WnKbE4ZVkufSSGXdaU06B3Ww4PgcR6g7HcCq34wy5XtE5gckvMVuBbOOpCYqbL7wh7x76W/vZqikkLjtJUUR1eS1Kdc18LRAV5xlw7neDZ6U8icn32yv8opNy6cfjw4cdi4oC3HLZ1uNPOtgNlTqA06hJUJPYkdSpdn3A3GeKZvjOaZHarhk9ouz6cfvv6S3eZdm+p4/5m8pElxbaUh77vpCQnb4+Grq5FwmNyBicvHXJrkCWSiVbri0kF23zmlBceS3v8SHEpVryUNpO0qIMcssqNzjxZdcYy6ILbdltv2O/xI6j1W+4oGlLZUe+groeZX5lKmldj5BLcbwjC8Mj+6YfiFksTGunw7bb2oqNfTTaQK2N1uttsdtk3i8TmIUGG0p6RIfWENtISNlSiewAqA4NynDb4vOR8jXGNbbljS3LPkZOwlFxjq8NzoT8xS6el1pIBKkPNkA7FYNpxi/ct3SPmHJNuet2NxHUyLFij40paknaJtxA7Kd8i3H7oa7KV1ua8IMOTZJ/tFNKRlUCTb+MlEFu1OhTUnI9HaXJPkpqJsBSWhpTugV6R8C8bLcYs3Cs/Eswx2EqBiditYxa6Ns7WYVv+FUeSpR2pQbcTpairq06Vk9lbuvyrzkxo8yO7DlsNvsPoU2604kKQtChopUD2IIJBBoNCkgjaVAg9wQdgivrWqr84FnvFr/VxqhGS4olRcTjM2YWpdvOuyYMhxXhqa35MPdPSCQl5KQlsfSuXyytLFy4u5DhSidLZONyJQQf/exg60f3hZH5kd6CfVX93Cc+5TsWJQVB+34dIF9vTqB1NJlBCkRI/VruolbjmvQISSO6a+nbly7nTjcTEMVXhUBXxLv2QoadlIH/AOGt6FHqX56VIUhKSAS26PhM+wbBsf49sKMfx5l3w/EVIkyZDhdkzJC/5x99w91uKI2T+4AAAABi51x1Zs5biTHJEm1X21KU5ab3AUETIC1fN0qIIW2rQC2lgtrA0pJ0CNBZ+SLzi1yj4jzDHjQJkhYYt9+jJKbZdFHskbJPuzx/olnRPZCldqsmsO8We05BbJFmvlujT4EtstPxpDYcbcSfMFJ7GgzKVU4by/hFRLCLllfH6dfdjqkXWwI/sjuuZFH07vNjWvET8mTyJn7d/wAStVk4yv7Mm55477ha58JwLEaOU7kzAR5FprqI/wDULYPrQfGI75M5JnckO/Hj+KqkWLGh5okSuronzx9R1J92bP0bkEbS6KyuWrDMtJa5ixR2PGv+LRXPekPuhpi7WofG9DfWew1ouNOH+bcH7DjoVN8cx+1YpYLdjNiiIi261RW4cVlA7IaQkJSP+AqtrjvnDLl2Jo9fH+LTB9qL/Bfrm2raYg9FRWFAKd9HHQlv5W3UrDG4gns81XBjnuehxNuDbsTFba+NOQGSel+Q8j8El0p6SD3Q2kJ/Ere65jt060N2zlmwxnHrlhy1vS2Ghtcy1LAEtnX4iEgOpHf4mgANmtflCHOGstf5HhoP6GX5xCcpYR5W2SdJRdEj0bPZD+vIdDp7JcNWuhbbraXWlpWhYCkqSdhQPkQfUUHhbbjBvFui3a2SW5EOayiRHebO0uNrSFJUD6ggg1k1VfHDqONMou/D1ydSzaW23b9ijriulAtilj3iHs9txXl9h5Bh+OBvoUR+S8zyrleQ5Y+JZKrVj6Vlq4Zm40FhQB0pq2NLHS855gyFgsoPkHlApSG9zDkxFqun6HYdaVZJlbiAsW9lzoZiIPk7Le0Qw36+RWr8KVGtfZeGbXcpf6Uct+45pkjnSUqmRErgW1IUFpahR19QaAUlJLp26tSQVKACUJlWG4RjeBWn7HxuCWULWXpD7rinZEt4/M886olbrij3KlEn+Hat9QVJnrX6A8nQ+RXFeHYcohMY7fHASlMSQ0t1UGSrQ0EqL7zC1H9pjZ6U9p72Gh/CtpdbXbb5bZNnvEFmZBmtKYkR3kBSHW1DRSoHzBFVSnFuTOLD7th0E5vi6CPdLc5NRGvNsSPlbafeUGZTSfJIdU0tIGit3toLB6fzp0/nUE/W3HabSmXx3yEzK8lR/wBFpbxB+niNIU0dep69fQmvN9PK/JCEW+1WWRgFmcIMi7XBxty7LQRopiR2lqQwogkeM8rqR6NEnYD8jEch8yQmoQDll42cffmSR3Q7enmVsNx0nWiWWHXlud/hU8yNbB1Ms640sOcqiXJx+XaMgtfUbXfrasNToRPzJSsgpcaVodbLgU0vQ6knQI2uJYlj+DY/ExfGLeiHb4SSG2wSpSlElSlrUdla1KJUpRJJJJJ2a3FBWMHknIMFmNWDmiPFjNuLDMPKIbZRbZhPZIeSSTDdP7KlFBPyrPkLNSpKkhSVAgjYIPYivKbCh3KI9b7jEZlRpCC26y8gLQ4k+aVJPYg/Q1Vy8UzLh9wzuM2H8gxFPxSMSde/ziCn1XbHln5R5+6uHo/o1N/IoLXqrOSN8l5VF4ViK6rQltu6Zi4k9jB6vubefzkrSesf0DboOvFQa27/ADTgxwK5Z9bbgqZHtoLbsLoU3LTLJ6URVsqAWh5SylAQob2fKvfifELli+OOTslUl3JcgkKu17dSeoe8uAfdJP7DSAhpI8tIGqDeZdiNiznG5uK5FEL8CcgJUELKHG1JIUh1tY7tuIWlK0LTpSVJSoEECqPbz7Pb3krvswTL6EZPFaDlyyuOpLZfs5A040kdm7gtJCVoA+72XkgJKNWfyVnF0s64eF4OyxLzPIApNvbeBUxBZHZydJAIPgtA7CdguL6WwR1FSdZJ4LsbeCMY3Z7rKj3+FKN3i5K8A5OVdz3VMePbxC4dpWjsktnw0hKQkJCcWrFcesmMx8OtdpjsWWNEEFuGlH3YY6eno16gjz+uzUG4llycSuVy4WvT63HsdbTKsb7h2ZdmWohnv6qZUCyr/ZQfJQ3u+Nc9dy+HLtGQQU2vK7CtMW92zq2GnSNpeaJ+dh0fG2vXcHR0pKkjD5cxm8zIFvzrDY3jZVhzy59vYCgn7QjqAEq3kntp9oaST2S8lhZ+TVBP6/FKShJWtQSlI2SToAVDZPL+ARMKtuevXsG2Xhpty3obaU5KlLWPhZbYSC4t3fwlsJKgoEEbBqNoxXM+YHBN5Jjv45iBPVHxRp8e9zx6LubyDoJP/srRKfLxFr2W0hkzuSr/AJzLdsHC8WPLQ2ssy8omIKrZDI7KDIBBluj9lBCN/MsVtMU4bwrG5jWQXCCnIspD/vb2R3htEi4Lf8NbfUhwp0wkIccQltoIQlK1AD4lbmcGDCtkNm326IzFix0BtpllAQhtI8glI7AV70FOx1fq85Tu2OXFxLVozqULtZ3lfChM/wANKJMXfl1KS2l5I7b2556OrACNflWRmGHY9ndhfxzJoPvMN8pUOlam3GXEnaHWnEkKbcSe6VpIIPkarpscxcedNuutlXyHYmE9EW6WwsRru00kdky4zikNPqA/0rC0lX9Ak9yE/pUAHLzLmm2ON+Q3JJV0hg4tMb/iXHEJZ1+fXXwvE+S+VViJmMU4ViCh0y7SxKS7drsjXdt59lRbisk+aG1uOKSSnrbHUFBl8XOnOc4vXKDCEfY0eKMesjyEgImNod65UlH1bU6lCEnZCvBJHYirXrwgQINqgx7ZbIbMSHEaQxHYZQENtNpACUJSOwAAAAH0r3oFKUoFKUoFKUoFKUoFKUoFKUoFKUoFKUoFKUoFKUoFKUoFKUoFKUoFKUoFKUoFKUoKq5njSMXu1g5lhRFyGMZD8K+ttNFxz7IkKbLshKQCVGO4006R3+6EgAEkAyuLMjy4zMuJIafYfbS6240sLQtChtKkqHwqSUkEEEgggjto1KiAQQRsGqmlcXZXgjrkniCfDValuKeOM3NakxWVKJKvdHgFKjpJO/D0pAPyhI7UE22PLdKgX6achQj4Fz4Nyl15J0VWyZb5DP7wt19pRH+7WSiXzJkqizZ8Lg4myv4PtG8S0SZDaDrq6IzO0kny7uAUGBy28vLUw+FrE6pV0y0qbuZSkdVtsqTqVKXo7QVpBYa35uupI2lCym0b5iuN5LZVY5frJDnWxSUp91eaBbSEjSekfhI9CNEemq1eC8e2jBWZb7EiTcbvdFIcul2mK65MxaRpOz5IQkEhDaQEpBOhskmU0FWqxvkni8ePgct7Mceb7rx65ygmewj/APBy1nS9DyafOj2AcR6yvB+SMT5BjyFWCc4ibBWGrhbJjKo0+A6Rvw5EdYC2zruCRpQ0UlSSCZPUTzXjHGM4fj3WY3It98gIKIN7tzvgT4qSdlKXR8zZPctLCm1HzSSBQSS4T4VqgSbpcpTcaJDZXIkPOqCUNNoSVKUonsAACSfyqv8AhW3zLla5/KV8juNXTOXk3Ftp1JSuLbQNQo5B7pIaIcUkgEOOrB8qq/lHJc6hXS2cM8hN/pHjMpTV1yS9WeGtclFkbWr7qXEQCQl95CGlqa6gpoSPhGiRc+R8p4rZsDTn9pnMX+HMDbdpbtz6HTc5LqullhlQJBUtZ1vySApStBJIDTcp3m53+6QeHcUmuR7nf2VSbtNZOlWy0pPS67v8LjpPhN+uypQ7IUR+ZZxg7Z49ryfiWLFtmRYxCRBiRd+HGucBHf3B/X4T3LbnctrPUNgqSrbcYYRPxaBNvmUyWZuW5I8mdfJbY+AOAabjM77hhlHwIHr8Sz8S1EzWgj+C5taM/wAdZyC0JeZ2pTEuHIT0SIUlB6XY7yPwuIVsEeR7EEggmt+W8mtnBWWQ+YJSnPsW/lqxX2HHT1vyJOle5PMt72471bZIHchxJOggkeXMNyXxDksPkfB4jtzvmQPIhTsSiDb2QoQAC+ykb6H2EfEp1WkFsdKyD4ZrNwLCbJyvYhyTyHLt+VPZLbnY8eM11KgWuE8kodisJVpQcI2h1xQS4VJKdIA6aCH2nEb3B50svJHKtriR2c460Q7K074sazXVhlPurryt+G9KXGQ62p0DpSptpDe9BaukKoti1X/I8OyDhG9XFbuZYWI8+wXN9WnJ7Daiu3TSo6+MKbLLxHktClaAWjdp8f5dGzzDLTlkZstfaEZK3WSNKZeHwuNKHmClYUkg99igkNKUoFVpyhzdE4xzrj7BpGHX27uZ/cHYDU2AyFsW4oUwnrkE/Kk+OCP9hVWXWNKudthPx4s24Ro70tRRHbddShTyhrYQCdqPceX1FBk0pSgUpSgEgDZOgK5vw3BL3keUX32jeLHIFueuby4lltUlBRb7vbW1ackrKQSy5KdSVpfQDttDKlJWFkVYvL8yXkr9s4Zscp1iXliXFXeQwvpchWVvQkrCh3Qt3qSwg9iC4tY7tmttneWxuOMdt1nxizsSbvPUi1Y7Z2tNocdCdJBA+RlpA6lqHZKE9u5AIQa48tT+UJTfEeGw7pjmWvpUcobmtdEjHIKekOOBQ2h1bvUER1tqUhe1OAkNq1buO49aMUscLHLBCREt9vZSxHZR5JSPqfUnzJPckkmq6h+z/Y/sZubcrtL/AE6W+u4yMui6anGasAK6T3Hu4SlDYjq234aEAgkdVZdm5HvWJXWJh/MTMeDJmOpjWzIWAU226OE6S0on/wANIV6NrOlnshSj8ICx5EdiWw5FlMNvMvILbjbiQpK0kaKSD2II7EGqWYy+2+zjcDhWYTZAw6aFLxGQlpyQ807vvZwhAUtxY3uOACpSNt+aBuZ5lycLVeP0Iwu0nI8ucbS6YLTnQxAbV8r8x7uGUH0T3WvXwpI2Ro18C27KYsm6co3h6/5PKa1HuLQLKLKvYUk25vv4KkqAPiHa160olJ6KCG8l8cci8zWJrOMltSbUccd+1cexAlLj0rpBDjdxdQSCXmitsx2yUJ6x1KcIBTd2FX6yZRiVoyDG0totk6G27FbQkJDSOn+b6R2SU66SB5EaqN8aZld5cmdx5nZaby/Hm0LfWhPQ3dIaiUtT2B+yvpKVp7ltwKSexQVavGNcZ8nzMDd+7sGZrkXnHz5IYnpHXOhD6dQJktj1HvAA03QWlSlKBSlKCtb9zZGsXN+O8JnDb5KfyG3vTxeGWh7jFS2FnocUfxHo0AN/MKsqsU3W2JuAtJuUUTlI8QRi8nxSj9ro3vX56rKoFKUoFKVCOV8uumOWONZ8W6FZPkkgWuyoUkKDbygSuQoeqGWwpw+nwgetBW2S8ew+a+XpuTY5L+wk4CpMRu9RmUrNyvqShzpdQfgkMxEBKfi7+K6tIKVMGt5deerjx9HOOcnYm+zl8hSI1hZtqVOQsmkrUENoiOq7NOFSgVtPFKm09S9qbSXKmkFjEeEeNW2pcwxrPj0QrfkukqdeWSVOOK9VuuuKUo+ZUtZ8yai9h41RyWZeb8z44xKeu0ZUW2WGagON2aAohXTryEpZShbjg+JJShKSOjuEj44wWbjbczJMrls3HL78Uu3aY3vwm9fJFj77pYaBITvRUdrV3VoTWqq8HkHiDvEFyzjDm/NkkvXq2N/2Ce81tI9D99ryLh85WOVOOzhf6wxl9uOO6178HPh6+rp8Lp+bxev4PC119fw9PV2oNbyThF1uMmHnuCrajZlYW1Jilw9LVyjE9TkCQfVtfmlXm2vSx6gxyDzy7yCw3ZeHsfcueRgeHdvtEKZhY295LbnODup9J3qO1tauyiW0KDlZXhchcwDcn7RwfDnR2aB8K83Ns/tEf+DbI9Bt3Xq2fLFu+Bp4YkozribHum0ssoayLG4KP/Gx0D/xjCfxTGxsnfd5O0klYSaCPcdcewuHeYDFyeWL3IzFl+ZarxIZS2Ilw2pyZEYbHwMIcCvFSlPdWnNlRBNdAVCMrs1k5k48Yk4zfWdyUM3fH7zHAWI0tHxx5CfqAeyk9upCloOuo1mcZZsrO8XRcZ0L7PvMB9y23u3lXUYVwZIDzW/VJOloV+Ntbax2UKCV0pSgUpSgrPFOb4uV805Zwy1hd9hu4pEalOXmQyEwZfiBvSGVealDxO/bXwn8qsysWNdbXMlPwYdyivyYp0+y28lS2j9FJB2n+NZVApSlApSlApSlApSlApSlApSlApSlApSlApSlApSlApSlApSlApSlApSlApSlApSlApSlApSlBEuVuSrJxDgV15DyKJOk2+0Npceagsl15QKgn4Ujz7mtviWSQ8wxe05XbmX2Yt4hMzmW30dDiUOICkhSfRWj3FbGUqKlhXvpaDJ7K8XXT/HfavtsNhtIaCQjQ6eny1+VB9UpSgVj3CfDtUCRc7g+liLEaW+84s6CEJBKif3AGsiqw5dUrM7xYuFoTm039RuWQFJ7tWSOtPioP0Mh1TUcDsShb6h/Nmg9uGYEq4wbrypfGS3cc1fTObQ55xrahPTDZ/L7r7w/2nVEjZNVrZ+MFckZ7P5v4ynRsXjQJTgsTZjF2232UAUSLjJjbCepY201Ib6XekKUStKgk2FyRKl5zfGOEMZkuRY8lhErK50ZRQqDaiSExW1J10vyiktjXdDQeWNK8PdlQYMO2Qo9tt0RqLEiNIYYYZQENtNpACUJSOwAAAAHkBQQG08ufZtwYxvlWyHEru+vwmJC3fFtk5Xp4ErQGz6IcCF9x2rZZ7yOzir0XHbDbV37K7qgqt1oYWASnei++vyZYSfNxX7khR7VqeUctZuLjnFWMWC3ZNkl1Y+9hTm/FgW6MrsZM76Njv0tj43CNJ13UmJYjwvmfBCHbvxrdRmYmttfbNrvZbYlyVNoCAqFMA0yEgaTGdCmh2CVsjZIT/AeO3cemyswy25JveZXZtLc649BS1HZB2mJEQf5qOk+nmtW1rJUe0dyGHK4XyGdyBY47j2G3h4yMmtzKSo2+QeyrmygfhOh46B568QDYXuW4Xydi2cOPQILsiBeIYHvtmuTJjz4h+i2leY+i0lSCO6VEaNStSUqSUqSCCNEEdiKCteUoMhUOzcxYSkT7ljCFSkpjKCvtO0vBJkxwR8wUhKHUf22mz3rXcb3q22TkK42C2SkPY5n0ZWZ428k/AXVFAuLCfz63GZIHmTJe12QdfkcK4EvyYKioca3yTqMT8uNTnFfzX5QnlH4fRlwlP8ANrSGoRm1muXHt1cxuyRysW2c5nOAlJACnGgo3Syg+Q8Rh2QWh5eHIWEjUcmg6UpWDYr1bckssDIbPID8C5xm5cZ0DXW04kKSdenYjtWdQKr3kbgvAuUszwbPMrZnLuvHk524WVTEkttpecUypXiJ18Y2w327ev1qwqrjkw86jN8BHFgx84uZ7v6Z/aIPvHunUz4fu2j83T7xv/doLHpSlArHuNwh2mBJulxkIYiw2lvvurOkobSCVKJ+gANZFVZyis8gZRa+Foigbe6hF7y5wHsi1oWfBiE/WU8gpI/oWZPkSk0GLgd1g2nH8i9oLP3fs4ZAhMpnxweuHaG9iGwE+fWvqLnQBsrf1rfattxxjV6vV5kct55AciXq5MmNabY73NltpIUGiPL3hwgLeI8iEtjsglWstCP105kzlL6OrBcUlKFlaI+7u9ybJSqaR5KZZIKGvQr619+lBTPswzXGsEtJvOTXFMZgqDTTaUKcekOn5WmmkgrdcUewSkEk+lBuXnmYzK5Eh1DTTSSta1qCUpSBskk9gAPWqhyC93XneBNw3BoUVGHzELi3TJLjDRIZktHstqDHcBS+o+XjLBaSe4DhHScpjEcs5fkN3blCG5ZcUSoOQcQDgL0vR2l26OIOlehEVBLaf9Ip0npbtRhhmMyiPGZQ000kIQhCQlKUjsAAOwFBSeM4jd/ZoiPQ8etszJ8Fed95lOhAevcBwgBbrqwAqc32HxHbyAAPjSB02/YMhseVWiPfscuka42+WnqZkR1hSFDyI/Ig7BB7ggg6NbCq2yPje82C7yM74fkRbdeH1eLc7NIUUW29/XxAkHwJGvlkIBPkFpWnWg2fJuE3DIo8DJsTeaiZdjTi5VnkudkOhQAeiPH1ZeSAlQ9CELHxISRpLoqNzrxkZmPrXZ8ktUtMuEJCfvrNe4itpbdT9Arbax5ONOLHyrqSYNyTZc2VJtvu0qz3+3aTcrHcUhuZDUfIkAlLjZ/C6gqQod0qNRvPrZcuO8kXzJikN2VDcbQzmFpjoKlzIaBpE5lA+aTHHmkd3WepHdaGgAlvHmZx89xKFkbcVUOQ4FMToS1bXDltqKH2FfUoWlQ36jRHYipJVSW+52/DeTol6tU1mRiPKaEOx5DKwplu7pa6kKSR21JYTsa81MHZ2oCrboFKUoK/lcG4FM5mh88vx5pyqDa12hlwST4AjqOztvWurue+/WrAqtWDzsOfJCX02M8TqsYLBGvtBN0607B9fDKer/5VZVApSlB+KUlCStaglKRsknQA+tVVx8+znWRXLnS8OoZsjUd23YsXz0IRbUq2/cCT2HvC0ApUfJhtsg/eKFZHLcmTmFwt3ClnfcbVkKDJyF9okKi2VCtOoCh8q5CtMJ9QlTygQUCtbcm2eX8gPHtiaSzx9i7qWL46wOhq5yW9dFsZ128FvSS8R27JaH4+kPfH48vmnJIefXhhbOE2R/x8ZgOpKTdJSfK5vpP+jT393QfXbxG/C6LZrEnTrXYba5OuEqNAgQ2+px11aW2mm0j1J0AAKrNeR5vzEoxOP35WLYco9L+TPMgT7ij1TbmVghtB/wDanUn/ANNtWw6kN7l/KUaz3VWH4jaXcnytSAr7MiuBKIqT5OSnj8LCPXvtR/ClRqvj7OF+Vkh5gVk1qPIpkJm+CLagWLrS2UBss68QudB6PfSrx/ppv7mrfxDCsZwS0izYva0Q45UXHVlSnHpDp+Z151ZK3XCe5WslR9TW8oILiPKUa73VOH5fancYysJKvs2WsFuWkebkR4fC+j17fEB8yRqp1Wky7C8Zzq0qsuUWtuZH6g42rZQ6w4PlcacSQttYPcKSQQR2NQJGR5tw2fdM/dl5RhyOzGTNNdc63IHkm4tIH3iAP/NNjyB8VCNFxQec0HgrJH7w2kp48yGWXZ6B8lhuDqu8gD8MZ5Z256IcPX2C1EZOVlPGnIsTkiOQjH8rMe0ZGE66GZI+GFOP0+bwFq9UqZ32bAqxGX7HlVl8Rh2FdbTcmCnaSl5iQysaI9UqSQSCPKqnhWyJhTzvBWdlyfhOStOQ8YnSXCpTKVJPVannD362xsx3CdqQOgnraCnAuelV5w/kF19zuHHOWylPZLhjiIch5Y0bhCUCYk4D1DradK12S628jv07Nh0ClKUFe4TwVgHH/JGYcq47Gmpv2cqaVdlvSSttRbKinoRr4PmO/wBwqwqrPi089/p1yCjlgWE4qLg0cKVb9e8GGVv9Yk/2gn3fXbz6vOrMoFKUoFKUoFKUoFKUoFKUoFKUoFKUoFKUoFKUoFKUoFKUoFKUoFKUoFKUoFKUoFKUoFKUoFKUoIVzDxTYuacBn8eZJcbnBgXBTanH7dI8F9JQoKHSvR13HepPY7RGsFlgWOGt1bFvjNxW1Oq6llKEhIKj6nQ7mobzndOYLPx9Kn8GY/bL1laJDAYh3F0NsrZK/vSSSO4T5d6nMFUpcKOuc2luSppBeQk7CV6HUB+W90HvSlKDwnTodsgyLlcJLceLEaW++84rSW20gqUon0AAJNUpj2UvYvht55wvVsdlZNyBLYasdpJ08tgkt2uAkH5T0qU856JU8+okJGxIOZpjeRzLPxMiWhhi+eJcb+8pYSGLLGKVPlRPyhxZba2fRavQGvjjqE5yPkbfMF1jKZs8JpyHhcBaCkMxFDpcuCknydfA6UdtoY7di64KCT8Z4O7hNhcTdZiLhf7s+q4Xu4Aa95lrA6unfcNoACED0QlP51pMtzq+3/IX+M+K3GVXiOE/bV6cQHI1iaUNgEeTspQO0M+QHxr+HQXjXfLsg5OukvDuLrgqDaoTyot6ypCQpLS09lxoW9pcfHkpw7Q2e3xKBSJziOH49gtjZx3GbemJDZKln4itx51R2t11atqccUrZUtRKiTsmgxsIwOwYDa3LfZW3XHpThkT50lwuyp0g/M884e61H/gBoAAACpFSlBGcz46xTO22FXyApM2GeqHcYrhYmRFfVp5GlJ7+m9H1BqJLv/JPFPbL4srNsWR2+2bbF6rrAR9ZMRsf5ygDzcYHWPVo911adKDRwLlh3JOLGTbZ1syGwXiOpsrZcS/HkNKBCkkjYPqCPMHY86pvI8euVgZj8P3+7vNxX5KJnHOTvnrXCuTIK2rfIWf9IAFBtSuz7JcbPxA9dgZDxJDXeJOX8f3Z3Eckkq8WTIhthUS4r+syMdIeV6eIOlzWh16Gqj2QZhAlWl/j32iMcassa6dMZq8suqVaZTvUC2pEjsqI8FhKkeL06WE9C1K1Qa32Yc0TPh33AJcUwJVklKlswFE9URl5xfixxvuQzJRIbBPmkIPkRV51xDneRX72cOcsazrMZZchuui3Xm6EBDV1tbxbZ9+V+FLzShG8dI77bQpI0+rXUHK+bXewxbZi2GmOrKcpeXEtqn0lbURtKCp6Y4kfMhpOtJ7dS1IT6mgy825axHB5zNikrmXbIJTfjRrFaI5lT3W968QtggNNb7F11SGwfNQqOq5K5jk9L1u4QhMMKV8l0yptmQlP1UiOw+gH8g4f31sMOwOyYRAdZtyXJE+c57xc7nJPXLuL+teK+4e6la0ABpKQAlKUpAFSNA16+VBFInOVvtkyPbuTsVuuDuS3PBjTp6mn7VIcJ0EpmsqU22SeyUv+EpR7JBqzQQRsHYNRi5xo8+BJtk1lqRDmtKYkx3kBbT7Z80OIPZST6ioJhLz3FmaQuPkyn3cQyFLv2Ah9wrVa5TSQpcNK1HZZWgqU0kklHQpIPT0hIWbleS2vDcbuWU3p0twrXGXJeI7qISPlSPVROgB6kgVQ2M2rJc0k3DBVuvQ7rkTqL7yNc2VELgMuoT7rZWF+YdLAbSSO7bIUs6W82T6c9Z1MyTkWzcOYmmPKmW8ou9wS93jtvpHXH949PBZH+cug+eoyD/PpraYOm8XywJxHhmc9Ex8uuPXbO5rYW/dpTiiX3oaFfzy1q39+r7sdggLAFBM8kzyDiL8TjLjXHWb1kzcVtEWzxlhmJbIoHSh6Y6ARGYAGkjRcXrTaFaUU5GH8Y/Z12GaZxdv0ky1aCkTVteHHgpV5tQ2CSGUenVsrV+JRreYXg2N4DalWrHYamw84X5cl5ZdkzXz8zz7qviccOvMnsAANAADf0ClKUClKUEVzjjixZwmPMkOSLberftVuvMFQbmQ1H9lf4kH8TagUK9RUdsnIt7xS8xcH5jajxJk1wR7RkTCOi23hZ+Vok/8AhpR/oVnS+5aUvSkpsysG+WKzZNaJdgyG1xblbZzZZkxZLQcadQfRST2P/wDugpPLsOg4m9I42ucl2FgubSgbHPa7Kxq/dfispQfJCFvJS4zv4Q6ktn+cQFWTxVmU/MsW6sgjtxcjs0lyz3+K38rM9nQWUb/0biVIeb9S282T3NQbJcVveEWCfjV4ts/PeNJzKmJMJZXIu1qZPq2oHxJTaOxTo+OjpBSVkCoDg/IiMH5KtMu45KzerTk8Zm3C/NrSW7zFSsohTVkaAlMrUYsgaBPW2vQ10pDqioNmHMOLYndhi8SJdMkyQoS4bJYo3vUppCgelb5JS1GQrR6VvuNpUQQCTWFyxlt+ZlWrjfBpHgZJkqXnDMCAv7Lt7XSHpik+W+pbbbYPm44nzANeuI4ZY8ItiLRYoobbUovSH1krkS31d1vvunanXFHzUok+Q8gBQa5zkLmgpElrhS1ssbBU1My1KJSRv1S3Gca3+QdI7+dZdo5us4ucTH8/x664RdJ6w1DTdiyuHMcPkhmYwtbCln0bUpDh0dI13qTjyFYV2stoyC2SrLfbfHnQJrSmJEd9tK23W1eaVJUCCPL8wQCCCKCW1rMnyOz4fjtyyrIJiItttMVyXKeV5IbQkqJ+pPbsB3J7Cq448ulwwPNE8SXi5PzrTcIjs/GJcp7xH2w0U+8W9xZ7ueGHELaWdqU31hRKm1Ew3mnO52aclW3iLDmWLg9ZXUXOWy6o+7KnN9LjK5RHlFidTchwfjeMVpPfrAD9sCMyyS4zcdhrftWYZmG7tl9wR/O41aVAiLbmz5CWW9pH7Ci8530jdl3jKsL4ds9owTGbK7MuS2fAsmNWpIXKkBPms7Om2wTtx90hIJJUoqIBhGCv3efaHMZ4Tk+8xJMhx+98g3JrxEXCYo6edio7e8r2NBQIZQEpSkq6dCz8H45x3A25T9uTIm3W4qSu5Xie5406cseRcd18o79LaQlCdnpSNmgjds4yvWYTWMl5omRbk80sPQ8diKUq1W9Q7gqCgDLdH9I4AnfyoTVmAADQGgKUoFKUoFKUoKzufGd5xGc/k3DMuLbZDyy9Mx6WpSbVcVHuSOkExXT/AEjaSnfzIVXpDyDCubLJdMBya1zLTeY7aTdLDPIZuFvXvbchpSSUrQFAKbkMqUglPZWwpIsiovnHHWO54zFcuSX4lztyi5bbtBc8GbAcPmWnR30dDqQdoUAApJoKYvF8yfEMhjTr8lcrN8BirddeZb6f0uxRakh9xtI85DCuhxbY7oeQNabkpKuh7dcIN3t8W62yU3JhzWUSI7zZ2h1taQpKkn1BBBH76onkFd/tlti2rlyS3FVa5Ik49yHBj6ZgyukpSZzXfwErSpTbhO2FoWoKKNivL2b+QXLfkF54OyOOi3XK1BdxtkQL6kCMpQLrTKj/ADjSFOJW2r1aebHmlQAdB1XN55usTd6k4vg1iu2b3mC54M5qypa91t7n7MmW6tDDSh5lsLU7ruGz2rBzy53LPMtXxRYrs9bbZCjol5NPivKaf8Nzq8KE04nu0twJKlLHxJRrWirYlVmsllxy2R7Ljtqi222xGw1GiRUdDTSB6JSOw33JPqSSe5oIwjkHmkhUhzha0llCgCy1l6VyyD6hsxg3/wAXQPzrb4lzBjeSXhOK3WBdMWyVaFOos19YSw++hPzLjuJUpmUga7qZcWB+LVb1OvLdaTLMPx3N7Sqy5JBEhjrS804ham34zyTtDzLqSFNOJPktJBHfv3NBOKVW/EuUX5Uu88b5nMXMveMqaUzPcSlK7lb3QfAkKCe3iDpU25oAdSN6HVoWRQKUpQKUpQKUpQKUpQKUpQKUpQKUpQKUpQKUpQKUpQKUpQKUpQKUpQKUpQKUpQKUpQKjObci4rgEdhd/muGVMJRDgRWVPy5ah5hppG1K1sbPkN9yKyc4y634Hidyyy5tuus29oKQw0NuyHlKCGmGx6uOOKQ2keqlgetQjj7BZ9pL2Z5q4zNza+BD1wlp0pEVBBIgsbHUhhsK6OxBWoKWe6tAPQ5/y7eFhWO8UwYLKvlN/vaY7qhs9/DYQ6oeXkdHuK/P1j8oWIGRlvFbcyGknxHsbuXvq2kjv1Fh1tp1Q8/lSfKpnsDsa/AQKD7xDNcZzu1fbGL3RuYwlZbdToodYcHm262oBTax6pUAa28qVGgxXps2Q2xHjtqdddcUEobQkbUpRPYAAEk1TnIWPz8VuD/MeBRnBf7U1491gMp03f7ej+djObISHwk9TDno4Ag/C4uoz7T/AC7bZeD41huISodyc5HQ3JbDjxaYdtAQHVreX5tx3ElKXFHX3Jf18fSCGrx8S+asmvD8pS40DJkxrhf3VkoMDGW+pVttu9/C5LBclPDsUtvlKvwbsV65Xjmrqx/CJUix8fsH3ebfIxLMi7JT8JjQCO7bPbpVJHptLXclxEV4149l53jsa0vvzW8BLyp9wlyGyxOzeesguSnkjRYgkgdDfYuIShICGUIDvQcePHhx24sRhtlhlAbbbbSEpQkDQAA7AAelBi2Ox2fGrREsFgtse326A0liNGYQENtIHkABWdStfcMix+0gm6Xy3w+nz8eShvX/ABNBsKVALhz7w7bXvdXeQbS/J9I8V33h5X7kNgqP8BWN+u+3zVdGN8eZ/elHyLWOPxG1f7LssMtkfmFaoLIpVbfpxzRdNix8FtW/6HJcpjRf+PuKJn//AH0r5Nt9o67Db+W8fY0g/M1Fssy6uj/ZeckR0g/mWT+6gsuvGbChXKG/b7jEZlRZLamnmH2wtt1ChpSVJPZQI7EHtVeJ4ozC4DeTc8ZtLB+Zi3t2+3MfwLMbxx/F419D2feMZH/27b7vkJPzfb19nXJKv3okOrTr8gAPyoORP8ohbrJxbwO7j2CZnFFtu94jQmMdlvtyfsVZS4tT8FaleLFbKG3GVNfE30vlKQ2CQp/kz75nGaWG/TuTJ94ulwxxlqBZpV2eedcbgyT17ZW6SS3/AJsAjXwgA6rsw8IcOqjxYiuL8XUxCkomR2zamSlp9AIQ4kdPZQClaPpuozeUtYZzfGludTEDMrM3boxCQGkToanFpbPl09TLruvzQRQTmlfut1+UH0Ruqp9pS/PYTxY7yDBtb9ynYldbdd4kOPvxZK0yEtFlGu/UtDy0jse58jurXqCcmgXy54fgLCFGReL7HuDykp2W4cBQkOq35AeII6f94UHN3AmOWa6R7nm/tC5K/wDaWWzFXS8WRi1Tdy1KUVtx5aw0f83b2NRUkpV0p8VS0pQy11WzzhxVHaRHj3mQ002kIQhFnmJSlIGgAAz2AHpVg0oID+vbi/8A19L/AMIm/wDap+vbi/8A19L/AMIm/wDaqfUoID+vbi//AF9L/wAIm/8Aap+vbi//AF9L/wAIm/8AaqfUoID+vbi//X0v/CJv/ap+vbi//X0v/CJv/aqfUoID+vbi/wD19L/wib/2qfr24v8A9fS/8Im/9qp9SggP69uL/wDX0v8Awib/ANquF/8AKL5HibON2WdwrcZ8G9ZTfSm5MxYb7DTzoZURIS24z8L6tBKnGylSkgdfX0p6f6TV4yIcSWW1SorLxaV1tlxAV0K8tjfkaDkf2Fsh5CzbELrlfKce6M5JaI1qw1z7SKy+4zDiiUh9fifEXHRcgtS1d1Ao35Cum6gLQ/Q/nfI7ZKAbiZ9CiXy3ulOg5OiMiLMa6vVQjtQFpHmR4x8kE1PqBQ70QD50pQUt7T2XXHjTDLNydY7FKvF1xi/xHoUCK2VuyVyOqGptKR3JKJKxoDdVNwJiOMpskm9c+ZfJkzsjkG5Xuyx7ZMKbg8pSlhue6lr71lBWrUVOmiVLU74ylHXQ2boTkPJWC4A2gOOxbgvJ5+hv3eLCSpLaidaBXKcYSkb2Uhwj5TVv0FfMc3cUxWG40a8PsssoDbbbdmmJShIGgAAzoAD0r7/Xtxf/AK+l/wCETf8AtVPqUEB/Xtxf/r6X/hE3/tU/Xtxf/r6X/hE3/tVPqUEB/Xtxf/r6X/hE3/tU/Xtxf/r6X/hE3/tVPqUEB/Xtxf8A6+l/4RN/7VP17cX/AOvpf+ETf+1U+pQQH9e3F/8Ar6X/AIRN/wC1T9e3F/8Ar6X/AIRN/wC1U+pQV8/zfxTJZcjyLzIdadSULbXZpikqSRoggs6II9K/mv7dN7Xj3K+FWX2Y7xlsCQzb3rhGZtKZMdcMuOLbLEQhCZDbXZ0hoKLSfGWEBIWtJ/rTXiuFDckpmriMqkIT0pdLYK0p+gV5gUFGezTdLnlnGw5Dya2rg5BldymTrtFWnpMeQ04YhZ16dHuxT+/dW1vYqAcbq+wr5mPHcv4JNqvMi7xAUdJegT3DIS4Prp9UlB/2RvzqfjyNB8kndfJUQN1+nzr8oIJcJD1t59wx+Hb5Lyr5Z7rAnOMNlSWGmC08h10+SUdag2CfxuoH4qt6qsx+a5kHO092HpyFjGPrgyXBopTLmPtPFsH6huMkkenUndWnQKUpQKUpQKUpQKUpQKUpQKUpQKUpQKUpQKUpQKUpQKUpQKUpQKUpQKUpQKUpQKUpQVdzh1SrpxhY3NKiXLOGFSUKG0r90t86eyD+6RDYUPzSKmWux71HOc7DertgybzjEL3y+YrcYmRW6MPOSqK4FPRxvt1PRy+yN60XQe2q2WPX22ZRj9vyiyykybbdo6JcR4H52lgFJI9Fd+49DsHuCAGeSd1+bNflKD9+oIBBGiCNgj6VxLwdwzyjlOXzOSMn45j5LZLQ/Jx/D4U++MQrai2RJjyWi6lCX3lfEn5FNAfAgkK0K605Iy9vBcLumRBDj81tpMe2xGhtyZPdWluNHR/acdWhA7aBWCdAE1IeMcRcwPj7H8RkPpfk22A01LeSTp6SR1PODf7ThWr+NBHwz7Q9z7Km8f46g+aW48y6rA/JRVGG/wAyg/ur9/V3yRcO995vvKUn5mbXbIcRH8FFC3B/+urGpQVz+orFpR3f8hy2+b+ZM+/SFIP+6hSQB+QrPt/CPElt14PHtleKfJUuMJSh+e3eo7qb0oMaBbbda2BFtkCNDZHk2w0ltI/gkAVk0pQKUpQKUpQK0GcYXas9x92wXVx9ja0vxZcZfQ/DkIO232lei0n+BGwQQSDv6UFKjkW88adFm5titwmg54bGXRY6xZ5adD45KkhXuDnqoPabKj8DithCZvbcqxW9RETrNk9quEZxIUh6JLbebUD6hSCQR2P/AAqZ1C5/CnDV1mLuN04kwuZKcUVrfkWGK44pROySpTZJP50EUuvNOIpkO2HCVOZtk4SeiyWFSZDjauwHvTuw1DRs91PqR5HpClaSZFxxgF1ss6bm+byYsvLLw0hl/wB1KjGt8ZJ6kxI5UApSQralOEJLijvpSAlCZlabPabDAatdjtcS3QmRpqNEYSy0gf2UJAA/gKy6BSlKBSlKBSlKBSlKBSlKBSlKCL8h4FA5AsjdveluwLhAkIn2u4spBdgy0b6HUg9lDRUlST2UlSknsaryNyTKwl1Nl5vioxuUFFtu/fEbHPH4VIf10xnFf0L5Qre+nrSOo3XX4pKVpKFpCkqGiCNgigiMa+47Pgi527ILdJiFIUJDcpotEH16goj0NQ248xWeRcHMd41jJzjI0qLfudpfDkaGrWwuZLALMdI2D0lRcIB6EKPapXI4O4VlyTMlcP4S9IKiouuY/EUsq+vUW97qXQLfAtUNm3WuFHhxI6QhliO0ltttP0SlIAA/IUES424/kYim437Iri3dcqv60O3WehBQ2Eo6vCjMIJJQw0FrCE72SpajtSjU1pSgUpSgUpSgUpSgUpSgUpSgUpSgg3JHHk3J3oWUYncWLXllmStEKVIbK48hlZBciSUJIKmVlKe4+JJAUN90qjMDmbHbdLasPJ0dzAr84sNCLeFpTFlL769zmdmZQOthKSHR1JC20E9NW/XhOgwrnEdt9yhsS4r6Sh1h9sONuJPmFJOwR+RoIu/kOPsQxcF3yCiKobS+4+lDZH7yahA5Vfzl42bg6O1kUpS1syL+UdVjto13WZA7SnB6Mxyo70FqbBKky9ng3hOPKE5jh7CG5KT1B5GPxAsH69Qb3U2QhDaEttoCUpACUgaAA9BQRzAMHgYBj6bNFmSJ0l55cy4XCUrqfnS3NFx9w/UkAADslISkaCRUkpSgUpSgUpSgUpSgUpSgUpSgUpSgUpSgUpSgUpSgUpSgUpSgUpSgUpSgUpSgUpSgUpSgVUV3xDLOM7pNvnH1rcvuM3F5yZOxttaG34clZ6nJENSiElKztSmSR8RKk91EVbtKCo4PNHGjiui6ZOzY3QelyPekmA82oehS/wBI/iDqvqTzRxyVGNYL+nI5p2lEOyNKmurV20PugUDz8yoCrRl223T9e/QI0np7Dxmkr1/xFfsW3wIIKYMKPHB8w00lG/8AgKCs8SwbJMryiJyJyXAagJta3Hcfx1LiXkwXVpKFTJCx8K5JQVJSE/C0lxzRUpZItSlKBSlKBSlKBSlKBSlKBSlKBSlKBSlKBSlKBSlKBSlKBSlKBSlKBSlKBSlKBSlKBSlKBSlKBSlKBSlKBSlKBSlKBSlKBSlKBSlKBSlKBSlKBSlKBSlKBSlKBSlKBSlKBSlKBSlKBSlKBSlKBSlKBSlKBSlKBSlKD//Z)"
      ]
    },
    {
      "cell_type": "code",
      "execution_count": 22,
      "metadata": {
        "id": "hhmBR2QCurzc"
      },
      "outputs": [],
      "source": [
        "def create_model():\n",
        "  input_size = 784\n",
        "  hidden_sizes = [128, 64]\n",
        "  output_size = 10\n",
        "\n",
        "  model = nn.Sequential(nn.Linear(input_size, hidden_sizes[0]),\n",
        "                        nn.ReLU(),\n",
        "                        nn.Linear(hidden_sizes[0], hidden_sizes[1]),\n",
        "                        nn.ReLU(),\n",
        "                        nn.Linear(hidden_sizes[1], output_size),\n",
        "                        nn.Softmax(dim=1))\n",
        "  return model"
      ]
    },
    {
      "cell_type": "code",
      "execution_count": 33,
      "metadata": {
        "id": "CIT4IGppv_ql"
      },
      "outputs": [],
      "source": [
        "model = create_model()"
      ]
    },
    {
      "cell_type": "code",
      "execution_count": 34,
      "metadata": {
        "id": "ujZRzrUDu2yp"
      },
      "outputs": [
        {
          "name": "stdout",
          "output_type": "stream",
          "text": [
            "Sequential(\n",
            "  (0): Linear(in_features=784, out_features=128, bias=True)\n",
            "  (1): ReLU()\n",
            "  (2): Linear(in_features=128, out_features=64, bias=True)\n",
            "  (3): ReLU()\n",
            "  (4): Linear(in_features=64, out_features=10, bias=True)\n",
            "  (5): Softmax(dim=1)\n",
            ")\n"
          ]
        }
      ],
      "source": [
        "print(model)"
      ]
    },
    {
      "cell_type": "code",
      "execution_count": 28,
      "metadata": {},
      "outputs": [
        {
          "name": "stdout",
          "output_type": "stream",
          "text": [
            "tensor([[0.0900, 0.2447, 0.6652]])\n",
            "tensor([[1., 2., 3.]])\n"
          ]
        }
      ],
      "source": [
        "import torch\n",
        "import torch.nn as nn\n",
        "\n",
        "# Example input tensor\n",
        "input_tensor = torch.tensor([[1.0, 2.0, 3.0]])\n",
        "\n",
        "# Applying softmax along the second dimension (dim=1)\n",
        "softmax = nn.Softmax(dim=1)\n",
        "output_tensor = softmax(input_tensor)\n",
        "\n",
        "print(output_tensor)\n",
        "print (input_tensor)"
      ]
    },
    {
      "cell_type": "markdown",
      "metadata": {
        "id": "Fs0iM5Lc0oP9"
      },
      "source": [
        "Model Weight Array"
      ]
    },
    {
      "cell_type": "code",
      "execution_count": 35,
      "metadata": {
        "id": "b-a9-mP70lck"
      },
      "outputs": [
        {
          "name": "stdout",
          "output_type": "stream",
          "text": [
            "torch.Size([128, 784])\n",
            "torch.Size([64, 128])\n",
            "torch.Size([10, 64])\n"
          ]
        }
      ],
      "source": [
        "print(model[0].weight.shape) # Layer 1\n",
        "print(model[2].weight.shape) # Layer 2\n",
        "print(model[4].weight.shape) # Layer 3"
      ]
    },
    {
      "cell_type": "code",
      "execution_count": 36,
      "metadata": {
        "id": "fkoHHyhC1PjK"
      },
      "outputs": [
        {
          "name": "stdout",
          "output_type": "stream",
          "text": [
            "tensor(-6.1224, grad_fn=<SumBackward0>)\n",
            "tensor(-6.1009e-05, grad_fn=<MeanBackward0>)\n",
            "tensor(0.0206, grad_fn=<StdBackward0>)\n"
          ]
        }
      ],
      "source": [
        "print(model[0].weight.sum())\n",
        "print(model[0].weight.mean())\n",
        "print(model[0].weight.std())"
      ]
    },
    {
      "cell_type": "code",
      "execution_count": 37,
      "metadata": {
        "id": "vlkGKvjw19jr"
      },
      "outputs": [
        {
          "data": {
            "text/plain": [
              "Parameter containing:\n",
              "tensor([[ 0.0081,  0.0223, -0.0218,  ..., -0.0133, -0.0102, -0.0318],\n",
              "        [ 0.0042,  0.0031, -0.0030,  ..., -0.0097,  0.0110,  0.0099],\n",
              "        [-0.0050, -0.0006,  0.0323,  ..., -0.0018, -0.0326, -0.0034],\n",
              "        ...,\n",
              "        [-0.0017, -0.0202, -0.0012,  ...,  0.0162, -0.0258, -0.0043],\n",
              "        [ 0.0160,  0.0351, -0.0100,  ...,  0.0271,  0.0055, -0.0121],\n",
              "        [ 0.0231,  0.0214,  0.0344,  ...,  0.0008,  0.0232,  0.0252]],\n",
              "       requires_grad=True)"
            ]
          },
          "execution_count": 37,
          "metadata": {},
          "output_type": "execute_result"
        }
      ],
      "source": [
        "model[0].weight # weights of input layer"
      ]
    },
    {
      "cell_type": "markdown",
      "metadata": {
        "id": "NfSyK7w6_7Ba"
      },
      "source": [
        "# Untrained Inference\n",
        "\n",
        "- At this point we have initialized our model with some random weights\n",
        "- Lets see what the model predicts on some sample data"
      ]
    },
    {
      "cell_type": "markdown",
      "metadata": {
        "id": "8-jZcd6bFBzz"
      },
      "source": [
        "Lets flatten the images to a 1D array/tensor so that we can feed it to the model"
      ]
    },
    {
      "cell_type": "markdown",
      "metadata": {
        "id": "kUWwsjQMH-es"
      },
      "source": [
        "![flatten.jpg](data:image/jpeg;base64,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)"
      ]
    },
    {
      "cell_type": "code",
      "execution_count": 38,
      "metadata": {
        "id": "JQ8REqFpEfWc"
      },
      "outputs": [
        {
          "data": {
            "text/plain": [
              "torch.Size([8, 784])"
            ]
          },
          "execution_count": 38,
          "metadata": {},
          "output_type": "execute_result"
        }
      ],
      "source": [
        "model_inputs = images.view(images.shape[0], -1)\n",
        "model_inputs.shape"
      ]
    },
    {
      "cell_type": "code",
      "execution_count": 39,
      "metadata": {
        "id": "U0BNqhftA2WU"
      },
      "outputs": [
        {
          "name": "stdout",
          "output_type": "stream",
          "text": [
            "torch.Size([8, 10])\n"
          ]
        }
      ],
      "source": [
        "# The model predicts the probability of each class for each input\n",
        "pred_probs = model(model_inputs)\n",
        "print(pred_probs.shape)"
      ]
    },
    {
      "cell_type": "code",
      "execution_count": 40,
      "metadata": {
        "id": "2P4X4ggcH3__"
      },
      "outputs": [
        {
          "name": "stdout",
          "output_type": "stream",
          "text": [
            "tensor([[0.1099, 0.0944, 0.1044, 0.1035, 0.1133, 0.0960, 0.0911, 0.0910, 0.0905,\n",
            "         0.1058],\n",
            "        [0.1097, 0.0914, 0.1009, 0.1041, 0.1135, 0.0966, 0.0924, 0.0930, 0.0911,\n",
            "         0.1074],\n",
            "        [0.1104, 0.0926, 0.1036, 0.1004, 0.1168, 0.0982, 0.0901, 0.0941, 0.0884,\n",
            "         0.1054],\n",
            "        [0.1087, 0.0919, 0.1090, 0.1021, 0.1127, 0.0966, 0.0904, 0.0916, 0.0935,\n",
            "         0.1034],\n",
            "        [0.1080, 0.0931, 0.1048, 0.1020, 0.1158, 0.0948, 0.0916, 0.0931, 0.0906,\n",
            "         0.1062],\n",
            "        [0.1124, 0.0913, 0.1029, 0.1010, 0.1140, 0.0986, 0.0905, 0.0900, 0.0964,\n",
            "         0.1029],\n",
            "        [0.1089, 0.0935, 0.1038, 0.1006, 0.1148, 0.0980, 0.0930, 0.0904, 0.0954,\n",
            "         0.1017],\n",
            "        [0.1118, 0.0920, 0.1043, 0.0998, 0.1148, 0.0964, 0.0914, 0.0949, 0.0896,\n",
            "         0.1050]], grad_fn=<SoftmaxBackward0>)\n"
          ]
        }
      ],
      "source": [
        "# print the probability values\n",
        "print(pred_probs)"
      ]
    },
    {
      "cell_type": "code",
      "execution_count": 41,
      "metadata": {
        "id": "T_sl7-0-BSMt"
      },
      "outputs": [
        {
          "name": "stdout",
          "output_type": "stream",
          "text": [
            "tensor([1.0000, 1.0000, 1.0000, 1.0000, 1.0000, 1.0000, 1.0000, 1.0000],\n",
            "       grad_fn=<SumBackward1>)\n"
          ]
        }
      ],
      "source": [
        "# confirm that the probability values sums to 1\n",
        "print(pred_probs.sum(dim=-1))"
      ]
    },
    {
      "cell_type": "markdown",
      "metadata": {
        "id": "QtHlwTqkxNPX"
      },
      "source": [
        "Visualize the probabilities of a sample image"
      ]
    },
    {
      "cell_type": "code",
      "execution_count": 42,
      "metadata": {
        "id": "iRiw1NYQVWoH"
      },
      "outputs": [
        {
          "data": {
            "text/plain": [
              "<BarContainer object of 10 artists>"
            ]
          },
          "execution_count": 42,
          "metadata": {},
          "output_type": "execute_result"
        },
        {
          "data": {
            "image/png": "[encoded data removed]",
            "text/plain": [
              "<Figure size 1000x500 with 1 Axes>"
            ]
          },
          "metadata": {},
          "output_type": "display_data"
        }
      ],
      "source": [
        "# set width of bar\n",
        "barWidth = 0.25\n",
        "fig = plt.figure(figsize = (10, 5))\n",
        "x = np.arange(0,10)\n",
        "y = pred_probs.detach().numpy()[0] # probability values of sample image 0\n",
        "plt.bar(x, y, color ='blue',width = 0.4)"
      ]
    },
    {
      "cell_type": "code",
      "execution_count": 43,
      "metadata": {
        "id": "oJBGGVn2HZPF"
      },
      "outputs": [
        {
          "data": {
            "text/plain": [
              "<matplotlib.image.AxesImage at 0x19907b5f6d0>"
            ]
          },
          "execution_count": 43,
          "metadata": {},
          "output_type": "execute_result"
        },
        {
          "data": {
            "image/png": "[encoded data removed]",
            "text/plain": [
              "<Figure size 640x480 with 1 Axes>"
            ]
          },
          "metadata": {},
          "output_type": "display_data"
        }
      ],
      "source": [
        "# see a sample image\n",
        "plt.imshow(images[0].numpy().squeeze(), cmap='gray_r')"
      ]
    },
    {
      "cell_type": "code",
      "execution_count": 44,
      "metadata": {
        "id": "x7Rq1b7CFffH"
      },
      "outputs": [
        {
          "name": "stdout",
          "output_type": "stream",
          "text": [
            "tensor(6)\n"
          ]
        }
      ],
      "source": [
        "# print the ground truth label\n",
        "print(gt_labels[0])"
      ]
    },
    {
      "cell_type": "code",
      "execution_count": 45,
      "metadata": {
        "id": "h3Y6AxlxHFZ3"
      },
      "outputs": [
        {
          "name": "stdout",
          "output_type": "stream",
          "text": [
            "tensor([0, 0, 0, 0, 0, 0, 1, 0, 0, 0])\n"
          ]
        }
      ],
      "source": [
        "# print the ground truth onehot representation\n",
        "print(onehot_labels[0])"
      ]
    },
    {
      "cell_type": "code",
      "execution_count": 46,
      "metadata": {
        "id": "6TMBNlKDFaNA"
      },
      "outputs": [
        {
          "name": "stdout",
          "output_type": "stream",
          "text": [
            "tensor([0.1099, 0.0944, 0.1044, 0.1035, 0.1133, 0.0960, 0.0911, 0.0910, 0.0905,\n",
            "        0.1058], grad_fn=<SelectBackward0>)\n"
          ]
        }
      ],
      "source": [
        "# print the predicted probabilities for the sample image\n",
        "print(pred_probs[0])"
      ]
    },
    {
      "cell_type": "code",
      "execution_count": 47,
      "metadata": {
        "id": "pnQV51wWICMW"
      },
      "outputs": [
        {
          "name": "stdout",
          "output_type": "stream",
          "text": [
            "tensor(4)\n"
          ]
        }
      ],
      "source": [
        "# print the predicted class number for the sample image\n",
        "print(torch.argmax(pred_probs[0], dim=-1))"
      ]
    },
    {
      "cell_type": "code",
      "execution_count": 48,
      "metadata": {
        "id": "-6gzqPyVIYcw"
      },
      "outputs": [
        {
          "name": "stdout",
          "output_type": "stream",
          "text": [
            "tensor([6, 9, 9, 7, 4, 6, 0, 8])\n"
          ]
        }
      ],
      "source": [
        "# print the ground truth labels of the minibatch\n",
        "print(gt_labels)"
      ]
    },
    {
      "cell_type": "code",
      "execution_count": 49,
      "metadata": {
        "id": "VslLn44lIafp"
      },
      "outputs": [
        {
          "name": "stdout",
          "output_type": "stream",
          "text": [
            "tensor([4, 4, 4, 4, 4, 4, 4, 4])\n"
          ]
        }
      ],
      "source": [
        "# print the predicted labels of the minibatch\n",
        "print(torch.argmax(pred_probs, dim=-1))"
      ]
    },
    {
      "cell_type": "markdown",
      "metadata": {
        "id": "qm0bbo1tMEI1"
      },
      "source": [
        "The predictions are probably wrong ! The model is not trained yet. Lets see by what factor our predictions are off."
      ]
    },
    {
      "cell_type": "code",
      "execution_count": 61,
      "metadata": {
        "id": "azb9fXuwuyus"
      },
      "outputs": [],
      "source": [
        "criterion = nn.CrossEntropyLoss()\n",
        "loss = criterion(pred_probs, gt_labels)"
      ]
    },
    {
      "cell_type": "code",
      "execution_count": 54,
      "metadata": {},
      "outputs": [
        {
          "name": "stderr",
          "output_type": "stream",
          "text": [
            "C:\\Users\\SNU\\AppData\\Local\\Temp\\ipykernel_13488\\2335978560.py:5: RuntimeWarning: divide by zero encountered in log\n",
            "  loss = -np.log(predicted_probabilities)  # Binary cross-entropy loss for y=1\n"
          ]
        },
        {
          "data": {
            "image/png": "[encoded data removed]",
            "text/plain": [
              "<Figure size 640x480 with 1 Axes>"
            ]
          },
          "metadata": {},
          "output_type": "display_data"
        }
      ],
      "source": [
        "import matplotlib.pyplot as plt\n",
        "import numpy as np\n",
        "\n",
        "predicted_probabilities = np.linspace(0, 1, num=100)  # Range of predicted probabilities from 0 to 1\n",
        "loss = -np.log(predicted_probabilities)  # Binary cross-entropy loss for y=1\n",
        "\n",
        "plt.plot(predicted_probabilities, loss)\n",
        "plt.xlabel('Predicted Probability')\n",
        "plt.ylabel('Binary Cross-Entropy Loss')\n",
        "plt.title('Loss Plot for Binary Cross-Entropy (y=1)')\n",
        "plt.show()\n"
      ]
    },
    {
      "cell_type": "code",
      "execution_count": 55,
      "metadata": {},
      "outputs": [
        {
          "name": "stderr",
          "output_type": "stream",
          "text": [
            "C:\\Users\\SNU\\AppData\\Local\\Temp\\ipykernel_13488\\1205648033.py:5: RuntimeWarning: divide by zero encountered in log\n",
            "  loss = -np.log(1 - predicted_probabilities)  # Binary cross-entropy loss for y=0\n"
          ]
        },
        {
          "data": {
            "image/png": "[encoded data removed]",
            "text/plain": [
              "<Figure size 640x480 with 1 Axes>"
            ]
          },
          "metadata": {},
          "output_type": "display_data"
        }
      ],
      "source": [
        "import matplotlib.pyplot as plt\n",
        "import numpy as np\n",
        "\n",
        "predicted_probabilities = np.linspace(0, 1, num=100)  # Range of predicted probabilities from 0 to 1\n",
        "loss = -np.log(1 - predicted_probabilities)  # Binary cross-entropy loss for y=0\n",
        "\n",
        "plt.plot(predicted_probabilities, loss)\n",
        "plt.xlabel('Predicted Probability')\n",
        "plt.ylabel('Binary Cross-Entropy Loss')\n",
        "plt.title('Loss Plot for Binary Cross-Entropy (y=0)')\n",
        "plt.show()\n"
      ]
    },
    {
      "cell_type": "markdown",
      "metadata": {
        "id": "lwOjqpihNXE7"
      },
      "source": [
        "![binaryCE.png](data:image/png;base64,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)"
      ]
    },
    {
      "cell_type": "code",
      "execution_count": 62,
      "metadata": {
        "id": "vWbA2mQHLLkZ"
      },
      "outputs": [
        {
          "name": "stdout",
          "output_type": "stream",
          "text": [
            "tensor(2.3026, grad_fn=<NllLossBackward0>)\n"
          ]
        }
      ],
      "source": [
        "print(loss)"
      ]
    },
    {
      "cell_type": "markdown",
      "metadata": {
        "id": "VFOu2DDNPAju"
      },
      "source": [
        "# Lets do backpropogation"
      ]
    },
    {
      "cell_type": "markdown",
      "metadata": {
        "id": "k-O27KRr2aql"
      },
      "source": [
        "Model weights before backpropogation"
      ]
    },
    {
      "cell_type": "code",
      "execution_count": 63,
      "metadata": {
        "id": "-NyhAIam0XyC"
      },
      "outputs": [
        {
          "name": "stdout",
          "output_type": "stream",
          "text": [
            "sum of model weights : -0.27495768666267395\n",
            "mean of model weights : -3.356417073518969e-05\n",
            "standard deviation of model weights : 0.0510270930826664\n",
            "Weights of input layer : \n",
            "Parameter containing:\n",
            "tensor([[-0.0333,  0.0220, -0.0491,  ..., -0.0777, -0.0560, -0.0778],\n",
            "        [-0.0468, -0.0290,  0.0658,  ...,  0.0505,  0.0456,  0.0839],\n",
            "        [-0.0008, -0.0132,  0.0112,  ..., -0.0096, -0.0020,  0.0586],\n",
            "        ...,\n",
            "        [ 0.0065, -0.0071, -0.0065,  ..., -0.0347,  0.0573,  0.0741],\n",
            "        [ 0.0831, -0.0435,  0.0218,  ...,  0.0501,  0.0346,  0.0826],\n",
            "        [-0.0608, -0.0472, -0.0249,  ...,  0.0006, -0.0452, -0.0237]],\n",
            "       requires_grad=True)\n"
          ]
        }
      ],
      "source": [
        "print(f\"sum of model weights : {model[2].weight.sum()}\")\n",
        "print(f\"mean of model weights : {model[2].weight.mean()}\")\n",
        "print(f\"standard deviation of model weights : {model[2].weight.std()}\")\n",
        "print(\"Weights of input layer : \")\n",
        "print(model[2].weight)"
      ]
    },
    {
      "cell_type": "markdown",
      "metadata": {
        "id": "tAz3YDXG3OZf"
      },
      "source": [
        "Gradients of the input layer before backpropogation"
      ]
    },
    {
      "cell_type": "code",
      "execution_count": 64,
      "metadata": {
        "id": "fGuhd-FX3MfI"
      },
      "outputs": [
        {
          "name": "stdout",
          "output_type": "stream",
          "text": [
            "None\n"
          ]
        }
      ],
      "source": [
        "print(model[2].weight.grad)"
      ]
    },
    {
      "cell_type": "markdown",
      "metadata": {
        "id": "3UqZo_PX4lhQ"
      },
      "source": [
        "Initialize the optimizer"
      ]
    },
    {
      "cell_type": "code",
      "execution_count": 65,
      "metadata": {
        "id": "vcvhdMS32Yxy"
      },
      "outputs": [],
      "source": [
        "optimizer = optim.SGD(model.parameters(), lr=0.003, momentum=0.9)"
      ]
    },
    {
      "cell_type": "code",
      "execution_count": null,
      "metadata": {},
      "outputs": [],
      "source": []
    },
    {
      "cell_type": "markdown",
      "metadata": {
        "id": "sUFnLhKK4e8d"
      },
      "source": [
        "Calculate the gradients"
      ]
    },
    {
      "cell_type": "code",
      "execution_count": 66,
      "metadata": {
        "id": "MD2UJ9SD4agE"
      },
      "outputs": [],
      "source": [
        "loss.backward()"
      ]
    },
    {
      "cell_type": "code",
      "execution_count": 67,
      "metadata": {
        "id": "TQivU7iD4vhs"
      },
      "outputs": [
        {
          "name": "stdout",
          "output_type": "stream",
          "text": [
            "tensor([[ 5.3054e-05,  2.0202e-04, -1.4494e-05,  ...,  3.7824e-05,\n",
            "         -1.0852e-07,  4.9725e-05],\n",
            "        [ 3.8176e-05, -3.7528e-06,  7.7557e-05,  ...,  0.0000e+00,\n",
            "          7.4782e-06, -6.8778e-05],\n",
            "        [ 0.0000e+00,  0.0000e+00,  0.0000e+00,  ...,  0.0000e+00,\n",
            "          0.0000e+00,  0.0000e+00],\n",
            "        ...,\n",
            "        [ 1.2314e-05, -2.8954e-04, -1.1511e-04,  ...,  0.0000e+00,\n",
            "          0.0000e+00,  2.4241e-05],\n",
            "        [ 8.1321e-05,  3.6352e-04, -3.3287e-04,  ...,  2.1557e-05,\n",
            "          9.9157e-06,  1.0238e-04],\n",
            "        [ 0.0000e+00,  0.0000e+00,  0.0000e+00,  ...,  0.0000e+00,\n",
            "          0.0000e+00,  0.0000e+00]])\n"
          ]
        }
      ],
      "source": [
        "print(model[2].weight.grad)"
      ]
    },
    {
      "cell_type": "markdown",
      "metadata": {
        "id": "duUxpiDP44h1"
      },
      "source": [
        "Check if the model weights are changed"
      ]
    },
    {
      "cell_type": "code",
      "execution_count": 68,
      "metadata": {
        "id": "UJ-b0cBj4toL"
      },
      "outputs": [
        {
          "name": "stdout",
          "output_type": "stream",
          "text": [
            "sum of model weights : -0.27495768666267395\n",
            "mean of model weights : -3.356417073518969e-05\n",
            "standard deviation of model weights : 0.0510270930826664\n",
            "Weights of input layer : \n",
            "Parameter containing:\n",
            "tensor([[-0.0333,  0.0220, -0.0491,  ..., -0.0777, -0.0560, -0.0778],\n",
            "        [-0.0468, -0.0290,  0.0658,  ...,  0.0505,  0.0456,  0.0839],\n",
            "        [-0.0008, -0.0132,  0.0112,  ..., -0.0096, -0.0020,  0.0586],\n",
            "        ...,\n",
            "        [ 0.0065, -0.0071, -0.0065,  ..., -0.0347,  0.0573,  0.0741],\n",
            "        [ 0.0831, -0.0435,  0.0218,  ...,  0.0501,  0.0346,  0.0826],\n",
            "        [-0.0608, -0.0472, -0.0249,  ...,  0.0006, -0.0452, -0.0237]],\n",
            "       requires_grad=True)\n"
          ]
        }
      ],
      "source": [
        "print(f\"sum of model weights : {model[2].weight.sum()}\")\n",
        "print(f\"mean of model weights : {model[2].weight.mean()}\")\n",
        "print(f\"standard deviation of model weights : {model[2].weight.std()}\")\n",
        "print(\"Weights of input layer : \")\n",
        "print(model[2].weight)\n",
        "# The model weights are unchanged as we have only calculated the gradients\n",
        "# Now, lets update the weights based on the gradients"
      ]
    },
    {
      "cell_type": "markdown",
      "metadata": {
        "id": "lBwxJ2zd5bR5"
      },
      "source": [
        "Run the optimizer"
      ]
    },
    {
      "cell_type": "code",
      "execution_count": 69,
      "metadata": {
        "id": "ZcPjp4TB5Ymr"
      },
      "outputs": [],
      "source": [
        "optimizer.step()"
      ]
    },
    {
      "cell_type": "markdown",
      "metadata": {
        "id": "drwk0aR455i-"
      },
      "source": [
        "Lets check if the weights are updated"
      ]
    },
    {
      "cell_type": "code",
      "execution_count": 70,
      "metadata": {
        "id": "bw4nYclQ5fzv"
      },
      "outputs": [
        {
          "name": "stdout",
          "output_type": "stream",
          "text": [
            "sum of model weights : -0.27480101585388184\n",
            "mean of model weights : -3.354504588060081e-05\n",
            "standard deviation of model weights : 0.051027096807956696\n",
            "Weights of input layer : \n",
            "Parameter containing:\n",
            "tensor([[-0.0333,  0.0220, -0.0491,  ..., -0.0777, -0.0560, -0.0778],\n",
            "        [-0.0468, -0.0290,  0.0658,  ...,  0.0505,  0.0456,  0.0839],\n",
            "        [-0.0008, -0.0132,  0.0112,  ..., -0.0096, -0.0020,  0.0586],\n",
            "        ...,\n",
            "        [ 0.0065, -0.0071, -0.0065,  ..., -0.0347,  0.0573,  0.0741],\n",
            "        [ 0.0831, -0.0435,  0.0218,  ...,  0.0501,  0.0346,  0.0826],\n",
            "        [-0.0608, -0.0472, -0.0249,  ...,  0.0006, -0.0452, -0.0237]],\n",
            "       requires_grad=True)\n"
          ]
        }
      ],
      "source": [
        "print(f\"sum of model weights : {model[2].weight.sum()}\")\n",
        "print(f\"mean of model weights : {model[2].weight.mean()}\")\n",
        "print(f\"standard deviation of model weights : {model[2].weight.std()}\")\n",
        "print(\"Weights of input layer : \")\n",
        "print(model[2].weight)\n",
        "# Although infinitesimally small, the weights are changed"
      ]
    },
    {
      "cell_type": "markdown",
      "metadata": {
        "id": "GgZgs_bPQMwg"
      },
      "source": [
        "# Model Training"
      ]
    },
    {
      "cell_type": "markdown",
      "metadata": {
        "id": "GDI9IY_dQTs2"
      },
      "source": [
        "Initialize the optimizer, total epochs etc."
      ]
    },
    {
      "cell_type": "code",
      "execution_count": 71,
      "metadata": {
        "id": "M0oTvDq2QiuB"
      },
      "outputs": [],
      "source": [
        "model = create_model()\n",
        "optimizer = optim.SGD(model.parameters(), lr=0.003, momentum=0.9)\n",
        "epochs = 2"
      ]
    },
    {
      "cell_type": "code",
      "execution_count": 72,
      "metadata": {
        "id": "2wXACm0PN1eN"
      },
      "outputs": [
        {
          "name": "stdout",
          "output_type": "stream",
          "text": [
            "Epoch 0 - Training loss: 1.813311279741923\n",
            "\n",
            "Epoch 1 - Training loss: 1.564475705242157\n",
            "\n",
            "Training Time (in minutes) = 0.43599026997884116\n"
          ]
        }
      ],
      "source": [
        "time_init = time() # record the time at which training started\n",
        "\n",
        "for e in range(epochs):\n",
        "    running_loss = 0\n",
        "    for images, gt_labels in trainloader:\n",
        "        # Flatten MNIST images into a 784 long vector\n",
        "        images = images.view(images.shape[0], -1)\n",
        "    \n",
        "        # Training pass\n",
        "        optimizer.zero_grad() # reset the gradients of model weights\n",
        "        \n",
        "        output = model(images)\n",
        "        loss = criterion(output, gt_labels)\n",
        "        \n",
        "        # Calculate the gradients of the learnable parameters\n",
        "        loss.backward()\n",
        "        \n",
        "        # Modify the model weights as per the gradients\n",
        "        optimizer.step()\n",
        "        \n",
        "        running_loss += loss.item()\n",
        "\n",
        "    average_loss = running_loss/len(trainloader)\n",
        "    print(f\"Epoch {e} - Training loss: {average_loss}\\n\")\n",
        "print(f\"Training Time (in minutes) = {(time()-time_init)/60}\")"
      ]
    },
    {
      "cell_type": "markdown",
      "metadata": {
        "id": "vRYmDHVSSt9A"
      },
      "source": [
        "# Model Validation"
      ]
    },
    {
      "cell_type": "code",
      "execution_count": 73,
      "metadata": {
        "id": "8Hq8lOWPaT42"
      },
      "outputs": [],
      "source": [
        "images, gt_labels = next(iter(valloader))\n",
        "\n",
        "with torch.no_grad():\n",
        "    pred_probs = model(images.view(images.shape[0], -1))\n",
        "\n",
        "predicted_labels = torch.argmax(pred_probs, dim=-1)"
      ]
    },
    {
      "cell_type": "markdown",
      "metadata": {
        "id": "tFxvCQMzS9PD"
      },
      "source": [
        "Lets visualize the validation input images"
      ]
    },
    {
      "cell_type": "code",
      "execution_count": 74,
      "metadata": {
        "id": "wPcgl8JKTmu5"
      },
      "outputs": [
        {
          "data": {
            "image/png": "[encoded data removed]",
            "text/plain": [
              "<Figure size 640x480 with 8 Axes>"
            ]
          },
          "metadata": {},
          "output_type": "display_data"
        }
      ],
      "source": [
        "# Visualize all images in the minibatch\n",
        "figure = plt.figure()\n",
        "total_samples = 8\n",
        "for index in range(1,total_samples+1):\n",
        "    plt.subplot(2, 4, index)\n",
        "    plt.axis('off')\n",
        "    plt.imshow(images[index-1].numpy().squeeze(), cmap='gray_r')"
      ]
    },
    {
      "cell_type": "markdown",
      "metadata": {
        "id": "Iuw_0SKgTq3o"
      },
      "source": [
        "Ground truth class labels"
      ]
    },
    {
      "cell_type": "code",
      "execution_count": 75,
      "metadata": {
        "id": "UfGjJk_Ga4Uz"
      },
      "outputs": [
        {
          "name": "stdout",
          "output_type": "stream",
          "text": [
            "Ground truth labels : tensor([0, 3, 8, 8, 8, 1, 2, 9])\n"
          ]
        }
      ],
      "source": [
        "print(f\"Ground truth labels : {gt_labels}\")"
      ]
    },
    {
      "cell_type": "markdown",
      "metadata": {
        "id": "1EhHsTcoT5Lg"
      },
      "source": [
        "Predicted class labels"
      ]
    },
    {
      "cell_type": "code",
      "execution_count": 76,
      "metadata": {
        "id": "GsrexeF1bUJH"
      },
      "outputs": [
        {
          "name": "stdout",
          "output_type": "stream",
          "text": [
            "Predicted labels : tensor([0, 3, 8, 5, 8, 1, 2, 9])\n"
          ]
        }
      ],
      "source": [
        "print(f\"Predicted labels : {predicted_labels}\",)"
      ]
    },
    {
      "cell_type": "markdown",
      "metadata": {
        "id": "AMj2RvslDoYl"
      },
      "source": [
        "Calculate the accuracy for the minibatch of validation data"
      ]
    },
    {
      "cell_type": "code",
      "execution_count": 77,
      "metadata": {
        "id": "HglyDz4SDuDx"
      },
      "outputs": [
        {
          "name": "stdout",
          "output_type": "stream",
          "text": [
            "The accuracy on the minibatch is : 0.875\n"
          ]
        }
      ],
      "source": [
        "correct_count = 0\n",
        "total_count = 0\n",
        "for i in range(len(gt_labels)):\n",
        "  img = images[i].view(1, 784)\n",
        "  if predicted_labels[i]==gt_labels[i]:\n",
        "    correct_count = correct_count+1\n",
        "  total_count = total_count+1\n",
        "accuracy = correct_count/total_count\n",
        "print(f\"The accuracy on the minibatch is : {accuracy}\")"
      ]
    },
    {
      "cell_type": "markdown",
      "metadata": {
        "id": "m0WmXMokDVe5"
      },
      "source": [
        "Lets go through all the validation images and calculate the overall accuracy"
      ]
    },
    {
      "cell_type": "code",
      "execution_count": 78,
      "metadata": {
        "id": "c8USdqKtnMKo"
      },
      "outputs": [
        {
          "name": "stdout",
          "output_type": "stream",
          "text": [
            "Number of validation images = 10000\n",
            "\n",
            "Model Accuracy = 0.9118\n"
          ]
        }
      ],
      "source": [
        "correct_count = 0\n",
        "total_count = 0\n",
        "\n",
        "for images,gt_labels in valloader:\n",
        "  pred_probs = model(images.view(images.shape[0], -1))\n",
        "  predicted_labels = torch.argmax(pred_probs, dim=-1)\n",
        "\n",
        "  for i in range(len(gt_labels)):\n",
        "    if predicted_labels[i]==gt_labels[i]:\n",
        "      correct_count = correct_count+1\n",
        "    total_count = total_count+1       \n",
        "\n",
        "accuracy = correct_count/total_count\n",
        "print(f\"Number of validation images = {total_count}\\n\")\n",
        "print(f\"Model Accuracy = {accuracy}\")"
      ]
    },
    {
      "cell_type": "code",
      "execution_count": 80,
      "metadata": {
        "id": "QhHawmdMOqwC"
      },
      "outputs": [],
      "source": [
        "torch.save(model, './first_mnist_model.pt') "
      ]
    },
    {
      "cell_type": "markdown",
      "metadata": {
        "id": "HvGewAkurCO8"
      },
      "source": [
        "# Better Training Loops"
      ]
    },
    {
      "cell_type": "markdown",
      "metadata": {
        "id": "nTWhclb4ty0h"
      },
      "source": [
        "- Add a progress bar for the training\n",
        "- After each epoch, validate the model to see if the model has converged or whether it is overfit\n"
      ]
    },
    {
      "cell_type": "code",
      "execution_count": 81,
      "metadata": {
        "id": "eOoU9_GirIE2"
      },
      "outputs": [],
      "source": [
        "model = create_model()\n",
        "optimizer = optim.SGD(model.parameters(), lr=0.003, momentum=0.9)\n",
        "epochs = 2\n",
        "best_accuracy = 0.0"
      ]
    },
    {
      "cell_type": "code",
      "execution_count": 82,
      "metadata": {
        "id": "TDSSSZJQrQc8"
      },
      "outputs": [
        {
          "name": "stderr",
          "output_type": "stream",
          "text": [
            "100%|██████████| 7500/7500 [00:13<00:00, 549.65it/s]\n"
          ]
        },
        {
          "name": "stdout",
          "output_type": "stream",
          "text": [
            "\n",
            "Epoch 0 - Training loss: 1.8181120270411173, val accuracy : 0.8454\n"
          ]
        },
        {
          "name": "stderr",
          "output_type": "stream",
          "text": [
            "100%|██████████| 7500/7500 [00:13<00:00, 563.81it/s]\n"
          ]
        },
        {
          "name": "stdout",
          "output_type": "stream",
          "text": [
            "\n",
            "Epoch 1 - Training loss: 1.6204581001122793, val accuracy : 0.8556\n",
            "Training Time (in minutes) = 0.4983339468638102\n"
          ]
        }
      ],
      "source": [
        "time_init = time() # record the time at which training started\n",
        "\n",
        "for e in range(epochs):\n",
        "    running_loss = 0\n",
        "    for images, gt_labels in tqdm(trainloader):\n",
        "        # Flatten MNIST images into a 784 long vector\n",
        "        images = images.view(images.shape[0], -1)\n",
        "    \n",
        "        # Training pass\n",
        "        optimizer.zero_grad() # reset the gradients of model weights\n",
        "        \n",
        "        output = model(images)\n",
        "        loss = criterion(output, gt_labels)\n",
        "        \n",
        "        # Calculate the gradients of the learnable parameters\n",
        "        loss.backward()\n",
        "        \n",
        "        # Modify the model weights as per the gradients\n",
        "        optimizer.step()\n",
        "        \n",
        "        running_loss += loss.item()\n",
        "    average_loss = running_loss/len(trainloader)\n",
        "    \n",
        "    # perform validation\n",
        "    correct_count = 0\n",
        "    total_count = 0\n",
        "    for images,gt_labels in valloader:\n",
        "      pred_probs = model(images.view(images.shape[0], -1))\n",
        "      predicted_labels = torch.argmax(pred_probs, dim=-1)\n",
        "\n",
        "      for i in range(len(gt_labels)):\n",
        "        if predicted_labels[i]==gt_labels[i]:\n",
        "          correct_count = correct_count+1\n",
        "        total_count = total_count+1       \n",
        "\n",
        "    accuracy = correct_count/total_count\n",
        "    \n",
        "    # save the model weights\n",
        "    if accuracy>=best_accuracy:\n",
        "      best_accuracy = accuracy\n",
        "      torch.save(model, './best_mnist_model.pt')\n",
        "    torch.save(model, './best_mnist_model.pt') \n",
        "\n",
        "    print(f\"\\nEpoch {e} - Training loss: {average_loss}, val accuracy : {accuracy}\")\n",
        "print(f\"Training Time (in minutes) = {(time()-time_init)/60}\")"
      ]
    },
    {
      "cell_type": "markdown",
      "metadata": {
        "id": "gIjcGX91vb8i"
      },
      "source": [
        "# Visualize the training progress"
      ]
    },
    {
      "cell_type": "markdown",
      "metadata": {
        "id": "ThLOiz0uvjGl"
      },
      "source": [
        "Lets visualize the trend of loss and accuracies over the course of the model training"
      ]
    },
    {
      "cell_type": "code",
      "execution_count": null,
      "metadata": {
        "id": "8yNy4R4aybFw"
      },
      "outputs": [],
      "source": [
        "# only for Google colab\n",
        "%load_ext tensorboard\n",
        "%tensorboard --logdir=runs --load_fast=false"
      ]
    },
    {
      "cell_type": "code",
      "execution_count": 86,
      "metadata": {
        "id": "X51F6zsNw0Fm"
      },
      "outputs": [],
      "source": [
        "from torch.utils.tensorboard import SummaryWriter\n",
        "summary_writer = SummaryWriter()"
      ]
    },
    {
      "cell_type": "code",
      "execution_count": 88,
      "metadata": {
        "id": "_93UkAkJvzaZ"
      },
      "outputs": [],
      "source": [
        "model = create_model()\n",
        "model.cuda()\n",
        "optimizer = optim.SGD(model.parameters(), lr=0.003, momentum=0.9)\n",
        "epochs = 100\n",
        "best_accuracy = 0.0"
      ]
    },
    {
      "cell_type": "code",
      "execution_count": 89,
      "metadata": {},
      "outputs": [
        {
          "name": "stderr",
          "output_type": "stream",
          "text": [
            "  0%|          | 0/7500 [00:00<?, ?it/s]\n"
          ]
        },
        {
          "ename": "AssertionError",
          "evalue": "Torch not compiled with CUDA enabled",
          "output_type": "error",
          "traceback": [
            "\u001b[1;31m---------------------------------------------------------------------------\u001b[0m",
            "\u001b[1;31mAssertionError\u001b[0m                            Traceback (most recent call last)",
            "Cell \u001b[1;32mIn[89], line 8\u001b[0m\n\u001b[0;32m      5\u001b[0m \u001b[39mfor\u001b[39;00m images, gt_labels \u001b[39min\u001b[39;00m tqdm(trainloader):\n\u001b[0;32m      6\u001b[0m     \u001b[39m# Flatten MNIST images into a 784 long vector\u001b[39;00m\n\u001b[0;32m      7\u001b[0m     images \u001b[39m=\u001b[39m images\u001b[39m.\u001b[39mview(images\u001b[39m.\u001b[39mshape[\u001b[39m0\u001b[39m], \u001b[39m-\u001b[39m\u001b[39m1\u001b[39m)\n\u001b[1;32m----> 8\u001b[0m     images \u001b[39m=\u001b[39m images\u001b[39m.\u001b[39;49mcuda()\n\u001b[0;32m      9\u001b[0m     gt_labels \u001b[39m=\u001b[39m gt_labels\u001b[39m.\u001b[39mcuda()\n\u001b[0;32m     11\u001b[0m     \u001b[39m# Training pass\u001b[39;00m\n",
            "File \u001b[1;32mc:\\Users\\SNU\\miniconda3\\lib\\site-packages\\torch\\cuda\\__init__.py:239\u001b[0m, in \u001b[0;36m_lazy_init\u001b[1;34m()\u001b[0m\n\u001b[0;32m    235\u001b[0m     \u001b[39mraise\u001b[39;00m \u001b[39mRuntimeError\u001b[39;00m(\n\u001b[0;32m    236\u001b[0m         \u001b[39m\"\u001b[39m\u001b[39mCannot re-initialize CUDA in forked subprocess. To use CUDA with \u001b[39m\u001b[39m\"\u001b[39m\n\u001b[0;32m    237\u001b[0m         \u001b[39m\"\u001b[39m\u001b[39mmultiprocessing, you must use the \u001b[39m\u001b[39m'\u001b[39m\u001b[39mspawn\u001b[39m\u001b[39m'\u001b[39m\u001b[39m start method\u001b[39m\u001b[39m\"\u001b[39m)\n\u001b[0;32m    238\u001b[0m \u001b[39mif\u001b[39;00m \u001b[39mnot\u001b[39;00m \u001b[39mhasattr\u001b[39m(torch\u001b[39m.\u001b[39m_C, \u001b[39m'\u001b[39m\u001b[39m_cuda_getDeviceCount\u001b[39m\u001b[39m'\u001b[39m):\n\u001b[1;32m--> 239\u001b[0m     \u001b[39mraise\u001b[39;00m \u001b[39mAssertionError\u001b[39;00m(\u001b[39m\"\u001b[39m\u001b[39mTorch not compiled with CUDA enabled\u001b[39m\u001b[39m\"\u001b[39m)\n\u001b[0;32m    240\u001b[0m \u001b[39mif\u001b[39;00m _cudart \u001b[39mis\u001b[39;00m \u001b[39mNone\u001b[39;00m:\n\u001b[0;32m    241\u001b[0m     \u001b[39mraise\u001b[39;00m \u001b[39mAssertionError\u001b[39;00m(\n\u001b[0;32m    242\u001b[0m         \u001b[39m\"\u001b[39m\u001b[39mlibcudart functions unavailable. It looks like you have a broken build?\u001b[39m\u001b[39m\"\u001b[39m)\n",
            "\u001b[1;31mAssertionError\u001b[0m: Torch not compiled with CUDA enabled"
          ]
        }
      ],
      "source": [
        "time_init = time() # record the time at which the training started\n",
        "\n",
        "for e in range(epochs):\n",
        "    running_loss = 0\n",
        "    for images, gt_labels in tqdm(trainloader):\n",
        "        # Flatten MNIST images into a 784 long vector\n",
        "        images = images.view(images.shape[0], -1)\n",
        "        images = images.cuda()\n",
        "        gt_labels = gt_labels.cuda()\n",
        "    \n",
        "        # Training pass\n",
        "        optimizer.zero_grad() # reset the gradients of model weights\n",
        "        \n",
        "        output = model(images)\n",
        "        loss = criterion(output, gt_labels)\n",
        "        \n",
        "        # Calculate the gradients of the learnable parameters\n",
        "        loss.backward()\n",
        "        \n",
        "        # Modify the model weights as per the gradients\n",
        "        optimizer.step()\n",
        "        \n",
        "        running_loss += loss.item()\n",
        "    average_loss = running_loss/len(trainloader)\n",
        "    \n",
        "    # perform validation\n",
        "    correct_count = 0\n",
        "    total_count = 0\n",
        "    for images,gt_labels in valloader:\n",
        "      images = images.cuda()\n",
        "      gt_labels = gt_labels.cuda()\n",
        "      pred_probs = model(images.view(images.shape[0], -1))\n",
        "      predicted_labels = torch.argmax(pred_probs, dim=-1)\n",
        "\n",
        "      for i in range(len(gt_labels)):\n",
        "        if predicted_labels[i]==gt_labels[i]:\n",
        "          correct_count = correct_count+1\n",
        "        total_count = total_count+1       \n",
        "\n",
        "    accuracy = correct_count/total_count\n",
        "\n",
        "    # save the model weights\n",
        "    if accuracy>=best_accuracy:\n",
        "      best_accuracy = accuracy\n",
        "      torch.save(model, './best_mnist_model.pt')\n",
        "    torch.save(model, './best_mnist_model.pt') \n",
        "\n",
        "    print(f\"\\nEpoch {e} - Training loss: {average_loss}, val accuracy : {accuracy}\")\n",
        "    summary_writer.add_scalar(\"train_loss\", average_loss, e)\n",
        "    summary_writer.add_scalar(\"val_accuracy\", accuracy, e)\n",
        "print(f\"Training Time (in minutes) = {(time()-time_init)/60}\")\n",
        "summary_writer.flush()\n",
        "summary_writer.close()"
      ]
    }
  ],
  "metadata": {
    "colab": {
      "collapsed_sections": [
        "wCn3pKjc_iTF",
        "NfSyK7w6_7Ba",
        "VFOu2DDNPAju",
        "GgZgs_bPQMwg"
      ],
      "private_outputs": true,
      "provenance": []
    },
    "gpuClass": "standard",
    "kernelspec": {
      "display_name": "Python 3.7.13 ('torchenv')",
      "language": "python",
      "name": "python3"
    },
    "language_info": {
      "codemirror_mode": {
        "name": "ipython",
        "version": 3
      },
      "file_extension": ".py",
      "mimetype": "text/x-python",
      "name": "python",
      "nbconvert_exporter": "python",
      "pygments_lexer": "ipython3",
      "version": "3.10.9"
    },
    "vscode": {
      "interpreter": {
        "hash": "b0c9fb112d4624b5e4fa7b873160be5d487c9f44e6948be985e0928a4033755e"
      }
    }
  },
  "nbformat": 4,
  "nbformat_minor": 0
}
